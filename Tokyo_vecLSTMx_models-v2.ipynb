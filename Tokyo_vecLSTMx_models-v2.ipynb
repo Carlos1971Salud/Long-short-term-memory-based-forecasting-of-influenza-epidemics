{
 "cells": [
  {
   "cell_type": "markdown",
   "id": "5ca331b2",
   "metadata": {},
   "source": [
    "# Load dataset & preprocessing"
   ]
  },
  {
   "cell_type": "code",
   "execution_count": 141,
   "id": "20b9b46c",
   "metadata": {},
   "outputs": [],
   "source": [
    "import pandas as pd\n",
    "import numpy as np\n",
    "import os\n",
    "\n",
    "root_dir = \"datasets/infuluenza/\"\n",
    "data_path = root_dir + \"Influenza2.csv\"\n",
    "exp_dir = \"datasets/infuluenza/vecLSTMx2/\"\n",
    "\n",
    "if not os.path.exists(exp_dir):\n",
    "    os.makedirs(exp_dir)\n",
    "\n",
    "df = pd.read_csv(data_path)"
   ]
  },
  {
   "cell_type": "code",
   "execution_count": 142,
   "id": "cfa585a9",
   "metadata": {},
   "outputs": [
    {
     "data": {
      "text/html": [
       "<div>\n",
       "<style scoped>\n",
       "    .dataframe tbody tr th:only-of-type {\n",
       "        vertical-align: middle;\n",
       "    }\n",
       "\n",
       "    .dataframe tbody tr th {\n",
       "        vertical-align: top;\n",
       "    }\n",
       "\n",
       "    .dataframe thead th {\n",
       "        text-align: right;\n",
       "    }\n",
       "</style>\n",
       "<table border=\"1\" class=\"dataframe\">\n",
       "  <thead>\n",
       "    <tr style=\"text-align: right;\">\n",
       "      <th></th>\n",
       "      <th>Flucases</th>\n",
       "      <th>Tempave</th>\n",
       "      <th>Rh</th>\n",
       "      <th>Rainfall</th>\n",
       "    </tr>\n",
       "  </thead>\n",
       "  <tbody>\n",
       "    <tr>\n",
       "      <th>count</th>\n",
       "      <td>48880.000000</td>\n",
       "      <td>48880.000000</td>\n",
       "      <td>48880.000000</td>\n",
       "      <td>1040.000000</td>\n",
       "    </tr>\n",
       "    <tr>\n",
       "      <th>mean</th>\n",
       "      <td>523.660495</td>\n",
       "      <td>15.686540</td>\n",
       "      <td>69.011498</td>\n",
       "      <td>31.407692</td>\n",
       "    </tr>\n",
       "    <tr>\n",
       "      <th>std</th>\n",
       "      <td>1421.128437</td>\n",
       "      <td>8.489355</td>\n",
       "      <td>8.936186</td>\n",
       "      <td>41.329507</td>\n",
       "    </tr>\n",
       "    <tr>\n",
       "      <th>min</th>\n",
       "      <td>0.000000</td>\n",
       "      <td>-7.485714</td>\n",
       "      <td>28.000000</td>\n",
       "      <td>0.000000</td>\n",
       "    </tr>\n",
       "    <tr>\n",
       "      <th>25%</th>\n",
       "      <td>1.000000</td>\n",
       "      <td>8.257143</td>\n",
       "      <td>63.285714</td>\n",
       "      <td>3.500000</td>\n",
       "    </tr>\n",
       "    <tr>\n",
       "      <th>50%</th>\n",
       "      <td>21.000000</td>\n",
       "      <td>16.242857</td>\n",
       "      <td>69.571429</td>\n",
       "      <td>18.000000</td>\n",
       "    </tr>\n",
       "    <tr>\n",
       "      <th>75%</th>\n",
       "      <td>338.000000</td>\n",
       "      <td>22.914286</td>\n",
       "      <td>75.342857</td>\n",
       "      <td>43.625000</td>\n",
       "    </tr>\n",
       "    <tr>\n",
       "      <th>max</th>\n",
       "      <td>26635.000000</td>\n",
       "      <td>32.071429</td>\n",
       "      <td>97.285714</td>\n",
       "      <td>337.500000</td>\n",
       "    </tr>\n",
       "  </tbody>\n",
       "</table>\n",
       "</div>"
      ],
      "text/plain": [
       "           Flucases       Tempave            Rh     Rainfall\n",
       "count  48880.000000  48880.000000  48880.000000  1040.000000\n",
       "mean     523.660495     15.686540     69.011498    31.407692\n",
       "std     1421.128437      8.489355      8.936186    41.329507\n",
       "min        0.000000     -7.485714     28.000000     0.000000\n",
       "25%        1.000000      8.257143     63.285714     3.500000\n",
       "50%       21.000000     16.242857     69.571429    18.000000\n",
       "75%      338.000000     22.914286     75.342857    43.625000\n",
       "max    26635.000000     32.071429     97.285714   337.500000"
      ]
     },
     "execution_count": 142,
     "metadata": {},
     "output_type": "execute_result"
    }
   ],
   "source": [
    "df[[\"Flucases\", \"Tempave\", \"Rh\", \"Rainfall\"]].describe()"
   ]
  },
  {
   "cell_type": "code",
   "execution_count": 143,
   "id": "d6b34ce4",
   "metadata": {},
   "outputs": [
    {
     "data": {
      "text/html": [
       "<div>\n",
       "<style scoped>\n",
       "    .dataframe tbody tr th:only-of-type {\n",
       "        vertical-align: middle;\n",
       "    }\n",
       "\n",
       "    .dataframe tbody tr th {\n",
       "        vertical-align: top;\n",
       "    }\n",
       "\n",
       "    .dataframe thead th {\n",
       "        text-align: right;\n",
       "    }\n",
       "</style>\n",
       "<table border=\"1\" class=\"dataframe\">\n",
       "  <thead>\n",
       "    <tr style=\"text-align: right;\">\n",
       "      <th></th>\n",
       "      <th>Alltime</th>\n",
       "      <th>Time</th>\n",
       "      <th>region</th>\n",
       "      <th>regnames</th>\n",
       "      <th>Longitude</th>\n",
       "      <th>Latitude</th>\n",
       "      <th>Altitude</th>\n",
       "      <th>Year</th>\n",
       "      <th>Month</th>\n",
       "      <th>Week</th>\n",
       "      <th>Flucases</th>\n",
       "      <th>Holiday</th>\n",
       "      <th>Tempave</th>\n",
       "      <th>Tempmin</th>\n",
       "      <th>Tempmax</th>\n",
       "      <th>Rh</th>\n",
       "      <th>Rainfall</th>\n",
       "    </tr>\n",
       "  </thead>\n",
       "  <tbody>\n",
       "    <tr>\n",
       "      <th>12480</th>\n",
       "      <td>12481</td>\n",
       "      <td>1</td>\n",
       "      <td>13</td>\n",
       "      <td>Tokyo</td>\n",
       "      <td>35.689185</td>\n",
       "      <td>139.691648</td>\n",
       "      <td>34.9</td>\n",
       "      <td>2000</td>\n",
       "      <td>1</td>\n",
       "      <td>1</td>\n",
       "      <td>818</td>\n",
       "      <td>2</td>\n",
       "      <td>9.528571</td>\n",
       "      <td>6.371429</td>\n",
       "      <td>13.385714</td>\n",
       "      <td>50.571429</td>\n",
       "      <td>1.0</td>\n",
       "    </tr>\n",
       "    <tr>\n",
       "      <th>12481</th>\n",
       "      <td>12482</td>\n",
       "      <td>2</td>\n",
       "      <td>13</td>\n",
       "      <td>Tokyo</td>\n",
       "      <td>35.689185</td>\n",
       "      <td>139.691648</td>\n",
       "      <td>34.9</td>\n",
       "      <td>2000</td>\n",
       "      <td>1</td>\n",
       "      <td>2</td>\n",
       "      <td>1167</td>\n",
       "      <td>3</td>\n",
       "      <td>8.642857</td>\n",
       "      <td>5.457143</td>\n",
       "      <td>12.000000</td>\n",
       "      <td>61.142857</td>\n",
       "      <td>41.5</td>\n",
       "    </tr>\n",
       "    <tr>\n",
       "      <th>12482</th>\n",
       "      <td>12483</td>\n",
       "      <td>3</td>\n",
       "      <td>13</td>\n",
       "      <td>Tokyo</td>\n",
       "      <td>35.689185</td>\n",
       "      <td>139.691648</td>\n",
       "      <td>34.9</td>\n",
       "      <td>2000</td>\n",
       "      <td>1</td>\n",
       "      <td>3</td>\n",
       "      <td>2562</td>\n",
       "      <td>2</td>\n",
       "      <td>6.828571</td>\n",
       "      <td>4.171429</td>\n",
       "      <td>9.500000</td>\n",
       "      <td>56.000000</td>\n",
       "      <td>24.0</td>\n",
       "    </tr>\n",
       "    <tr>\n",
       "      <th>12483</th>\n",
       "      <td>12484</td>\n",
       "      <td>4</td>\n",
       "      <td>13</td>\n",
       "      <td>Tokyo</td>\n",
       "      <td>35.689185</td>\n",
       "      <td>139.691648</td>\n",
       "      <td>34.9</td>\n",
       "      <td>2000</td>\n",
       "      <td>1</td>\n",
       "      <td>4</td>\n",
       "      <td>3781</td>\n",
       "      <td>2</td>\n",
       "      <td>5.342857</td>\n",
       "      <td>1.542857</td>\n",
       "      <td>9.400000</td>\n",
       "      <td>42.000000</td>\n",
       "      <td>0.0</td>\n",
       "    </tr>\n",
       "    <tr>\n",
       "      <th>12484</th>\n",
       "      <td>12485</td>\n",
       "      <td>5</td>\n",
       "      <td>13</td>\n",
       "      <td>Tokyo</td>\n",
       "      <td>35.689185</td>\n",
       "      <td>139.691648</td>\n",
       "      <td>34.9</td>\n",
       "      <td>2000</td>\n",
       "      <td>1</td>\n",
       "      <td>5</td>\n",
       "      <td>3903</td>\n",
       "      <td>2</td>\n",
       "      <td>7.214286</td>\n",
       "      <td>3.171429</td>\n",
       "      <td>11.585714</td>\n",
       "      <td>38.714286</td>\n",
       "      <td>0.0</td>\n",
       "    </tr>\n",
       "  </tbody>\n",
       "</table>\n",
       "</div>"
      ],
      "text/plain": [
       "       Alltime  Time  region regnames  Longitude    Latitude  Altitude  Year  \\\n",
       "12480    12481     1      13    Tokyo  35.689185  139.691648      34.9  2000   \n",
       "12481    12482     2      13    Tokyo  35.689185  139.691648      34.9  2000   \n",
       "12482    12483     3      13    Tokyo  35.689185  139.691648      34.9  2000   \n",
       "12483    12484     4      13    Tokyo  35.689185  139.691648      34.9  2000   \n",
       "12484    12485     5      13    Tokyo  35.689185  139.691648      34.9  2000   \n",
       "\n",
       "       Month  Week  Flucases  Holiday   Tempave   Tempmin    Tempmax  \\\n",
       "12480      1     1       818        2  9.528571  6.371429  13.385714   \n",
       "12481      1     2      1167        3  8.642857  5.457143  12.000000   \n",
       "12482      1     3      2562        2  6.828571  4.171429   9.500000   \n",
       "12483      1     4      3781        2  5.342857  1.542857   9.400000   \n",
       "12484      1     5      3903        2  7.214286  3.171429  11.585714   \n",
       "\n",
       "              Rh  Rainfall  \n",
       "12480  50.571429       1.0  \n",
       "12481  61.142857      41.5  \n",
       "12482  56.000000      24.0  \n",
       "12483  42.000000       0.0  \n",
       "12484  38.714286       0.0  "
      ]
     },
     "execution_count": 143,
     "metadata": {},
     "output_type": "execute_result"
    }
   ],
   "source": [
    "df_tokyo = df[df['regnames'].isin([\"Tokyo\"])]\n",
    "\n",
    "df_tokyo.head()"
   ]
  },
  {
   "cell_type": "code",
   "execution_count": 144,
   "id": "8858714b",
   "metadata": {},
   "outputs": [],
   "source": [
    "import matplotlib.pyplot as plt"
   ]
  },
  {
   "cell_type": "code",
   "execution_count": null,
   "id": "aaef683c",
   "metadata": {},
   "outputs": [],
   "source": []
  },
  {
   "cell_type": "code",
   "execution_count": 145,
   "id": "07d66e3e",
   "metadata": {},
   "outputs": [
    {
     "data": {
      "text/plain": [
       "(780, 260)"
      ]
     },
     "execution_count": 145,
     "metadata": {},
     "output_type": "execute_result"
    }
   ],
   "source": [
    "train_n = int(len(df_tokyo[\"Flucases\"])*0.75)\n",
    "test_n = int(len(df_tokyo[\"Flucases\"])*0.25)\n",
    "train_n, test_n"
   ]
  },
  {
   "cell_type": "code",
   "execution_count": 146,
   "id": "6e5f1dea",
   "metadata": {},
   "outputs": [],
   "source": [
    "train_steps = np.arange(train_n)\n",
    "test_steps = np.arange(train_n,train_n + test_n)"
   ]
  },
  {
   "cell_type": "code",
   "execution_count": 147,
   "id": "f57ca9f7",
   "metadata": {},
   "outputs": [],
   "source": [
    "columns = [\"Flucases\",\"Tempave\", \"Rh\", \"Holiday\", \"Rainfall\"]\n",
    "\n",
    "all_data = df_tokyo[columns]"
   ]
  },
  {
   "cell_type": "code",
   "execution_count": 148,
   "id": "15a2acb5",
   "metadata": {},
   "outputs": [],
   "source": [
    "train_df = all_data[columns][0:train_n]\n",
    "test_df = all_data[columns][train_n:train_n+test_n]"
   ]
  },
  {
   "cell_type": "code",
   "execution_count": 149,
   "id": "82e63f59",
   "metadata": {},
   "outputs": [
    {
     "data": {
      "text/html": [
       "<div>\n",
       "<style scoped>\n",
       "    .dataframe tbody tr th:only-of-type {\n",
       "        vertical-align: middle;\n",
       "    }\n",
       "\n",
       "    .dataframe tbody tr th {\n",
       "        vertical-align: top;\n",
       "    }\n",
       "\n",
       "    .dataframe thead th {\n",
       "        text-align: right;\n",
       "    }\n",
       "</style>\n",
       "<table border=\"1\" class=\"dataframe\">\n",
       "  <thead>\n",
       "    <tr style=\"text-align: right;\">\n",
       "      <th></th>\n",
       "      <th>Flucases</th>\n",
       "      <th>Tempave</th>\n",
       "      <th>Rh</th>\n",
       "      <th>Holiday</th>\n",
       "      <th>Rainfall</th>\n",
       "    </tr>\n",
       "  </thead>\n",
       "  <tbody>\n",
       "    <tr>\n",
       "      <th>12480</th>\n",
       "      <td>818</td>\n",
       "      <td>9.528571</td>\n",
       "      <td>50.571429</td>\n",
       "      <td>2</td>\n",
       "      <td>1.0</td>\n",
       "    </tr>\n",
       "    <tr>\n",
       "      <th>12481</th>\n",
       "      <td>1167</td>\n",
       "      <td>8.642857</td>\n",
       "      <td>61.142857</td>\n",
       "      <td>3</td>\n",
       "      <td>41.5</td>\n",
       "    </tr>\n",
       "    <tr>\n",
       "      <th>12482</th>\n",
       "      <td>2562</td>\n",
       "      <td>6.828571</td>\n",
       "      <td>56.000000</td>\n",
       "      <td>2</td>\n",
       "      <td>24.0</td>\n",
       "    </tr>\n",
       "    <tr>\n",
       "      <th>12483</th>\n",
       "      <td>3781</td>\n",
       "      <td>5.342857</td>\n",
       "      <td>42.000000</td>\n",
       "      <td>2</td>\n",
       "      <td>0.0</td>\n",
       "    </tr>\n",
       "    <tr>\n",
       "      <th>12484</th>\n",
       "      <td>3903</td>\n",
       "      <td>7.214286</td>\n",
       "      <td>38.714286</td>\n",
       "      <td>2</td>\n",
       "      <td>0.0</td>\n",
       "    </tr>\n",
       "  </tbody>\n",
       "</table>\n",
       "</div>"
      ],
      "text/plain": [
       "       Flucases   Tempave         Rh  Holiday  Rainfall\n",
       "12480       818  9.528571  50.571429        2       1.0\n",
       "12481      1167  8.642857  61.142857        3      41.5\n",
       "12482      2562  6.828571  56.000000        2      24.0\n",
       "12483      3781  5.342857  42.000000        2       0.0\n",
       "12484      3903  7.214286  38.714286        2       0.0"
      ]
     },
     "execution_count": 149,
     "metadata": {},
     "output_type": "execute_result"
    }
   ],
   "source": [
    "train_df.head()"
   ]
  },
  {
   "cell_type": "code",
   "execution_count": 150,
   "id": "686fe0d2",
   "metadata": {},
   "outputs": [
    {
     "data": {
      "text/html": [
       "<div>\n",
       "<style scoped>\n",
       "    .dataframe tbody tr th:only-of-type {\n",
       "        vertical-align: middle;\n",
       "    }\n",
       "\n",
       "    .dataframe tbody tr th {\n",
       "        vertical-align: top;\n",
       "    }\n",
       "\n",
       "    .dataframe thead th {\n",
       "        text-align: right;\n",
       "    }\n",
       "</style>\n",
       "<table border=\"1\" class=\"dataframe\">\n",
       "  <thead>\n",
       "    <tr style=\"text-align: right;\">\n",
       "      <th></th>\n",
       "      <th>Flucases</th>\n",
       "      <th>Tempave</th>\n",
       "      <th>Rh</th>\n",
       "      <th>Holiday</th>\n",
       "      <th>Rainfall</th>\n",
       "    </tr>\n",
       "  </thead>\n",
       "  <tbody>\n",
       "    <tr>\n",
       "      <th>13260</th>\n",
       "      <td>3809</td>\n",
       "      <td>5.357143</td>\n",
       "      <td>47.142857</td>\n",
       "      <td>3</td>\n",
       "      <td>6.5</td>\n",
       "    </tr>\n",
       "    <tr>\n",
       "      <th>13261</th>\n",
       "      <td>9892</td>\n",
       "      <td>6.285714</td>\n",
       "      <td>38.285714</td>\n",
       "      <td>2</td>\n",
       "      <td>35.5</td>\n",
       "    </tr>\n",
       "    <tr>\n",
       "      <th>13262</th>\n",
       "      <td>8198</td>\n",
       "      <td>5.628571</td>\n",
       "      <td>53.857143</td>\n",
       "      <td>3</td>\n",
       "      <td>19.0</td>\n",
       "    </tr>\n",
       "    <tr>\n",
       "      <th>13263</th>\n",
       "      <td>9625</td>\n",
       "      <td>6.771429</td>\n",
       "      <td>63.714286</td>\n",
       "      <td>2</td>\n",
       "      <td>31.5</td>\n",
       "    </tr>\n",
       "    <tr>\n",
       "      <th>13264</th>\n",
       "      <td>7844</td>\n",
       "      <td>4.228571</td>\n",
       "      <td>49.000000</td>\n",
       "      <td>2</td>\n",
       "      <td>9.0</td>\n",
       "    </tr>\n",
       "  </tbody>\n",
       "</table>\n",
       "</div>"
      ],
      "text/plain": [
       "       Flucases   Tempave         Rh  Holiday  Rainfall\n",
       "13260      3809  5.357143  47.142857        3       6.5\n",
       "13261      9892  6.285714  38.285714        2      35.5\n",
       "13262      8198  5.628571  53.857143        3      19.0\n",
       "13263      9625  6.771429  63.714286        2      31.5\n",
       "13264      7844  4.228571  49.000000        2       9.0"
      ]
     },
     "execution_count": 150,
     "metadata": {},
     "output_type": "execute_result"
    }
   ],
   "source": [
    "test_df.head()"
   ]
  },
  {
   "cell_type": "markdown",
   "id": "a16ff1c5",
   "metadata": {},
   "source": [
    "trainとtestのdfを作る"
   ]
  },
  {
   "cell_type": "code",
   "execution_count": 151,
   "id": "ff4f21be",
   "metadata": {},
   "outputs": [],
   "source": [
    "train_ts_df = train_df[\"Flucases\"]\n",
    "train_ys_df = train_df[[\"Tempave\", \"Rh\"]]\n",
    "train_zs_df = train_df[[\"Rainfall\"]]\n",
    "train_xs_df = train_df[\"Holiday\"]\n",
    "\n",
    "test_ts_df = test_df[\"Flucases\"]\n",
    "test_ys_df = test_df[[\"Tempave\", \"Rh\", \"Rainfall\"]]\n",
    "test_xs_df = test_df[\"Holiday\"]"
   ]
  },
  {
   "cell_type": "code",
   "execution_count": 152,
   "id": "b42f5863",
   "metadata": {},
   "outputs": [],
   "source": [
    "from sklearn.preprocessing import StandardScaler, MinMaxScaler\n",
    "std_scaler = StandardScaler()\n",
    "\n",
    "std_scaler.fit(train_ys_df)\n",
    "train_scaled_ys = std_scaler.transform(train_ys_df)"
   ]
  },
  {
   "cell_type": "code",
   "execution_count": 153,
   "id": "ba67628e",
   "metadata": {},
   "outputs": [
    {
     "data": {
      "text/plain": [
       "['datasets/infuluenza/vecLSTMx2/std_scaler.joblib']"
      ]
     },
     "execution_count": 153,
     "metadata": {},
     "output_type": "execute_result"
    }
   ],
   "source": [
    "import joblib\n",
    "\n",
    "joblib.dump(std_scaler, exp_dir + 'std_scaler.joblib')"
   ]
  },
  {
   "cell_type": "code",
   "execution_count": 154,
   "id": "b988ed9f",
   "metadata": {},
   "outputs": [],
   "source": [
    "#元のデータの最大値と最小値を指定\n",
    "dat_min = 0\n",
    "dat_max = 3e5\n",
    "\n",
    "#スケール後の最大値と最小値を指定\n",
    "custom_min = 0\n",
    "custom_max = 100\n",
    "\n",
    "train_scaled_ts = (np.array(train_ts_df) - dat_min) / (dat_max - dat_min) * (custom_max - custom_min) + custom_min"
   ]
  },
  {
   "cell_type": "code",
   "execution_count": 155,
   "id": "5b124121",
   "metadata": {},
   "outputs": [
    {
     "data": {
      "text/plain": [
       "(array([596.,  46.,  33.,  20.,  10.,  13.,  11.,   4.,  12.,   6.,   2.,\n",
       "          5.,   3.,   2.,   1.,   4.,   1.,   2.,   3.,   1.,   0.,   0.,\n",
       "          3.,   0.,   2.]),\n",
       " array([0.     , 0.25252, 0.50504, 0.75756, 1.01008, 1.2626 , 1.51512,\n",
       "        1.76764, 2.02016, 2.27268, 2.5252 , 2.77772, 3.03024, 3.28276,\n",
       "        3.53528, 3.7878 , 4.04032, 4.29284, 4.54536, 4.79788, 5.0504 ,\n",
       "        5.30292, 5.55544, 5.80796, 6.06048, 6.313  ]),\n",
       " <BarContainer object of 25 artists>)"
      ]
     },
     "execution_count": 155,
     "metadata": {},
     "output_type": "execute_result"
    },
    {
     "data": {
      "image/png": "[encoded data removed]",
      "text/plain": [
       "<Figure size 640x480 with 1 Axes>"
      ]
     },
     "metadata": {},
     "output_type": "display_data"
    }
   ],
   "source": [
    "plt.hist(train_scaled_ts,bins=25)"
   ]
  },
  {
   "cell_type": "code",
   "execution_count": 156,
   "id": "0fd4c14e",
   "metadata": {},
   "outputs": [],
   "source": [
    "#元のデータの最大値と最小値を指定\n",
    "dat_min = 0\n",
    "dat_max = 500\n",
    "\n",
    "#スケール後の最大値と最小値を指定\n",
    "custom_min = 0\n",
    "custom_max = 10\n",
    "\n",
    "train_scaled_zs = (np.array(train_zs_df) - dat_min) / (dat_max - dat_min) * (custom_max - custom_min) + custom_min"
   ]
  },
  {
   "cell_type": "code",
   "execution_count": 157,
   "id": "9a1f86a2",
   "metadata": {},
   "outputs": [
    {
     "data": {
      "text/plain": [
       "(array([336., 129., 100.,  66.,  46.,  29.,  12.,  25.,   8.,   5.,   6.,\n",
       "          3.,   3.,   2.,   1.,   2.,   1.,   1.,   3.,   0.,   1.,   0.,\n",
       "          0.,   0.,   1.]),\n",
       " array([0.    , 0.2648, 0.5296, 0.7944, 1.0592, 1.324 , 1.5888, 1.8536,\n",
       "        2.1184, 2.3832, 2.648 , 2.9128, 3.1776, 3.4424, 3.7072, 3.972 ,\n",
       "        4.2368, 4.5016, 4.7664, 5.0312, 5.296 , 5.5608, 5.8256, 6.0904,\n",
       "        6.3552, 6.62  ]),\n",
       " <BarContainer object of 25 artists>)"
      ]
     },
     "execution_count": 157,
     "metadata": {},
     "output_type": "execute_result"
    },
    {
     "data": {
      "image/png": "[encoded data removed]",
      "text/plain": [
       "<Figure size 640x480 with 1 Axes>"
      ]
     },
     "metadata": {},
     "output_type": "display_data"
    }
   ],
   "source": [
    "plt.hist(train_scaled_zs,bins=25)"
   ]
  },
  {
   "cell_type": "code",
   "execution_count": 158,
   "id": "98a787eb",
   "metadata": {},
   "outputs": [
    {
     "data": {
      "text/plain": [
       "((780, 1), (780, 2))"
      ]
     },
     "execution_count": 158,
     "metadata": {},
     "output_type": "execute_result"
    }
   ],
   "source": [
    "train_scaled_zs.shape, train_scaled_ys.shape"
   ]
  },
  {
   "cell_type": "code",
   "execution_count": 159,
   "id": "49b9098a",
   "metadata": {},
   "outputs": [],
   "source": [
    "train_scaled_ys = np.concatenate([train_scaled_ys, train_scaled_zs], 1)"
   ]
  },
  {
   "cell_type": "code",
   "execution_count": 160,
   "id": "50d6481a",
   "metadata": {},
   "outputs": [],
   "source": [
    "train_ts_np, train_ys_np, train_xs_np = train_scaled_ts, train_scaled_ys, np.array(train_xs_df)\n",
    "test_ts_np, test_ys_np, test_xs_np = np.array(test_ts_df), np.array(test_ys_df), np.array(test_xs_df)"
   ]
  },
  {
   "cell_type": "code",
   "execution_count": 161,
   "id": "b30f9290",
   "metadata": {},
   "outputs": [
    {
     "data": {
      "text/plain": [
       "((780,), (780, 3), (780,))"
      ]
     },
     "execution_count": 161,
     "metadata": {},
     "output_type": "execute_result"
    }
   ],
   "source": [
    "train_ts_np.shape, train_ys_np.shape, train_xs_np.shape"
   ]
  },
  {
   "cell_type": "code",
   "execution_count": null,
   "id": "76097cf7",
   "metadata": {},
   "outputs": [],
   "source": []
  },
  {
   "cell_type": "markdown",
   "id": "542ec5c8",
   "metadata": {},
   "source": [
    "# Make Dataset"
   ]
  },
  {
   "cell_type": "code",
   "execution_count": 162,
   "id": "5b481d24",
   "metadata": {},
   "outputs": [],
   "source": [
    "train_np = np.concatenate([train_ts_np.reshape(-1,1), train_ys_np, train_xs_np.reshape(-1,1)], axis = 1)\n",
    "test_np = np.concatenate([test_ts_np.reshape(-1,1), test_ys_np, test_xs_np.reshape(-1,1)], axis = 1)"
   ]
  },
  {
   "cell_type": "code",
   "execution_count": 163,
   "id": "7c89e276",
   "metadata": {},
   "outputs": [
    {
     "data": {
      "text/plain": [
       "((780, 5), (260, 5))"
      ]
     },
     "execution_count": 163,
     "metadata": {},
     "output_type": "execute_result"
    }
   ],
   "source": [
    "train_np.shape, test_np.shape"
   ]
  },
  {
   "cell_type": "code",
   "execution_count": 164,
   "id": "c4650579",
   "metadata": {},
   "outputs": [],
   "source": [
    "from typing import Tuple\n",
    "\n",
    "def make_sequence_data(data: np.ndarray, seq_size: int) -> Tuple[np.ndarray, np.ndarray]:\n",
    "    \n",
    "    \"\"\"データをsequence_sizeに指定したサイズのシーケンスに分けてシーケンスとその答えをarrayで返す\n",
    "    Args:\n",
    "        data (np.ndarray): 入力データ\n",
    "        seq_size (int): シーケンスサイズ\n",
    "    Returns:\n",
    "        seq_arr: seq_sizeに指定した数のシーケンスを格納するarray\n",
    "        target_arr: シーケンスに対応する答えを格納するarray\n",
    "    \"\"\"\n",
    "\n",
    "    num_data = len(data)\n",
    "    seq_data = []\n",
    "    target_data = []\n",
    "    \n",
    "    for i in range(num_data - seq_size):\n",
    "        seq_data.append(data[i:i+seq_size])\n",
    "        target_data.append(data[i+seq_size:i+seq_size+1])\n",
    "        \n",
    "    seq_arr = np.array(seq_data)\n",
    "    target_arr = np.array(target_data)\n",
    "\n",
    "    return seq_arr, target_arr"
   ]
  },
  {
   "cell_type": "code",
   "execution_count": 165,
   "id": "b848fb39",
   "metadata": {},
   "outputs": [],
   "source": [
    "#何週前のデータから予測するか\n",
    "\n",
    "seq_length = 13\n",
    "\n",
    "train_Xs, train_ys = make_sequence_data(train_np, seq_length)"
   ]
  },
  {
   "cell_type": "code",
   "execution_count": 166,
   "id": "7274fe37",
   "metadata": {},
   "outputs": [
    {
     "data": {
      "text/plain": [
       "((767, 13, 5), (767, 1, 5))"
      ]
     },
     "execution_count": 166,
     "metadata": {},
     "output_type": "execute_result"
    }
   ],
   "source": [
    "train_Xs.shape, train_ys.shape"
   ]
  },
  {
   "cell_type": "code",
   "execution_count": 167,
   "id": "7dd4f978",
   "metadata": {},
   "outputs": [],
   "source": [
    "np.save(exp_dir + \"train_X_\" + str(seq_length) + \"w.npy\", train_Xs)\n",
    "np.save(exp_dir + \"train_y_\" + str(seq_length) + \"w.npy\", train_ys)"
   ]
  },
  {
   "cell_type": "code",
   "execution_count": 168,
   "id": "9a831b9a",
   "metadata": {},
   "outputs": [],
   "source": [
    "np.save(exp_dir + \"train_np.npy\", train_np)\n",
    "np.save(exp_dir + \"test_np.npy\", test_np)"
   ]
  },
  {
   "cell_type": "code",
   "execution_count": null,
   "id": "156bdc14",
   "metadata": {},
   "outputs": [],
   "source": []
  },
  {
   "cell_type": "markdown",
   "id": "8396290a",
   "metadata": {},
   "source": [
    "# Dataset and DataLoader"
   ]
  },
  {
   "cell_type": "code",
   "execution_count": 133,
   "id": "6674accc",
   "metadata": {},
   "outputs": [],
   "source": [
    "import os\n",
    "import torch\n",
    "from torch import nn\n",
    "from torch.utils.data import DataLoader\n",
    "from torchvision import datasets, transforms\n",
    "\n",
    "import torch\n",
    "import torch.nn as nn\n",
    "from torch.nn import Sequential, Linear, Tanh, Sigmoid, LeakyReLU, ReLU\n",
    "import torch.nn.functional as F\n",
    "import torch.optim as optim\n",
    "\n",
    "import numpy as np #数値計算用ライブラリ\n",
    "import matplotlib.pyplot as plt #描画用ライブラリ"
   ]
  },
  {
   "cell_type": "code",
   "execution_count": 134,
   "id": "d3eb91c9",
   "metadata": {},
   "outputs": [],
   "source": [
    "root_dir = \"datasets/infuluenza/\"\n",
    "data_path = root_dir + \"Influenza2.csv\"\n",
    "exp_dir = \"datasets/infuluenza/vecLSTMx2/\""
   ]
  },
  {
   "cell_type": "code",
   "execution_count": 135,
   "id": "61180435",
   "metadata": {},
   "outputs": [],
   "source": [
    "train_Xs = np.load(exp_dir + \"train_X_\" + str(seq_length) + \"w.npy\")\n",
    "train_ys = np.load(exp_dir + \"train_y_\" + str(seq_length) + \"w.npy\")"
   ]
  },
  {
   "cell_type": "code",
   "execution_count": 136,
   "id": "1653719a",
   "metadata": {},
   "outputs": [
    {
     "data": {
      "text/plain": [
       "((767, 13, 5), (767, 1, 5))"
      ]
     },
     "execution_count": 136,
     "metadata": {},
     "output_type": "execute_result"
    }
   ],
   "source": [
    "train_Xs.shape, train_ys.shape"
   ]
  },
  {
   "cell_type": "code",
   "execution_count": 137,
   "id": "68c17d39",
   "metadata": {},
   "outputs": [],
   "source": [
    "import joblib\n",
    "\n",
    "# スケーラーの読み込み\n",
    "std_scaler = joblib.load(exp_dir + 'std_scaler.joblib')"
   ]
  },
  {
   "cell_type": "code",
   "execution_count": 138,
   "id": "d9e414b5",
   "metadata": {},
   "outputs": [
    {
     "name": "stdout",
     "output_type": "stream",
     "text": [
      "(767,)\n"
     ]
    }
   ],
   "source": [
    "import pandas as pd\n",
    "\n",
    "labels = train_ys[:,:,0]\n",
    "print(labels[:,0].shape)\n",
    "binned_labels = pd.qcut(labels[:,0], q=10, labels=False, duplicates='drop')"
   ]
  },
  {
   "cell_type": "code",
   "execution_count": 139,
   "id": "74e6b696",
   "metadata": {},
   "outputs": [],
   "source": [
    "import numpy as np\n",
    "from sklearn.model_selection import train_test_split\n",
    "\n",
    "train_Xs, val_Xs, train_ys, val_ys = train_test_split(\n",
    "    train_Xs, train_ys, test_size=0.20, stratify=binned_labels, random_state=42\n",
    ")"
   ]
  },
  {
   "cell_type": "code",
   "execution_count": 140,
   "id": "81c32125",
   "metadata": {},
   "outputs": [],
   "source": [
    "np.save(exp_dir + \"train_Xs_\" + str(seq_length) + \"w.npy\", train_Xs)\n",
    "np.save(exp_dir + \"train_ys_\" + str(seq_length) + \"w.npy\", train_ys)\n",
    "np.save(exp_dir + \"val_Xs_\" + str(seq_length) + \"w.npy\", val_Xs)\n",
    "np.save(exp_dir + \"val_ys_\" + str(seq_length) + \"w.npy\", val_ys)"
   ]
  },
  {
   "cell_type": "code",
   "execution_count": null,
   "id": "77c564a1",
   "metadata": {},
   "outputs": [],
   "source": []
  },
  {
   "cell_type": "code",
   "execution_count": null,
   "id": "9b146d63",
   "metadata": {},
   "outputs": [],
   "source": []
  },
  {
   "cell_type": "code",
   "execution_count": null,
   "id": "5b7ebd9c",
   "metadata": {},
   "outputs": [],
   "source": []
  },
  {
   "cell_type": "code",
   "execution_count": 32,
   "id": "f6bec487",
   "metadata": {},
   "outputs": [],
   "source": [
    "trn_xs_tensor = torch.Tensor(train_Xs)\n",
    "trn_ys_tensor = torch.Tensor(train_ys)\n",
    "\n",
    "val_xs_tensor = torch.Tensor(val_Xs)\n",
    "val_ys_tensor = torch.Tensor(val_ys)"
   ]
  },
  {
   "cell_type": "code",
   "execution_count": 33,
   "id": "0e413f08",
   "metadata": {},
   "outputs": [
    {
     "data": {
      "text/plain": [
       "(torch.Size([592, 40, 4]),\n",
       " torch.Size([592, 1, 4]),\n",
       " torch.Size([148, 40, 4]),\n",
       " torch.Size([148, 1, 4]))"
      ]
     },
     "execution_count": 33,
     "metadata": {},
     "output_type": "execute_result"
    }
   ],
   "source": [
    "trn_xs_tensor.shape, trn_ys_tensor.shape, val_xs_tensor.shape, val_ys_tensor.shape"
   ]
  },
  {
   "cell_type": "code",
   "execution_count": 34,
   "id": "58eb48ed",
   "metadata": {},
   "outputs": [],
   "source": [
    "from torch.utils.data import TensorDataset, DataLoader\n",
    "\n",
    "trn_dataset = TensorDataset(trn_xs_tensor, trn_ys_tensor)\n",
    "trn_loader = DataLoader(dataset=trn_dataset,batch_size=50,shuffle=True)\n",
    "\n",
    "val_dataset = TensorDataset(val_xs_tensor, val_ys_tensor)\n",
    "val_loader = DataLoader(dataset=val_dataset,batch_size=50,shuffle=False)"
   ]
  },
  {
   "cell_type": "code",
   "execution_count": 35,
   "id": "18d189a4",
   "metadata": {},
   "outputs": [
    {
     "name": "stdout",
     "output_type": "stream",
     "text": [
      "0 torch.Size([50, 40, 4]) torch.Size([50, 1, 4])\n",
      "1 torch.Size([50, 40, 4]) torch.Size([50, 1, 4])\n",
      "2 torch.Size([50, 40, 4]) torch.Size([50, 1, 4])\n",
      "3 torch.Size([50, 40, 4]) torch.Size([50, 1, 4])\n",
      "4 torch.Size([50, 40, 4]) torch.Size([50, 1, 4])\n",
      "5 torch.Size([50, 40, 4]) torch.Size([50, 1, 4])\n",
      "6 torch.Size([50, 40, 4]) torch.Size([50, 1, 4])\n",
      "7 torch.Size([50, 40, 4]) torch.Size([50, 1, 4])\n",
      "8 torch.Size([50, 40, 4]) torch.Size([50, 1, 4])\n",
      "9 torch.Size([50, 40, 4]) torch.Size([50, 1, 4])\n",
      "10 torch.Size([50, 40, 4]) torch.Size([50, 1, 4])\n",
      "11 torch.Size([42, 40, 4]) torch.Size([42, 1, 4])\n"
     ]
    }
   ],
   "source": [
    "for id, batch_data in enumerate(trn_loader):\n",
    "    \n",
    "    batch_x, batch_y = batch_data\n",
    "    print(id, batch_x.shape, batch_y.shape)"
   ]
  },
  {
   "cell_type": "code",
   "execution_count": 36,
   "id": "38b8f359",
   "metadata": {},
   "outputs": [
    {
     "name": "stdout",
     "output_type": "stream",
     "text": [
      "0 torch.Size([50, 40, 4]) torch.Size([50, 1, 4])\n",
      "1 torch.Size([50, 40, 4]) torch.Size([50, 1, 4])\n",
      "2 torch.Size([48, 40, 4]) torch.Size([48, 1, 4])\n"
     ]
    }
   ],
   "source": [
    "for id, batch_data in enumerate(val_loader):\n",
    "    \n",
    "    batch_x, batch_y = batch_data\n",
    "    print(id, batch_x.shape, batch_y.shape)"
   ]
  },
  {
   "cell_type": "code",
   "execution_count": 37,
   "id": "e384fbbb",
   "metadata": {},
   "outputs": [],
   "source": [
    "#train_ts_df = train_df[\"Flucases\"]\n",
    "#train_ys_df = train_df[[\"Tempave\", \"Rh\"]]\n",
    "#train_xs_df = train_df[\"Holiday\"]\n",
    "\n",
    "#train_np = np.concatenate([train_ts_np.reshape(-1,1), train_ys_np, train_xs_np.reshape(-1,1)], axis = 1)"
   ]
  },
  {
   "cell_type": "markdown",
   "id": "78fc005b",
   "metadata": {},
   "source": [
    "# LSTM model"
   ]
  },
  {
   "cell_type": "code",
   "execution_count": 22,
   "id": "877584c3",
   "metadata": {},
   "outputs": [],
   "source": [
    "class cLSTM(nn.Module):\n",
    "    def __init__(self, input_size = 4, hidden_size=32, cond_size = 1, output_size=4, num_layers = 2):\n",
    "        super().__init__()\n",
    "        self.input_size = input_size\n",
    "        self.hidden_size = hidden_size\n",
    "        self.output_size = output_size\n",
    "        self.cond_size = cond_size\n",
    "        self.n_layers = num_layers\n",
    "        \n",
    "        self.relu = ReLU()\n",
    "        self.lrelu = LeakyReLU(negative_slope=0.01)\n",
    "        \n",
    "        # input_sizeは入力する次元数\n",
    "        self.lstm = nn.LSTM(input_size=self.input_size, num_layers=self.n_layers, hidden_size=self.hidden_size, dropout=0.2)\n",
    "        \n",
    "        self.cfc1 = nn.Linear(self.cond_size, int(self.hidden_size / 2))\n",
    "        self.cfc2 = nn.Linear(int(self.hidden_size / 2), int(self.hidden_size / 4))\n",
    "        \n",
    "        self.fc1 = nn.Linear(int(self.hidden_size / 4) + self.hidden_size, self.hidden_size * 4)\n",
    "        self.fc2 = nn.Linear(self.hidden_size * 4, self.output_size)\n",
    "\n",
    "\n",
    "    def forward(self, x, cin):\n",
    "        last_outs, hidden = self.lstm(x) #(batch_size, seq_len, hidden)\n",
    "        outs = last_outs[:, -1, :] #(batch_size, hidden)\n",
    "        \n",
    "        ch1 = self.relu(self.cfc1(cin))\n",
    "        ch2 = self.cfc2(ch1)\n",
    "        \n",
    "        h_list = [outs, ch2]\n",
    "        h1 = torch.cat(h_list, dim=1)\n",
    "        h2 = self.relu(self.fc1(h1))\n",
    "        h3 = self.fc2(h2)\n",
    "        \n",
    "        y_list = [self.relu(h3[:,0:1]), h3[:,1:3]]\n",
    "        ys = torch.cat(y_list, dim=1)\n",
    "\n",
    "        return ys"
   ]
  },
  {
   "cell_type": "code",
   "execution_count": 23,
   "id": "cf0410ab",
   "metadata": {},
   "outputs": [],
   "source": [
    "model = cLSTM(input_size = 4, hidden_size = 32, cond_size = 1, output_size = 3, num_layers = 2)"
   ]
  },
  {
   "cell_type": "markdown",
   "id": "5e849415",
   "metadata": {},
   "source": [
    "## Prediction"
   ]
  },
  {
   "cell_type": "code",
   "execution_count": 40,
   "id": "b71e5e7e",
   "metadata": {},
   "outputs": [],
   "source": [
    "batch_0x = list(trn_loader)[0][0]\n",
    "batch_0c = list(trn_loader)[0][1]"
   ]
  },
  {
   "cell_type": "code",
   "execution_count": 41,
   "id": "1dfc1bef",
   "metadata": {},
   "outputs": [
    {
     "data": {
      "text/plain": [
       "(torch.Size([50, 40, 4]), torch.Size([50, 1, 4]))"
      ]
     },
     "execution_count": 41,
     "metadata": {},
     "output_type": "execute_result"
    }
   ],
   "source": [
    "batch_0x.shape, batch_0c.shape"
   ]
  },
  {
   "cell_type": "code",
   "execution_count": 42,
   "id": "c21904ad",
   "metadata": {},
   "outputs": [],
   "source": [
    "batch_0c = torch.reshape(batch_0c[:,:,-1], (batch_0c.shape[0], 1))"
   ]
  },
  {
   "cell_type": "code",
   "execution_count": 43,
   "id": "26082994",
   "metadata": {},
   "outputs": [
    {
     "data": {
      "text/plain": [
       "torch.Size([50, 1])"
      ]
     },
     "execution_count": 43,
     "metadata": {},
     "output_type": "execute_result"
    }
   ],
   "source": [
    "batch_0c.shape"
   ]
  },
  {
   "cell_type": "code",
   "execution_count": 44,
   "id": "e06976c5",
   "metadata": {},
   "outputs": [],
   "source": [
    "preds = model(batch_0x, batch_0c)"
   ]
  },
  {
   "cell_type": "code",
   "execution_count": 45,
   "id": "660b7da9",
   "metadata": {},
   "outputs": [
    {
     "data": {
      "text/plain": [
       "torch.Size([50, 3])"
      ]
     },
     "execution_count": 45,
     "metadata": {},
     "output_type": "execute_result"
    }
   ],
   "source": [
    "preds.shape"
   ]
  },
  {
   "cell_type": "markdown",
   "id": "f3470ebf",
   "metadata": {},
   "source": [
    "## Train"
   ]
  },
  {
   "cell_type": "code",
   "execution_count": 48,
   "id": "d463aa23",
   "metadata": {},
   "outputs": [
    {
     "data": {
      "text/plain": [
       "cLSTM(\n",
       "  (relu): ReLU()\n",
       "  (lrelu): LeakyReLU(negative_slope=0.01)\n",
       "  (lstm): LSTM(4, 32, num_layers=2, dropout=0.2)\n",
       "  (cfc1): Linear(in_features=1, out_features=16, bias=True)\n",
       "  (cfc2): Linear(in_features=16, out_features=8, bias=True)\n",
       "  (fc1): Linear(in_features=40, out_features=128, bias=True)\n",
       "  (fc2): Linear(in_features=128, out_features=3, bias=True)\n",
       ")"
      ]
     },
     "execution_count": 48,
     "metadata": {},
     "output_type": "execute_result"
    }
   ],
   "source": [
    "model.cuda()"
   ]
  },
  {
   "cell_type": "code",
   "execution_count": 49,
   "id": "7cc6e8ab",
   "metadata": {},
   "outputs": [],
   "source": [
    "criterion = nn.MSELoss(reduction='none').cuda()\n",
    "optimizer = optim.Adam(model.parameters(), lr=1e-3)"
   ]
  },
  {
   "cell_type": "code",
   "execution_count": 50,
   "id": "76413d5e",
   "metadata": {},
   "outputs": [],
   "source": [
    "def val_model(epoch):\n",
    "    \n",
    "    model.eval()\n",
    "    \n",
    "    sum_errors = 0\n",
    "    \n",
    "    for batch_data in val_loader:\n",
    "       \n",
    "        with torch.no_grad():\n",
    "            \n",
    "            if torch.cuda.is_available():\n",
    "                inputs, trues = batch_data\n",
    "                inputs, trues = inputs.cuda(), trues.cuda()\n",
    "                input_c = torch.reshape(trues[:,:,-1], (trues.shape[0], 1))\n",
    "\n",
    "            preds = model(inputs, input_c)\n",
    "            true_ys = torch.reshape(trues[:,:,0:3], (trues.shape[0], 3))\n",
    "            loss = criterion(preds, true_ys).mean(dim=0).mean()\n",
    "            \n",
    "            sum_errors = sum_errors + loss.data.item()\n",
    "\n",
    "            del loss\n",
    "            torch.cuda.empty_cache()\n",
    "            \n",
    "    return sum_errors / len(val_loader)"
   ]
  },
  {
   "cell_type": "code",
   "execution_count": 51,
   "id": "5c9fde42",
   "metadata": {},
   "outputs": [
    {
     "name": "stdout",
     "output_type": "stream",
     "text": [
      "epoch:  0 Train loss:  0.9380756616592407 Val loss:  0.9469261368115743\n",
      "epoch:  1 Train loss:  0.9223511616388956 Val loss:  0.934403638044993\n",
      "epoch:  2 Train loss:  0.9019084970156351 Val loss:  0.9105706214904785\n",
      "epoch:  3 Train loss:  0.8608552515506744 Val loss:  0.8366574843724569\n",
      "epoch:  4 Train loss:  0.7288641730944315 Val loss:  0.607100377480189\n",
      "epoch:  5 Train loss:  0.48473139107227325 Val loss:  0.3577019174893697\n",
      "epoch:  6 Train loss:  0.37588221579790115 Val loss:  0.3337817390759786\n",
      "epoch:  7 Train loss:  0.348151250431935 Val loss:  0.3223853011926015\n",
      "epoch:  8 Train loss:  0.33569009974598885 Val loss:  0.31249184409777325\n",
      "epoch:  9 Train loss:  0.31454875071843463 Val loss:  0.28818170229593915\n",
      "epoch:  10 Train loss:  0.2908233342071374 Val loss:  0.2710527578989665\n",
      "epoch:  11 Train loss:  0.27277278775970143 Val loss:  0.2582344214121501\n",
      "epoch:  12 Train loss:  0.26431839913129807 Val loss:  0.24351067344347635\n",
      "epoch:  13 Train loss:  0.26021140317122143 Val loss:  0.23290718098481497\n",
      "epoch:  14 Train loss:  0.2523508643110593 Val loss:  0.22646117210388184\n",
      "epoch:  15 Train loss:  0.24228200440605482 Val loss:  0.2155910531679789\n",
      "epoch:  16 Train loss:  0.23718871797124544 Val loss:  0.21277745564778647\n",
      "epoch:  17 Train loss:  0.23687647903958955 Val loss:  0.21239551405111948\n",
      "epoch:  18 Train loss:  0.24147107203801474 Val loss:  0.20370136698087057\n",
      "epoch:  19 Train loss:  0.24176601693034172 Val loss:  0.2084710399309794\n",
      "epoch:  20 Train loss:  0.244598018626372 Val loss:  0.20148578782876334\n",
      "epoch:  21 Train loss:  0.2362334430217743 Val loss:  0.20157214005788168\n",
      "epoch:  22 Train loss:  0.23428361242016157 Val loss:  0.19754981994628906\n",
      "epoch:  23 Train loss:  0.23207955931623778 Val loss:  0.19181928038597107\n",
      "epoch:  24 Train loss:  0.22659040242433548 Val loss:  0.18949281672636667\n",
      "epoch:  25 Train loss:  0.2333327680826187 Val loss:  0.20028587182362875\n",
      "epoch:  26 Train loss:  0.22425150374571481 Val loss:  0.19051262736320496\n",
      "epoch:  27 Train loss:  0.22813793271780014 Val loss:  0.18836470444997153\n",
      "epoch:  28 Train loss:  0.22999026253819466 Val loss:  0.19036674996217093\n",
      "epoch:  29 Train loss:  0.23204877724250159 Val loss:  0.1878181298573812\n",
      "epoch:  30 Train loss:  0.21941729510823885 Val loss:  0.18535437683264414\n",
      "epoch:  31 Train loss:  0.22535077606638274 Val loss:  0.1850749303897222\n",
      "epoch:  32 Train loss:  0.22170568505922952 Val loss:  0.18507386247316995\n",
      "epoch:  33 Train loss:  0.21989068513115248 Val loss:  0.18479124704996744\n",
      "epoch:  34 Train loss:  0.21964072063565254 Val loss:  0.18198377390702566\n",
      "epoch:  35 Train loss:  0.2165080967048804 Val loss:  0.1827701876560847\n",
      "epoch:  36 Train loss:  0.21844300627708435 Val loss:  0.18498917917410532\n",
      "epoch:  37 Train loss:  0.21928896009922028 Val loss:  0.17940024038155875\n",
      "epoch:  38 Train loss:  0.22381152336796126 Val loss:  0.18386800587177277\n",
      "epoch:  39 Train loss:  0.22088762248555818 Val loss:  0.17982064187526703\n",
      "epoch:  40 Train loss:  0.21825359761714935 Val loss:  0.17961510519186655\n",
      "epoch:  41 Train loss:  0.2178740780800581 Val loss:  0.18026520808537802\n",
      "epoch:  42 Train loss:  0.219791358957688 Val loss:  0.18441925942897797\n",
      "epoch:  43 Train loss:  0.22457007070382437 Val loss:  0.18082368870576224\n",
      "epoch:  44 Train loss:  0.21700288355350494 Val loss:  0.1789660006761551\n",
      "epoch:  45 Train loss:  0.21806126087903976 Val loss:  0.1764376014471054\n",
      "epoch:  46 Train loss:  0.20960465197761854 Val loss:  0.1759358843167623\n",
      "epoch:  47 Train loss:  0.21298426389694214 Val loss:  0.17771301666895548\n",
      "epoch:  48 Train loss:  0.20947796975572905 Val loss:  0.17479552825291952\n",
      "epoch:  49 Train loss:  0.21866254260142645 Val loss:  0.17619439959526062\n",
      "epoch:  50 Train loss:  0.2110047439734141 Val loss:  0.17510709663232168\n",
      "epoch:  51 Train loss:  0.21405678490797678 Val loss:  0.17437837521235147\n",
      "epoch:  52 Train loss:  0.212201789021492 Val loss:  0.17837534348169962\n",
      "epoch:  53 Train loss:  0.21601282556851706 Val loss:  0.17613361279169717\n",
      "epoch:  54 Train loss:  0.20217754567662874 Val loss:  0.17165938019752502\n",
      "epoch:  55 Train loss:  0.21196829279263815 Val loss:  0.17050738632678986\n",
      "epoch:  56 Train loss:  0.20573581755161285 Val loss:  0.1707864354054133\n",
      "epoch:  57 Train loss:  0.20092285300294557 Val loss:  0.17112588385740915\n",
      "epoch:  58 Train loss:  0.20825548594196638 Val loss:  0.16935033102830252\n",
      "epoch:  59 Train loss:  0.20424676562349 Val loss:  0.1709844966729482\n",
      "epoch:  60 Train loss:  0.20456279069185257 Val loss:  0.17166635890801749\n",
      "epoch:  61 Train loss:  0.2024624620874723 Val loss:  0.17157774170239767\n",
      "epoch:  62 Train loss:  0.20006595303614935 Val loss:  0.1692736546198527\n",
      "epoch:  63 Train loss:  0.21017721171180406 Val loss:  0.16739429036776224\n",
      "epoch:  64 Train loss:  0.20150102923313776 Val loss:  0.1721776028474172\n",
      "epoch:  65 Train loss:  0.20021230479081473 Val loss:  0.17354085544745126\n",
      "epoch:  66 Train loss:  0.20102163900931677 Val loss:  0.16911602020263672\n",
      "epoch:  67 Train loss:  0.19810393328468004 Val loss:  0.1688946783542633\n",
      "epoch:  68 Train loss:  0.20205487062533697 Val loss:  0.17104261616865793\n",
      "epoch:  69 Train loss:  0.21208418781558672 Val loss:  0.1726132035255432\n",
      "epoch:  70 Train loss:  0.20322266717751822 Val loss:  0.17387248575687408\n",
      "epoch:  71 Train loss:  0.19576618013282618 Val loss:  0.17006789644559225\n",
      "epoch:  72 Train loss:  0.1969514638185501 Val loss:  0.16881060600280762\n",
      "epoch:  73 Train loss:  0.19836133966843286 Val loss:  0.17018291354179382\n",
      "epoch:  74 Train loss:  0.19923697784543037 Val loss:  0.16542827586332956\n",
      "epoch:  75 Train loss:  0.19520228480299315 Val loss:  0.1688803235689799\n",
      "epoch:  76 Train loss:  0.19884529585639635 Val loss:  0.1700093299150467\n",
      "epoch:  77 Train loss:  0.19392787230511507 Val loss:  0.16815820833047232\n",
      "epoch:  78 Train loss:  0.198153934131066 Val loss:  0.16718590259552002\n",
      "epoch:  79 Train loss:  0.20016944160064062 Val loss:  0.166744202375412\n",
      "epoch:  80 Train loss:  0.20231359265744686 Val loss:  0.17005451023578644\n",
      "epoch:  81 Train loss:  0.20004781087239584 Val loss:  0.16763330002625784\n",
      "epoch:  82 Train loss:  0.20038281132777533 Val loss:  0.17031539976596832\n",
      "epoch:  83 Train loss:  0.1921204092601935 Val loss:  0.16891059279441833\n",
      "epoch:  84 Train loss:  0.20077134296298027 Val loss:  0.16441295544306436\n",
      "epoch:  85 Train loss:  0.19860626384615898 Val loss:  0.17411435147126517\n",
      "epoch:  86 Train loss:  0.1964297778904438 Val loss:  0.16472399731477103\n",
      "epoch:  87 Train loss:  0.1903556945423285 Val loss:  0.16745089987913767\n",
      "epoch:  88 Train loss:  0.1988308516641458 Val loss:  0.16867071886857352\n",
      "epoch:  89 Train loss:  0.18954102446635565 Val loss:  0.17088967561721802\n",
      "epoch:  90 Train loss:  0.1896043916543325 Val loss:  0.16938737531503043\n",
      "epoch:  91 Train loss:  0.18984250351786613 Val loss:  0.16897127528985342\n",
      "epoch:  92 Train loss:  0.19591485212246576 Val loss:  0.16724886993567148\n",
      "epoch:  93 Train loss:  0.193571454534928 Val loss:  0.16581906378269196\n",
      "epoch:  94 Train loss:  0.19315549669166407 Val loss:  0.16680042445659637\n",
      "epoch:  95 Train loss:  0.19405973454316458 Val loss:  0.16762149830659231\n",
      "epoch:  96 Train loss:  0.19308172911405563 Val loss:  0.16644580165545145\n",
      "epoch:  97 Train loss:  0.19200575972596803 Val loss:  0.16641377906004587\n",
      "epoch:  98 Train loss:  0.18914720540245375 Val loss:  0.16507960855960846\n",
      "epoch:  99 Train loss:  0.18739586447676024 Val loss:  0.16638132433096567\n",
      "epoch:  100 Train loss:  0.19162642334898314 Val loss:  0.16856449842453003\n",
      "epoch:  101 Train loss:  0.1864382140338421 Val loss:  0.16476111114025116\n",
      "epoch:  102 Train loss:  0.18487426762779555 Val loss:  0.16817988952000937\n",
      "epoch:  103 Train loss:  0.19346943187216917 Val loss:  0.16222570339838663\n",
      "epoch:  104 Train loss:  0.1998507777849833 Val loss:  0.1631331443786621\n",
      "epoch:  105 Train loss:  0.18807794402043024 Val loss:  0.16666107873121896\n",
      "epoch:  106 Train loss:  0.1888319899638494 Val loss:  0.16265445947647095\n",
      "epoch:  107 Train loss:  0.193711930885911 Val loss:  0.1651058147350947\n",
      "epoch:  108 Train loss:  0.1846507154405117 Val loss:  0.1632491002480189\n",
      "epoch:  109 Train loss:  0.19313376769423485 Val loss:  0.16218932469685873\n",
      "epoch:  110 Train loss:  0.191323384642601 Val loss:  0.17021217942237854\n",
      "epoch:  111 Train loss:  0.19275275245308876 Val loss:  0.16521209478378296\n",
      "epoch:  112 Train loss:  0.1895918312172095 Val loss:  0.16492455701033273\n"
     ]
    },
    {
     "name": "stdout",
     "output_type": "stream",
     "text": [
      "epoch:  113 Train loss:  0.18058698376019797 Val loss:  0.1656403342882792\n",
      "epoch:  114 Train loss:  0.18910350650548935 Val loss:  0.16492020587126413\n",
      "epoch:  115 Train loss:  0.18837048982580504 Val loss:  0.16335448125998178\n",
      "epoch:  116 Train loss:  0.18296710525949797 Val loss:  0.16615323722362518\n",
      "epoch:  117 Train loss:  0.18665137017766634 Val loss:  0.16578972339630127\n",
      "epoch:  118 Train loss:  0.18374269331494966 Val loss:  0.16452912986278534\n",
      "epoch:  119 Train loss:  0.18732590849200884 Val loss:  0.16391975184281668\n",
      "epoch:  120 Train loss:  0.18812783310810724 Val loss:  0.16255547106266022\n",
      "epoch:  121 Train loss:  0.1871402362982432 Val loss:  0.1671197066704432\n",
      "epoch:  122 Train loss:  0.1913455786804358 Val loss:  0.16619176169236502\n",
      "epoch:  123 Train loss:  0.188223568101724 Val loss:  0.16713830331961313\n",
      "epoch:  124 Train loss:  0.186506366978089 Val loss:  0.16427547732988992\n",
      "epoch:  125 Train loss:  0.18570167695482573 Val loss:  0.16780364016691843\n",
      "epoch:  126 Train loss:  0.189916313936313 Val loss:  0.16434533397356668\n",
      "epoch:  127 Train loss:  0.18838493277629217 Val loss:  0.163876603047053\n",
      "epoch:  128 Train loss:  0.18898078675071397 Val loss:  0.1635133276383082\n",
      "epoch:  129 Train loss:  0.18937492122252783 Val loss:  0.16492749253908792\n",
      "epoch:  130 Train loss:  0.1881964517136415 Val loss:  0.16414845486481985\n",
      "epoch:  131 Train loss:  0.18622617423534393 Val loss:  0.16363024214903513\n",
      "epoch:  132 Train loss:  0.18869776154557863 Val loss:  0.1657166282335917\n",
      "epoch:  133 Train loss:  0.18616728484630585 Val loss:  0.16535418232282004\n",
      "epoch:  134 Train loss:  0.18156859651207924 Val loss:  0.16542455554008484\n",
      "epoch:  135 Train loss:  0.18256531655788422 Val loss:  0.16359013319015503\n",
      "epoch:  136 Train loss:  0.18768405790130296 Val loss:  0.16356924176216125\n",
      "epoch:  137 Train loss:  0.18569612503051758 Val loss:  0.16880782941977182\n",
      "epoch:  138 Train loss:  0.19878768424193063 Val loss:  0.1679757982492447\n",
      "epoch:  139 Train loss:  0.18974235529700914 Val loss:  0.16402791937192282\n",
      "epoch:  140 Train loss:  0.18706161032120386 Val loss:  0.1649461736281713\n",
      "epoch:  141 Train loss:  0.18522461131215096 Val loss:  0.16327351331710815\n",
      "epoch:  142 Train loss:  0.19001302619775137 Val loss:  0.16665933529535928\n",
      "epoch:  143 Train loss:  0.19404211392005286 Val loss:  0.16376892725626627\n",
      "epoch:  144 Train loss:  0.1875376341243585 Val loss:  0.16513296961784363\n",
      "epoch:  145 Train loss:  0.1889494595428308 Val loss:  0.1644728183746338\n",
      "epoch:  146 Train loss:  0.1907438567529122 Val loss:  0.16999605794747671\n",
      "epoch:  147 Train loss:  0.18404980997244516 Val loss:  0.16376722355683646\n",
      "epoch:  148 Train loss:  0.18336754975219569 Val loss:  0.1636451780796051\n",
      "epoch:  149 Train loss:  0.18510438377658525 Val loss:  0.162302166223526\n",
      "epoch:  150 Train loss:  0.18514093880852064 Val loss:  0.1668468564748764\n",
      "epoch:  151 Train loss:  0.1888169919451078 Val loss:  0.16224254171053568\n",
      "epoch:  152 Train loss:  0.1853428309162458 Val loss:  0.16157700618108115\n",
      "epoch:  153 Train loss:  0.18348566939433417 Val loss:  0.16395448644955954\n",
      "epoch:  154 Train loss:  0.17896589636802673 Val loss:  0.16490658620993295\n",
      "epoch:  155 Train loss:  0.18724141890803972 Val loss:  0.16194671392440796\n",
      "epoch:  156 Train loss:  0.18662209063768387 Val loss:  0.16052080194155374\n",
      "epoch:  157 Train loss:  0.1873282939195633 Val loss:  0.1679573655128479\n",
      "epoch:  158 Train loss:  0.18117061629891396 Val loss:  0.16245919466018677\n",
      "epoch:  159 Train loss:  0.18634911129872003 Val loss:  0.1617401291926702\n",
      "epoch:  160 Train loss:  0.1847410574555397 Val loss:  0.1632928897937139\n",
      "epoch:  161 Train loss:  0.19309120376904806 Val loss:  0.16143121818701425\n",
      "epoch:  162 Train loss:  0.18972191959619522 Val loss:  0.1661075552304586\n",
      "epoch:  163 Train loss:  0.1873733221242825 Val loss:  0.1624794900417328\n",
      "epoch:  164 Train loss:  0.19066666066646576 Val loss:  0.1632040242354075\n",
      "epoch:  165 Train loss:  0.18351006507873535 Val loss:  0.16174578666687012\n",
      "epoch:  166 Train loss:  0.1879671812057495 Val loss:  0.16208683451016745\n",
      "epoch:  167 Train loss:  0.17970260667304197 Val loss:  0.16336356600125632\n",
      "epoch:  168 Train loss:  0.18422775094707808 Val loss:  0.16017434994379678\n",
      "epoch:  169 Train loss:  0.18424186979730925 Val loss:  0.16706863542397818\n",
      "epoch:  170 Train loss:  0.1855916902422905 Val loss:  0.16083270808060965\n",
      "epoch:  171 Train loss:  0.18524684260288873 Val loss:  0.16146349906921387\n",
      "epoch:  172 Train loss:  0.18233616277575493 Val loss:  0.1636552264293035\n",
      "epoch:  173 Train loss:  0.18863649976750216 Val loss:  0.16579588254292807\n",
      "epoch:  174 Train loss:  0.19321194663643837 Val loss:  0.16086740791797638\n",
      "epoch:  175 Train loss:  0.18145732209086418 Val loss:  0.16422560811042786\n",
      "epoch:  176 Train loss:  0.18120043848951659 Val loss:  0.16540634632110596\n",
      "epoch:  177 Train loss:  0.1809363216161728 Val loss:  0.16331762075424194\n",
      "epoch:  178 Train loss:  0.1823142853875955 Val loss:  0.16151125729084015\n",
      "epoch:  179 Train loss:  0.18759498621026674 Val loss:  0.1640402873357137\n",
      "epoch:  180 Train loss:  0.1901594822605451 Val loss:  0.16140259305636087\n",
      "epoch:  181 Train loss:  0.18452807888388634 Val loss:  0.16022092600663504\n",
      "epoch:  182 Train loss:  0.18245698635776839 Val loss:  0.16347356140613556\n",
      "epoch:  183 Train loss:  0.18738890749712786 Val loss:  0.1634135295947393\n",
      "epoch:  184 Train loss:  0.1856452152132988 Val loss:  0.16465099155902863\n",
      "epoch:  185 Train loss:  0.1823328658938408 Val loss:  0.1630247930685679\n",
      "epoch:  186 Train loss:  0.17919775719443956 Val loss:  0.1644724359114965\n",
      "epoch:  187 Train loss:  0.17964582393566766 Val loss:  0.16140565276145935\n",
      "epoch:  188 Train loss:  0.1865768184264501 Val loss:  0.16728931168715158\n",
      "epoch:  189 Train loss:  0.17980046197772026 Val loss:  0.16028326253096262\n",
      "epoch:  190 Train loss:  0.17767068992058435 Val loss:  0.16347191234429678\n",
      "epoch:  191 Train loss:  0.1829813023408254 Val loss:  0.16286486883958182\n",
      "epoch:  192 Train loss:  0.18651066968838373 Val loss:  0.1636126438776652\n",
      "epoch:  193 Train loss:  0.17786798253655434 Val loss:  0.1641847938299179\n",
      "epoch:  194 Train loss:  0.1820874468733867 Val loss:  0.16024511059125265\n",
      "epoch:  195 Train loss:  0.18346084530154863 Val loss:  0.16268538435300192\n",
      "epoch:  196 Train loss:  0.1807453359166781 Val loss:  0.16643205285072327\n",
      "epoch:  197 Train loss:  0.17820032437642416 Val loss:  0.1611327032248179\n",
      "epoch:  198 Train loss:  0.18177461251616478 Val loss:  0.16183315217494965\n",
      "epoch:  199 Train loss:  0.1797646482785543 Val loss:  0.16388954718907675\n",
      "epoch:  200 Train loss:  0.18082663665215173 Val loss:  0.16085503995418549\n",
      "epoch:  201 Train loss:  0.1780095435678959 Val loss:  0.16211994489034018\n",
      "epoch:  202 Train loss:  0.18848281353712082 Val loss:  0.16688246031602225\n",
      "epoch:  203 Train loss:  0.18378687649965286 Val loss:  0.16569230953852335\n",
      "epoch:  204 Train loss:  0.17970075085759163 Val loss:  0.16197106738885245\n",
      "epoch:  205 Train loss:  0.185821995139122 Val loss:  0.1638012727101644\n",
      "epoch:  206 Train loss:  0.18126438930630684 Val loss:  0.16651462515195212\n",
      "epoch:  207 Train loss:  0.1780227286120256 Val loss:  0.16286068658034006\n",
      "epoch:  208 Train loss:  0.17819631844758987 Val loss:  0.1625500520070394\n",
      "epoch:  209 Train loss:  0.17869458347558975 Val loss:  0.16157815853754678\n",
      "epoch:  210 Train loss:  0.1814949264129003 Val loss:  0.16317164401213327\n",
      "epoch:  211 Train loss:  0.17659791248540083 Val loss:  0.1642974466085434\n",
      "epoch:  212 Train loss:  0.18267553796370825 Val loss:  0.16626928249994913\n",
      "epoch:  213 Train loss:  0.18038266276319823 Val loss:  0.16148585081100464\n",
      "epoch:  214 Train loss:  0.18529813612500826 Val loss:  0.16072364151477814\n",
      "epoch:  215 Train loss:  0.17648822565873465 Val loss:  0.16268490254878998\n",
      "epoch:  216 Train loss:  0.18370030199488005 Val loss:  0.16006304323673248\n",
      "epoch:  217 Train loss:  0.17354354759057364 Val loss:  0.16028513511021933\n",
      "epoch:  218 Train loss:  0.17880732441941896 Val loss:  0.16113662223021188\n",
      "epoch:  219 Train loss:  0.17685318489869437 Val loss:  0.1599022001028061\n",
      "epoch:  220 Train loss:  0.1795260633031527 Val loss:  0.1622195839881897\n",
      "epoch:  221 Train loss:  0.17943489675720534 Val loss:  0.16120623548825583\n",
      "epoch:  222 Train loss:  0.17982722197969755 Val loss:  0.15863361457983652\n"
     ]
    },
    {
     "name": "stdout",
     "output_type": "stream",
     "text": [
      "epoch:  223 Train loss:  0.17957110206286112 Val loss:  0.1659193088610967\n",
      "epoch:  224 Train loss:  0.1777338037888209 Val loss:  0.1627323180437088\n",
      "epoch:  225 Train loss:  0.17747028296192488 Val loss:  0.16243128975232443\n",
      "epoch:  226 Train loss:  0.18025499023497105 Val loss:  0.16244915127754211\n",
      "epoch:  227 Train loss:  0.1745702102780342 Val loss:  0.1614679495493571\n",
      "epoch:  228 Train loss:  0.17256854847073555 Val loss:  0.16162955264250436\n",
      "epoch:  229 Train loss:  0.17631249191860357 Val loss:  0.1623901128768921\n",
      "epoch:  230 Train loss:  0.17755097523331642 Val loss:  0.16269217928250632\n",
      "epoch:  231 Train loss:  0.17724774653712908 Val loss:  0.161106805006663\n",
      "epoch:  232 Train loss:  0.17836013808846474 Val loss:  0.16228151321411133\n",
      "epoch:  233 Train loss:  0.1788402944803238 Val loss:  0.1607289065917333\n",
      "epoch:  234 Train loss:  0.17897512267033258 Val loss:  0.16086439291636148\n",
      "epoch:  235 Train loss:  0.17283916473388672 Val loss:  0.16457211474577585\n",
      "epoch:  236 Train loss:  0.17911110445857048 Val loss:  0.16175705194473267\n",
      "epoch:  237 Train loss:  0.1814086822172006 Val loss:  0.160910834868749\n",
      "epoch:  238 Train loss:  0.17936393494407335 Val loss:  0.16067063311735788\n",
      "epoch:  239 Train loss:  0.1753601705034574 Val loss:  0.16319647431373596\n",
      "epoch:  240 Train loss:  0.17723949626088142 Val loss:  0.16408645113309225\n",
      "epoch:  241 Train loss:  0.17653600064416727 Val loss:  0.1626723756392797\n",
      "epoch:  242 Train loss:  0.17774818713466325 Val loss:  0.16239038109779358\n",
      "epoch:  243 Train loss:  0.1740745281179746 Val loss:  0.1604288419087728\n",
      "epoch:  244 Train loss:  0.18351359541217485 Val loss:  0.16099863251050314\n",
      "epoch:  245 Train loss:  0.17633260351916155 Val loss:  0.16024133066336313\n",
      "epoch:  246 Train loss:  0.17978799839814505 Val loss:  0.16230517625808716\n",
      "epoch:  247 Train loss:  0.18073292697469392 Val loss:  0.1591109832127889\n",
      "epoch:  248 Train loss:  0.18006018425027528 Val loss:  0.16091119746367136\n",
      "epoch:  249 Train loss:  0.17741860325137773 Val loss:  0.16409207383791605\n",
      "epoch:  250 Train loss:  0.18213483318686485 Val loss:  0.16100204984347025\n",
      "epoch:  251 Train loss:  0.17860989769299826 Val loss:  0.1595585991938909\n",
      "epoch:  252 Train loss:  0.17156606540083885 Val loss:  0.16200114289919534\n",
      "epoch:  253 Train loss:  0.17192516600092253 Val loss:  0.16035308440526327\n",
      "epoch:  254 Train loss:  0.1765417611847321 Val loss:  0.1565033346414566\n",
      "epoch:  255 Train loss:  0.17481346800923347 Val loss:  0.1615047107140223\n",
      "epoch:  256 Train loss:  0.1781961421171824 Val loss:  0.160015602906545\n",
      "epoch:  257 Train loss:  0.17729210232694945 Val loss:  0.15925524632136026\n",
      "epoch:  258 Train loss:  0.17663468979299068 Val loss:  0.15789819260438284\n",
      "epoch:  259 Train loss:  0.17722860723733902 Val loss:  0.15999280412991843\n",
      "epoch:  260 Train loss:  0.18371729801098505 Val loss:  0.16256266832351685\n",
      "epoch:  261 Train loss:  0.17665840623279414 Val loss:  0.1576550006866455\n",
      "epoch:  262 Train loss:  0.1800725224117438 Val loss:  0.16438060502211252\n",
      "epoch:  263 Train loss:  0.18213949352502823 Val loss:  0.16304123401641846\n",
      "epoch:  264 Train loss:  0.17631475751598677 Val loss:  0.1605753948291143\n",
      "epoch:  265 Train loss:  0.17618634179234505 Val loss:  0.16359816988309225\n",
      "epoch:  266 Train loss:  0.1772900571425756 Val loss:  0.1624677429596583\n",
      "epoch:  267 Train loss:  0.17395333821574846 Val loss:  0.16068735718727112\n",
      "epoch:  268 Train loss:  0.17702739064892134 Val loss:  0.16013683875401816\n",
      "epoch:  269 Train loss:  0.17531409859657288 Val loss:  0.16003910700480142\n",
      "epoch:  270 Train loss:  0.1687940868238608 Val loss:  0.15867548684279123\n",
      "epoch:  271 Train loss:  0.1715874094516039 Val loss:  0.15940622488657633\n",
      "epoch:  272 Train loss:  0.17590145270029703 Val loss:  0.16187616686026254\n",
      "epoch:  273 Train loss:  0.17929038032889366 Val loss:  0.16428323090076447\n",
      "epoch:  274 Train loss:  0.17789317294955254 Val loss:  0.15700529019037882\n",
      "epoch:  275 Train loss:  0.1726763236025969 Val loss:  0.15761655569076538\n",
      "epoch:  276 Train loss:  0.17800214514136314 Val loss:  0.16157944997151694\n",
      "epoch:  277 Train loss:  0.17830278724431992 Val loss:  0.15897134443124136\n",
      "epoch:  278 Train loss:  0.1768647792438666 Val loss:  0.15849973758061728\n",
      "epoch:  279 Train loss:  0.17656980330745378 Val loss:  0.16315975785255432\n",
      "epoch:  280 Train loss:  0.17632933830221495 Val loss:  0.15926392376422882\n",
      "epoch:  281 Train loss:  0.1762072133521239 Val loss:  0.16275798281033835\n",
      "epoch:  282 Train loss:  0.17694836296141148 Val loss:  0.1612168252468109\n",
      "epoch:  283 Train loss:  0.17485337952772775 Val loss:  0.16182628273963928\n",
      "epoch:  284 Train loss:  0.1752090541025003 Val loss:  0.16345833241939545\n",
      "epoch:  285 Train loss:  0.1735843134423097 Val loss:  0.1594375471274058\n",
      "epoch:  286 Train loss:  0.17615807801485062 Val loss:  0.15967103838920593\n",
      "epoch:  287 Train loss:  0.17172047992547354 Val loss:  0.1601726015408834\n",
      "epoch:  288 Train loss:  0.17328877126177153 Val loss:  0.1592474728822708\n",
      "epoch:  289 Train loss:  0.1743144951760769 Val loss:  0.1584897885719935\n",
      "epoch:  290 Train loss:  0.1738636406759421 Val loss:  0.16765229900678\n",
      "epoch:  291 Train loss:  0.1810726262629032 Val loss:  0.1638108491897583\n",
      "epoch:  292 Train loss:  0.179483932753404 Val loss:  0.15796312193075815\n",
      "epoch:  293 Train loss:  0.17359749972820282 Val loss:  0.15867147346337637\n",
      "epoch:  294 Train loss:  0.17199637616674104 Val loss:  0.16561979552110037\n",
      "epoch:  295 Train loss:  0.17579410100976625 Val loss:  0.15921244025230408\n",
      "epoch:  296 Train loss:  0.17967230454087257 Val loss:  0.16166367630163828\n",
      "epoch:  297 Train loss:  0.176104623824358 Val loss:  0.15840604404608408\n",
      "epoch:  298 Train loss:  0.1761393460134665 Val loss:  0.15963079035282135\n",
      "epoch:  299 Train loss:  0.1811511591076851 Val loss:  0.1595981220404307\n",
      "epoch:  300 Train loss:  0.1749346231420835 Val loss:  0.15979894498984018\n",
      "epoch:  301 Train loss:  0.17428707145154476 Val loss:  0.1589820832014084\n",
      "epoch:  302 Train loss:  0.17718266447385153 Val loss:  0.15967032810052237\n",
      "epoch:  303 Train loss:  0.172417384882768 Val loss:  0.16086151202519736\n",
      "epoch:  304 Train loss:  0.17698549355069795 Val loss:  0.1584865798552831\n",
      "epoch:  305 Train loss:  0.1771301937599977 Val loss:  0.15802166859308878\n",
      "epoch:  306 Train loss:  0.1706091637412707 Val loss:  0.15733809769153595\n",
      "epoch:  307 Train loss:  0.17633295059204102 Val loss:  0.1561326285203298\n",
      "epoch:  308 Train loss:  0.17445243646701178 Val loss:  0.1601694921652476\n",
      "epoch:  309 Train loss:  0.17375516518950462 Val loss:  0.15669635434945425\n",
      "epoch:  310 Train loss:  0.18126208086808523 Val loss:  0.15978469451268515\n",
      "epoch:  311 Train loss:  0.18045912186304727 Val loss:  0.15834908187389374\n",
      "epoch:  312 Train loss:  0.17351905132333437 Val loss:  0.1589235415061315\n",
      "epoch:  313 Train loss:  0.1726939988632997 Val loss:  0.15842149158318838\n",
      "epoch:  314 Train loss:  0.17041372383634248 Val loss:  0.16629785299301147\n",
      "epoch:  315 Train loss:  0.17541795099774996 Val loss:  0.16005995869636536\n",
      "epoch:  316 Train loss:  0.17612840669850507 Val loss:  0.15875034034252167\n",
      "epoch:  317 Train loss:  0.17390414575735727 Val loss:  0.16229046881198883\n",
      "epoch:  318 Train loss:  0.16789018486936888 Val loss:  0.158701221148173\n",
      "epoch:  319 Train loss:  0.17501752885679403 Val loss:  0.15551944573720297\n",
      "epoch:  320 Train loss:  0.17394524067640305 Val loss:  0.15774900217851004\n",
      "epoch:  321 Train loss:  0.17278008349239826 Val loss:  0.16215344766775766\n",
      "epoch:  322 Train loss:  0.17975019911924997 Val loss:  0.16294321914513907\n",
      "epoch:  323 Train loss:  0.17722840110460916 Val loss:  0.1581502358118693\n",
      "epoch:  324 Train loss:  0.1745615570495526 Val loss:  0.15852596362431845\n",
      "epoch:  325 Train loss:  0.1738818697631359 Val loss:  0.16280814011891684\n",
      "epoch:  326 Train loss:  0.17367673913637796 Val loss:  0.15940611561139426\n",
      "epoch:  327 Train loss:  0.1794291821618875 Val loss:  0.16255268454551697\n",
      "epoch:  328 Train loss:  0.17065771607061228 Val loss:  0.15655340254306793\n",
      "epoch:  329 Train loss:  0.16980946498612562 Val loss:  0.15640199184417725\n",
      "epoch:  330 Train loss:  0.17354487627744675 Val loss:  0.15989169975121817\n",
      "epoch:  331 Train loss:  0.1722958025832971 Val loss:  0.15791969497998556\n",
      "epoch:  332 Train loss:  0.16970150048534074 Val loss:  0.15897202988465628\n"
     ]
    },
    {
     "name": "stdout",
     "output_type": "stream",
     "text": [
      "epoch:  333 Train loss:  0.16540049389004707 Val loss:  0.16064470012982687\n",
      "epoch:  334 Train loss:  0.17239971086382866 Val loss:  0.16139386594295502\n",
      "epoch:  335 Train loss:  0.1683026241759459 Val loss:  0.1597209870815277\n",
      "epoch:  336 Train loss:  0.17763478805621466 Val loss:  0.16049555937449136\n",
      "epoch:  337 Train loss:  0.1744388540585836 Val loss:  0.15646020571390787\n",
      "epoch:  338 Train loss:  0.17159958680470785 Val loss:  0.15983766317367554\n",
      "epoch:  339 Train loss:  0.17415046753982702 Val loss:  0.15881889561812082\n",
      "epoch:  340 Train loss:  0.17624377831816673 Val loss:  0.15880249937375387\n",
      "epoch:  341 Train loss:  0.16724415868520737 Val loss:  0.16281132400035858\n",
      "epoch:  342 Train loss:  0.17351284374793371 Val loss:  0.15980936090151468\n",
      "epoch:  343 Train loss:  0.17893368192017078 Val loss:  0.15881724655628204\n",
      "epoch:  344 Train loss:  0.17382095381617546 Val loss:  0.15914371609687805\n",
      "epoch:  345 Train loss:  0.16919646660486856 Val loss:  0.16143675645192465\n",
      "epoch:  346 Train loss:  0.17013617977499962 Val loss:  0.16083654761314392\n",
      "epoch:  347 Train loss:  0.17484167839090028 Val loss:  0.16080465416113535\n",
      "epoch:  348 Train loss:  0.17272043724854788 Val loss:  0.16189291576544443\n",
      "epoch:  349 Train loss:  0.17004323254028955 Val loss:  0.16135212779045105\n",
      "epoch:  350 Train loss:  0.17005091781417528 Val loss:  0.15909629066785178\n",
      "epoch:  351 Train loss:  0.17415530110398927 Val loss:  0.168781449397405\n",
      "epoch:  352 Train loss:  0.1746306245525678 Val loss:  0.16296134889125824\n",
      "epoch:  353 Train loss:  0.1715223714709282 Val loss:  0.15984252095222473\n",
      "epoch:  354 Train loss:  0.17370825012524924 Val loss:  0.16690302888552347\n",
      "epoch:  355 Train loss:  0.17255385592579842 Val loss:  0.16189149022102356\n",
      "epoch:  356 Train loss:  0.1684230901300907 Val loss:  0.16239464282989502\n",
      "epoch:  357 Train loss:  0.173031784594059 Val loss:  0.15893171727657318\n",
      "epoch:  358 Train loss:  0.17315993209679922 Val loss:  0.15947071214516959\n",
      "epoch:  359 Train loss:  0.17160754278302193 Val loss:  0.16159563759962717\n",
      "epoch:  360 Train loss:  0.17391160875558853 Val loss:  0.16100917756557465\n",
      "epoch:  361 Train loss:  0.17494462803006172 Val loss:  0.15814122060934702\n",
      "epoch:  362 Train loss:  0.16935864463448524 Val loss:  0.16191773116588593\n",
      "epoch:  363 Train loss:  0.1742929071187973 Val loss:  0.15831716855367026\n",
      "epoch:  364 Train loss:  0.17888912310202917 Val loss:  0.16384145120779672\n",
      "epoch:  365 Train loss:  0.17262947435180345 Val loss:  0.15901824335257211\n",
      "epoch:  366 Train loss:  0.17164096857110658 Val loss:  0.15831348796685538\n",
      "epoch:  367 Train loss:  0.17035814126332602 Val loss:  0.1599616458018621\n",
      "epoch:  368 Train loss:  0.17064917335907617 Val loss:  0.15937966605027518\n",
      "epoch:  369 Train loss:  0.1771612080434958 Val loss:  0.15981072187423706\n",
      "epoch:  370 Train loss:  0.17146778230865797 Val loss:  0.16163018345832825\n",
      "epoch:  371 Train loss:  0.18184095745285353 Val loss:  0.16152418156464896\n",
      "epoch:  372 Train loss:  0.17252536738912264 Val loss:  0.15986385444800058\n",
      "epoch:  373 Train loss:  0.169751500710845 Val loss:  0.16004418830076853\n",
      "epoch:  374 Train loss:  0.17551094914476076 Val loss:  0.16051204005877176\n",
      "epoch:  375 Train loss:  0.17208324248592058 Val loss:  0.1611779977877935\n",
      "epoch:  376 Train loss:  0.17325719073414803 Val loss:  0.15890850126743317\n",
      "epoch:  377 Train loss:  0.17678045853972435 Val loss:  0.16105016072591147\n",
      "epoch:  378 Train loss:  0.17305226189394793 Val loss:  0.16158346831798553\n",
      "epoch:  379 Train loss:  0.17004967605074248 Val loss:  0.16127347449461618\n",
      "epoch:  380 Train loss:  0.17131494109829268 Val loss:  0.1612341602643331\n",
      "epoch:  381 Train loss:  0.17275584737459818 Val loss:  0.16038044293721518\n",
      "epoch:  382 Train loss:  0.17206251869599024 Val loss:  0.15999507904052734\n",
      "epoch:  383 Train loss:  0.1643327735364437 Val loss:  0.15961703658103943\n",
      "epoch:  384 Train loss:  0.16958707508941492 Val loss:  0.15691418449083963\n",
      "epoch:  385 Train loss:  0.17472816507021585 Val loss:  0.1592656672000885\n",
      "epoch:  386 Train loss:  0.17079992468158403 Val loss:  0.15966924031575522\n",
      "epoch:  387 Train loss:  0.17330957017838955 Val loss:  0.15748762587706247\n",
      "epoch:  388 Train loss:  0.16974781453609467 Val loss:  0.16091210643450418\n",
      "epoch:  389 Train loss:  0.17354396482308707 Val loss:  0.1605857014656067\n",
      "epoch:  390 Train loss:  0.1743636547277371 Val loss:  0.15983259677886963\n",
      "epoch:  391 Train loss:  0.17148183410366377 Val loss:  0.1589556485414505\n",
      "epoch:  392 Train loss:  0.1717589038113753 Val loss:  0.15978288650512695\n",
      "epoch:  393 Train loss:  0.16793365528186163 Val loss:  0.15990517536799112\n",
      "epoch:  394 Train loss:  0.17280645668506622 Val loss:  0.15989409387111664\n",
      "epoch:  395 Train loss:  0.1681454877058665 Val loss:  0.15968957543373108\n",
      "epoch:  396 Train loss:  0.1686598745485147 Val loss:  0.15794128676255545\n",
      "epoch:  397 Train loss:  0.16967342918117842 Val loss:  0.1580378313859304\n",
      "epoch:  398 Train loss:  0.17309104899565378 Val loss:  0.1576849420865377\n",
      "epoch:  399 Train loss:  0.17344449584682783 Val loss:  0.16026507318019867\n",
      "epoch:  400 Train loss:  0.16441625480850539 Val loss:  0.1603073130051295\n",
      "epoch:  401 Train loss:  0.16641170034805933 Val loss:  0.1579377899567286\n",
      "epoch:  402 Train loss:  0.16694841161370277 Val loss:  0.16066412130991617\n",
      "epoch:  403 Train loss:  0.17600714104870954 Val loss:  0.15912235279877981\n",
      "epoch:  404 Train loss:  0.1630352127055327 Val loss:  0.16077046593030295\n",
      "epoch:  405 Train loss:  0.17061321685711542 Val loss:  0.15939615666866302\n",
      "epoch:  406 Train loss:  0.16958054093023142 Val loss:  0.16053623457749686\n",
      "epoch:  407 Train loss:  0.17038074508309364 Val loss:  0.16102929910024008\n",
      "epoch:  408 Train loss:  0.16963226348161697 Val loss:  0.16042864322662354\n",
      "epoch:  409 Train loss:  0.16725310496985912 Val loss:  0.15910902619361877\n",
      "epoch:  410 Train loss:  0.1729241292923689 Val loss:  0.15850981076558432\n",
      "epoch:  411 Train loss:  0.17126911133527756 Val loss:  0.15911189218362173\n",
      "epoch:  412 Train loss:  0.17288067936897278 Val loss:  0.1568878491719564\n",
      "epoch:  413 Train loss:  0.1718305436273416 Val loss:  0.15678424636522928\n",
      "epoch:  414 Train loss:  0.1631481796503067 Val loss:  0.15779421726862589\n",
      "epoch:  415 Train loss:  0.17092855957647166 Val loss:  0.15976592401663461\n",
      "epoch:  416 Train loss:  0.16945220033327738 Val loss:  0.1592449297507604\n",
      "epoch:  417 Train loss:  0.16713561490178108 Val loss:  0.1576203058163325\n",
      "epoch:  418 Train loss:  0.17260669668515524 Val loss:  0.16311527788639069\n",
      "epoch:  419 Train loss:  0.17114805926879248 Val loss:  0.15859525402386984\n",
      "epoch:  420 Train loss:  0.1625011054178079 Val loss:  0.1580539991458257\n",
      "epoch:  421 Train loss:  0.17004306862751642 Val loss:  0.1596605678399404\n",
      "epoch:  422 Train loss:  0.1698944258193175 Val loss:  0.15727868179480234\n",
      "epoch:  423 Train loss:  0.1708483248949051 Val loss:  0.16107131044069925\n",
      "epoch:  424 Train loss:  0.1707095205783844 Val loss:  0.15873761971791586\n",
      "epoch:  425 Train loss:  0.1687971018254757 Val loss:  0.15689964592456818\n",
      "epoch:  426 Train loss:  0.1704754096766313 Val loss:  0.1594612052043279\n",
      "epoch:  427 Train loss:  0.16741298449536166 Val loss:  0.15880627433458963\n",
      "epoch:  428 Train loss:  0.16817079111933708 Val loss:  0.15792571008205414\n",
      "epoch:  429 Train loss:  0.1689621185262998 Val loss:  0.16038092970848083\n",
      "epoch:  430 Train loss:  0.16776252165436745 Val loss:  0.15939498941103616\n",
      "epoch:  431 Train loss:  0.1684390020867189 Val loss:  0.16029338041941324\n",
      "epoch:  432 Train loss:  0.1681929441789786 Val loss:  0.16210351884365082\n",
      "epoch:  433 Train loss:  0.17316481719414392 Val loss:  0.15848505000273386\n",
      "epoch:  434 Train loss:  0.1669444814324379 Val loss:  0.15928133328755698\n",
      "epoch:  435 Train loss:  0.16919526209433874 Val loss:  0.15902545551458994\n",
      "epoch:  436 Train loss:  0.1662845847507318 Val loss:  0.1586818297704061\n",
      "epoch:  437 Train loss:  0.16706237941980362 Val loss:  0.15729754666487375\n",
      "epoch:  438 Train loss:  0.1635090901205937 Val loss:  0.1585181256135305\n",
      "epoch:  439 Train loss:  0.17102660238742828 Val loss:  0.15694246689478555\n",
      "epoch:  440 Train loss:  0.17158687487244606 Val loss:  0.1567163566748301\n",
      "epoch:  441 Train loss:  0.17326182251175246 Val loss:  0.161383385459582\n"
     ]
    },
    {
     "name": "stdout",
     "output_type": "stream",
     "text": [
      "epoch:  442 Train loss:  0.167261961226662 Val loss:  0.1558632254600525\n",
      "epoch:  443 Train loss:  0.16467367733518282 Val loss:  0.16102543969949087\n",
      "epoch:  444 Train loss:  0.1697386863331 Val loss:  0.15722265342871347\n",
      "epoch:  445 Train loss:  0.1734141781926155 Val loss:  0.15787412226200104\n",
      "epoch:  446 Train loss:  0.17019763216376305 Val loss:  0.1576663206020991\n",
      "epoch:  447 Train loss:  0.1697010099887848 Val loss:  0.16475863258043924\n",
      "epoch:  448 Train loss:  0.1733665963013967 Val loss:  0.15685750047365823\n",
      "epoch:  449 Train loss:  0.16728059574961662 Val loss:  0.15494304895401\n",
      "epoch:  450 Train loss:  0.17309057215849558 Val loss:  0.16900062561035156\n",
      "epoch:  451 Train loss:  0.1715287578602632 Val loss:  0.16137591501077017\n",
      "epoch:  452 Train loss:  0.1620166872938474 Val loss:  0.15801729261875153\n",
      "epoch:  453 Train loss:  0.16848531924188137 Val loss:  0.15743025143941244\n",
      "epoch:  454 Train loss:  0.16955084477861723 Val loss:  0.16059420506159464\n",
      "epoch:  455 Train loss:  0.16597507459421953 Val loss:  0.15761972963809967\n",
      "epoch:  456 Train loss:  0.1683873701840639 Val loss:  0.15692783892154694\n",
      "epoch:  457 Train loss:  0.17428321639696756 Val loss:  0.16279054681460062\n",
      "epoch:  458 Train loss:  0.16819164281090102 Val loss:  0.15712287028630575\n",
      "epoch:  459 Train loss:  0.16700614616274834 Val loss:  0.16142882406711578\n",
      "epoch:  460 Train loss:  0.17139086003104845 Val loss:  0.15942961474259695\n",
      "epoch:  461 Train loss:  0.16897217681010565 Val loss:  0.15990809599558511\n",
      "epoch:  462 Train loss:  0.16670384258031845 Val loss:  0.15855522950490317\n",
      "epoch:  463 Train loss:  0.16494965553283691 Val loss:  0.16185115277767181\n",
      "epoch:  464 Train loss:  0.1671894627312819 Val loss:  0.15871507426102957\n",
      "epoch:  465 Train loss:  0.16516511825223765 Val loss:  0.16067906220753989\n",
      "epoch:  466 Train loss:  0.17008812725543976 Val loss:  0.15961976846059164\n",
      "epoch:  467 Train loss:  0.16621199250221252 Val loss:  0.15952720741430917\n",
      "epoch:  468 Train loss:  0.16861455018321672 Val loss:  0.1580687016248703\n",
      "epoch:  469 Train loss:  0.1671918804446856 Val loss:  0.15751267472902933\n",
      "epoch:  470 Train loss:  0.17215564846992493 Val loss:  0.16077486177285513\n",
      "epoch:  471 Train loss:  0.16847070679068565 Val loss:  0.16288591424624124\n",
      "epoch:  472 Train loss:  0.1677369698882103 Val loss:  0.15974687536557516\n",
      "epoch:  473 Train loss:  0.16803153728445372 Val loss:  0.16170020401477814\n",
      "epoch:  474 Train loss:  0.17068422958254814 Val loss:  0.15701786677042642\n",
      "epoch:  475 Train loss:  0.1690727025270462 Val loss:  0.16124151150385538\n",
      "epoch:  476 Train loss:  0.16630283246437708 Val loss:  0.15716235836346945\n",
      "epoch:  477 Train loss:  0.1691759961346785 Val loss:  0.1593966136376063\n",
      "epoch:  478 Train loss:  0.16880066817005476 Val loss:  0.1598402907450994\n",
      "epoch:  479 Train loss:  0.1709639864663283 Val loss:  0.15735075374444327\n",
      "epoch:  480 Train loss:  0.16769653434554735 Val loss:  0.16253221035003662\n",
      "epoch:  481 Train loss:  0.16732378614445528 Val loss:  0.16205323735872904\n",
      "epoch:  482 Train loss:  0.1715166630844275 Val loss:  0.15830302238464355\n",
      "epoch:  483 Train loss:  0.16708005343874296 Val loss:  0.15993812183539072\n",
      "epoch:  484 Train loss:  0.1746321183939775 Val loss:  0.16052464644114176\n",
      "epoch:  485 Train loss:  0.17342320705453554 Val loss:  0.16039335230986276\n",
      "epoch:  486 Train loss:  0.17180959011117616 Val loss:  0.15625721712907156\n",
      "epoch:  487 Train loss:  0.16904805724819502 Val loss:  0.1607618679602941\n",
      "epoch:  488 Train loss:  0.1685998079677423 Val loss:  0.15867926677068075\n",
      "epoch:  489 Train loss:  0.16582257176438966 Val loss:  0.1636935124794642\n",
      "epoch:  490 Train loss:  0.1724061295390129 Val loss:  0.1637651026248932\n",
      "epoch:  491 Train loss:  0.16686060279607773 Val loss:  0.16355269153912863\n",
      "epoch:  492 Train loss:  0.16708278407653174 Val loss:  0.1610118548075358\n",
      "epoch:  493 Train loss:  0.1647824558118979 Val loss:  0.16213702162106833\n",
      "epoch:  494 Train loss:  0.16157902590930462 Val loss:  0.1618429273366928\n",
      "epoch:  495 Train loss:  0.16906275351842245 Val loss:  0.1592614601055781\n",
      "epoch:  496 Train loss:  0.16579755395650864 Val loss:  0.15934381385644278\n",
      "epoch:  497 Train loss:  0.1694883368909359 Val loss:  0.16120019058386484\n",
      "epoch:  498 Train loss:  0.1652588297923406 Val loss:  0.15631217261155447\n",
      "epoch:  499 Train loss:  0.16593514444927374 Val loss:  0.16004612545172373\n"
     ]
    }
   ],
   "source": [
    "train_loss_hist = []\n",
    "val_loss_hist = []\n",
    "best_loss = 1e10\n",
    "n_epochs = 500\n",
    "\n",
    "for epoch in range(n_epochs):\n",
    "    \n",
    "    model.train()\n",
    "    train_loss = 0\n",
    "    \n",
    "    for batch_data in trn_loader:\n",
    "        \n",
    "        inputs, trues = batch_data\n",
    "        inputs, trues = inputs.cuda(), trues.cuda()\n",
    "        input_c = torch.reshape(trues[:,:,-1], (trues.shape[0], 1))\n",
    "        \n",
    "        optimizer.zero_grad()\n",
    "        \n",
    "        preds = model(inputs, input_c)\n",
    "        true_ys = torch.reshape(trues[:,:,0:3], (trues.shape[0], 3))\n",
    "        loss = criterion(preds, true_ys).mean(dim=0).mean()\n",
    "        \n",
    "        loss.backward() #偏微分を計算\n",
    "        \n",
    "        train_loss += loss.item()\n",
    "\n",
    "        #パラメータを更新する\n",
    "        optimizer.step()\n",
    "    \n",
    "    val_loss = val_model(epoch)\n",
    "    train_loss_hist.append(train_loss / len(trn_loader))\n",
    "    val_loss_hist.append(val_loss)\n",
    "    \n",
    "    print(\"epoch: \", epoch, \"Train loss: \", train_loss / len(trn_loader), \"Val loss: \", val_loss)\n",
    "    \n",
    "    if val_loss < best_loss:\n",
    "        save_model_path = exp_dir + \"best_model\" + \".pt\"\n",
    "        torch.save(model, save_model_path)\n",
    "        best_loss = val_loss"
   ]
  },
  {
   "cell_type": "code",
   "execution_count": 52,
   "id": "4b80a69a",
   "metadata": {},
   "outputs": [
    {
     "data": {
      "image/png": "[encoded data removed]",
      "text/plain": [
       "<Figure size 640x480 with 1 Axes>"
      ]
     },
     "metadata": {},
     "output_type": "display_data"
    }
   ],
   "source": [
    "import matplotlib.pyplot as plt\n",
    "\n",
    "plt.plot(range(len(train_loss_hist)), train_loss_hist, c='b', label='train loss')\n",
    "plt.plot(range(len(val_loss_hist)), val_loss_hist, c='r', label='val loss')\n",
    "plt.xlabel(\"epoch\")\n",
    "plt.ylabel(\"loss\")\n",
    "plt.legend()\n",
    "plt.grid()\n",
    "plt.show()"
   ]
  },
  {
   "cell_type": "code",
   "execution_count": 53,
   "id": "ef7f373e",
   "metadata": {},
   "outputs": [
    {
     "data": {
      "text/plain": [
       "(449, 0.15494304895401)"
      ]
     },
     "execution_count": 53,
     "metadata": {},
     "output_type": "execute_result"
    }
   ],
   "source": [
    "np.argmin(val_loss_hist), np.min(val_loss_hist)"
   ]
  },
  {
   "cell_type": "code",
   "execution_count": 24,
   "id": "e7b1d63e",
   "metadata": {},
   "outputs": [],
   "source": [
    "save_model_path = exp_dir + \"best_model\" + \".pt\"\n",
    "\n",
    "model = torch.load(save_model_path)"
   ]
  },
  {
   "cell_type": "markdown",
   "id": "e56678d2",
   "metadata": {},
   "source": [
    "### Scatter plot"
   ]
  },
  {
   "cell_type": "code",
   "execution_count": 25,
   "id": "6288d75b",
   "metadata": {},
   "outputs": [
    {
     "ename": "NameError",
     "evalue": "name 'trn_dataset' is not defined",
     "output_type": "error",
     "traceback": [
      "\u001b[0;31m---------------------------------------------------------------------------\u001b[0m",
      "\u001b[0;31mNameError\u001b[0m                                 Traceback (most recent call last)",
      "Cell \u001b[0;32mIn[25], line 6\u001b[0m\n\u001b[1;32m      4\u001b[0m model\u001b[38;5;241m.\u001b[39meval()\n\u001b[1;32m      5\u001b[0m \u001b[38;5;28;01mwith\u001b[39;00m torch\u001b[38;5;241m.\u001b[39mno_grad(): \u001b[38;5;66;03m# 勾配計算の無効化\u001b[39;00m\n\u001b[0;32m----> 6\u001b[0m     \u001b[38;5;28;01mfor\u001b[39;00m \u001b[38;5;28mid\u001b[39m, data \u001b[38;5;129;01min\u001b[39;00m \u001b[38;5;28menumerate\u001b[39m(\u001b[43mtrn_dataset\u001b[49m):\n\u001b[1;32m      7\u001b[0m         inputs, trues \u001b[38;5;241m=\u001b[39m data\n\u001b[1;32m      8\u001b[0m         inputs, trues \u001b[38;5;241m=\u001b[39m inputs\u001b[38;5;241m.\u001b[39mcuda(), trues\u001b[38;5;241m.\u001b[39mcuda()\n",
      "\u001b[0;31mNameError\u001b[0m: name 'trn_dataset' is not defined"
     ]
    }
   ],
   "source": [
    "preds_list = []\n",
    "trues_list = []\n",
    "\n",
    "model.eval()\n",
    "with torch.no_grad(): # 勾配計算の無効化\n",
    "    for id, data in enumerate(trn_dataset):\n",
    "        inputs, trues = data\n",
    "        inputs, trues = inputs.cuda(), trues.cuda()\n",
    "        \n",
    "        inputs = torch.reshape(inputs, (1, seq_length, inputs.shape[-1]))\n",
    "        trues = torch.reshape(trues, (1, 1, trues.shape[-1]))\n",
    "        input_c = torch.reshape(trues[:,:,-1], (trues.shape[0], 1))\n",
    "        \n",
    "        preds = model(inputs, input_c)\n",
    "        true_ys = torch.reshape(trues[:,:,0:3], (trues.shape[0], 3))\n",
    "        \n",
    "        print(id)\n",
    "        preds_list.append(preds.to('cpu').detach().numpy().copy())\n",
    "        trues_list.append(true_ys.to('cpu').detach().numpy().copy())"
   ]
  },
  {
   "cell_type": "code",
   "execution_count": null,
   "id": "a6ae9acd",
   "metadata": {},
   "outputs": [],
   "source": [
    "np.array(trues_list).shape, np.array(preds_list).shape"
   ]
  },
  {
   "cell_type": "code",
   "execution_count": null,
   "id": "a2d438d0",
   "metadata": {},
   "outputs": [],
   "source": []
  },
  {
   "cell_type": "code",
   "execution_count": null,
   "id": "ba34efa8",
   "metadata": {},
   "outputs": [],
   "source": [
    "import matplotlib.pyplot as plt\n",
    "\n",
    "plt.figure(figsize=(5,5))\n",
    "plt.scatter(np.array(trues_list)[:,:,0], np.array(preds_list)[:,:,0], c = \"b\") # 散布図を描画\n",
    "plt.title(\"Train prediction\")\n",
    "plt.xlabel(\"Trues\")\n",
    "plt.ylabel(\"Predictions\")\n",
    "# y=x の対角線を追加\n",
    "#plt.plot([-2.0, 3.5], [-2.0, 3.5], 'r--')  # 赤の破線で対角線を描画\n",
    "\n",
    "plt.axis(\"equal\")  # X軸とY軸を同じスケールにする\n",
    "plt.show()"
   ]
  },
  {
   "cell_type": "code",
   "execution_count": 26,
   "id": "8ad4fc4a",
   "metadata": {},
   "outputs": [
    {
     "ename": "NameError",
     "evalue": "name 'val_dataset' is not defined",
     "output_type": "error",
     "traceback": [
      "\u001b[0;31m---------------------------------------------------------------------------\u001b[0m",
      "\u001b[0;31mNameError\u001b[0m                                 Traceback (most recent call last)",
      "Cell \u001b[0;32mIn[26], line 6\u001b[0m\n\u001b[1;32m      4\u001b[0m model\u001b[38;5;241m.\u001b[39meval()\n\u001b[1;32m      5\u001b[0m \u001b[38;5;28;01mwith\u001b[39;00m torch\u001b[38;5;241m.\u001b[39mno_grad(): \u001b[38;5;66;03m# 勾配計算の無効化\u001b[39;00m\n\u001b[0;32m----> 6\u001b[0m     \u001b[38;5;28;01mfor\u001b[39;00m \u001b[38;5;28mid\u001b[39m, data \u001b[38;5;129;01min\u001b[39;00m \u001b[38;5;28menumerate\u001b[39m(\u001b[43mval_dataset\u001b[49m):\n\u001b[1;32m      7\u001b[0m         inputs, trues \u001b[38;5;241m=\u001b[39m data\n\u001b[1;32m      8\u001b[0m         inputs, trues \u001b[38;5;241m=\u001b[39m inputs\u001b[38;5;241m.\u001b[39mcuda(), trues\u001b[38;5;241m.\u001b[39mcuda()\n",
      "\u001b[0;31mNameError\u001b[0m: name 'val_dataset' is not defined"
     ]
    }
   ],
   "source": [
    "preds_list = []\n",
    "trues_list = []\n",
    "\n",
    "model.eval()\n",
    "with torch.no_grad(): # 勾配計算の無効化\n",
    "    for id, data in enumerate(val_dataset):\n",
    "        inputs, trues = data\n",
    "        inputs, trues = inputs.cuda(), trues.cuda()\n",
    "        \n",
    "        inputs = torch.reshape(inputs, (1, seq_length, inputs.shape[-1]))\n",
    "        trues = torch.reshape(trues, (1, 1, trues.shape[-1]))\n",
    "        input_c = torch.reshape(trues[:,:,-1], (trues.shape[0], 1))\n",
    "        \n",
    "        preds = model(inputs, input_c)\n",
    "        true_ys = torch.reshape(trues[:,:,0:3], (trues.shape[0], 3))\n",
    "        \n",
    "        print(id)\n",
    "        preds_list.append(preds.to('cpu').detach().numpy().copy())\n",
    "        trues_list.append(true_ys.to('cpu').detach().numpy().copy())"
   ]
  },
  {
   "cell_type": "code",
   "execution_count": 51,
   "id": "40d8d0e8",
   "metadata": {},
   "outputs": [
    {
     "data": {
      "image/png": "[encoded data removed]",
      "text/plain": [
       "<Figure size 500x500 with 1 Axes>"
      ]
     },
     "metadata": {},
     "output_type": "display_data"
    }
   ],
   "source": [
    "import matplotlib.pyplot as plt\n",
    "\n",
    "plt.figure(figsize=(5,5))\n",
    "plt.scatter(np.array(trues_list)[:,:,0], np.array(preds_list)[:,:,0], c = \"b\") # 散布図を描画\n",
    "plt.title(\"Val prediction\")\n",
    "plt.xlabel(\"Trues\")\n",
    "plt.ylabel(\"Predictions\")\n",
    "# y=x の対角線を追加\n",
    "#plt.plot([-2.0, 3.5], [-2.0, 3.5], 'r--')  # 赤の破線で対角線を描画\n",
    "\n",
    "plt.axis(\"equal\")  # X軸とY軸を同じスケールにする\n",
    "\n",
    "plt.show()"
   ]
  },
  {
   "cell_type": "code",
   "execution_count": null,
   "id": "ef696ad6",
   "metadata": {},
   "outputs": [],
   "source": []
  },
  {
   "cell_type": "markdown",
   "id": "f600b84e",
   "metadata": {},
   "source": [
    "## Test prediction"
   ]
  },
  {
   "cell_type": "code",
   "execution_count": 27,
   "id": "0162aa9e",
   "metadata": {},
   "outputs": [],
   "source": [
    "#test_np = np.concatenate([test_ts_np.reshape(-1,1), test_ys_np, test_xs_np.reshape(-1,1)], axis = 1)\n",
    "\n",
    "train_np = np.load(exp_dir + \"train_np.npy\")\n",
    "test_np = np.load(exp_dir + \"test_np.npy\")"
   ]
  },
  {
   "cell_type": "code",
   "execution_count": 28,
   "id": "9d7565f7",
   "metadata": {},
   "outputs": [
    {
     "data": {
      "text/plain": [
       "((780, 4), (260, 4))"
      ]
     },
     "execution_count": 28,
     "metadata": {},
     "output_type": "execute_result"
    }
   ],
   "source": [
    "train_np.shape, test_np.shape"
   ]
  },
  {
   "cell_type": "code",
   "execution_count": 29,
   "id": "a12b45cf",
   "metadata": {},
   "outputs": [],
   "source": [
    "#元のデータの最大値と最小値を指定\n",
    "dat_min = 0\n",
    "dat_max = 3e5\n",
    "\n",
    "#スケール後の最大値と最小値を指定\n",
    "custom_min = 0\n",
    "custom_max = 100"
   ]
  },
  {
   "cell_type": "code",
   "execution_count": 30,
   "id": "e16ddc55",
   "metadata": {},
   "outputs": [],
   "source": [
    "test_scaled_ts = (np.array(test_np[:,0]) - dat_min) / (dat_max - dat_min) * (custom_max - custom_min) + custom_min"
   ]
  },
  {
   "cell_type": "code",
   "execution_count": 31,
   "id": "7c16aa9c",
   "metadata": {},
   "outputs": [
    {
     "name": "stderr",
     "output_type": "stream",
     "text": [
      "/opt/conda/lib/python3.10/site-packages/sklearn/base.py:493: UserWarning: X does not have valid feature names, but StandardScaler was fitted with feature names\n",
      "  warnings.warn(\n"
     ]
    }
   ],
   "source": [
    "test_scaled_ys = std_scaler.transform(test_np[:,1:3])"
   ]
  },
  {
   "cell_type": "code",
   "execution_count": 32,
   "id": "2e22839c",
   "metadata": {},
   "outputs": [
    {
     "data": {
      "text/plain": [
       "((260, 2), (260, 1), (260,))"
      ]
     },
     "execution_count": 32,
     "metadata": {},
     "output_type": "execute_result"
    }
   ],
   "source": [
    "test_scaled_ys.shape, test_scaled_ts.reshape(-1,1).shape, test_np[:,-1].shape"
   ]
  },
  {
   "cell_type": "code",
   "execution_count": 33,
   "id": "7236efd4",
   "metadata": {},
   "outputs": [],
   "source": [
    "test_all_np = np.concatenate([test_scaled_ts.reshape(-1,1), test_scaled_ys, test_np[:,-1].reshape(-1,1)], axis = 1)"
   ]
  },
  {
   "cell_type": "code",
   "execution_count": 34,
   "id": "680ba773",
   "metadata": {},
   "outputs": [
    {
     "data": {
      "text/plain": [
       "(260, 4)"
      ]
     },
     "execution_count": 34,
     "metadata": {},
     "output_type": "execute_result"
    }
   ],
   "source": [
    "test_all_np.shape"
   ]
  },
  {
   "cell_type": "code",
   "execution_count": 35,
   "id": "111bb559",
   "metadata": {},
   "outputs": [
    {
     "data": {
      "text/plain": [
       "((260,), (260,), (260, 2), (260, 4))"
      ]
     },
     "execution_count": 35,
     "metadata": {},
     "output_type": "execute_result"
    }
   ],
   "source": [
    "test_np[:,-1].shape, test_scaled_ts.shape, test_scaled_ys.shape, test_np.shape"
   ]
  },
  {
   "cell_type": "markdown",
   "id": "261520de",
   "metadata": {},
   "source": [
    "### 1. Prediction based on results from 40 days ago"
   ]
  },
  {
   "cell_type": "code",
   "execution_count": 36,
   "id": "40c5e632",
   "metadata": {},
   "outputs": [],
   "source": [
    "from typing import Tuple\n",
    "\n",
    "def make_sequence_data(data: np.ndarray, seq_size: int) -> Tuple[np.ndarray, np.ndarray]:\n",
    "    \n",
    "    \"\"\"データをsequence_sizeに指定したサイズのシーケンスに分けてシーケンスとその答えをarrayで返す\n",
    "    Args:\n",
    "        data (np.ndarray): 入力データ\n",
    "        seq_size (int): シーケンスサイズ\n",
    "    Returns:\n",
    "        seq_arr: seq_sizeに指定した数のシーケンスを格納するarray\n",
    "        target_arr: シーケンスに対応する答えを格納するarray\n",
    "    \"\"\"\n",
    "\n",
    "    num_data = len(data)\n",
    "    seq_data = []\n",
    "    target_data = []\n",
    "    \n",
    "    for i in range(num_data - seq_size):\n",
    "        seq_data.append(data[i:i+seq_size])\n",
    "        target_data.append(data[i+seq_size:i+seq_size+1])\n",
    "        \n",
    "    seq_arr = np.array(seq_data)\n",
    "    target_arr = np.array(target_data)\n",
    "\n",
    "    return seq_arr, target_arr"
   ]
  },
  {
   "cell_type": "code",
   "execution_count": 37,
   "id": "97f2f80b",
   "metadata": {},
   "outputs": [],
   "source": [
    "#何週前のデータから予測するか\n",
    "\n",
    "seq_length = 40\n",
    "\n",
    "test_Xs, test_ys = make_sequence_data(test_all_np, seq_length)"
   ]
  },
  {
   "cell_type": "code",
   "execution_count": 38,
   "id": "12591a35",
   "metadata": {},
   "outputs": [],
   "source": [
    "tst_xs_tensor = torch.Tensor(test_Xs)\n",
    "tst_ys_tensor = torch.Tensor(test_ys)"
   ]
  },
  {
   "cell_type": "code",
   "execution_count": 39,
   "id": "b79a2a1b",
   "metadata": {},
   "outputs": [],
   "source": [
    "from torch.utils.data import TensorDataset, DataLoader\n",
    "\n",
    "tst_dataset = TensorDataset(tst_xs_tensor, tst_ys_tensor)"
   ]
  },
  {
   "cell_type": "code",
   "execution_count": 40,
   "id": "b592ca93",
   "metadata": {},
   "outputs": [
    {
     "name": "stdout",
     "output_type": "stream",
     "text": [
      "0\n",
      "1\n",
      "2\n",
      "3\n",
      "4\n",
      "5\n",
      "6\n",
      "7\n",
      "8\n",
      "9\n",
      "10\n",
      "11\n",
      "12\n",
      "13\n",
      "14\n",
      "15\n",
      "16\n",
      "17\n",
      "18\n",
      "19\n",
      "20\n",
      "21\n",
      "22\n",
      "23\n",
      "24\n",
      "25\n",
      "26\n",
      "27\n",
      "28\n",
      "29\n",
      "30\n",
      "31\n",
      "32\n",
      "33\n",
      "34\n",
      "35\n",
      "36\n",
      "37\n",
      "38\n",
      "39\n",
      "40\n",
      "41\n",
      "42\n",
      "43\n",
      "44\n",
      "45\n",
      "46\n",
      "47\n",
      "48\n",
      "49\n",
      "50\n",
      "51\n",
      "52\n",
      "53\n",
      "54\n",
      "55\n",
      "56\n",
      "57\n",
      "58\n",
      "59\n",
      "60\n",
      "61\n",
      "62\n",
      "63\n",
      "64\n",
      "65\n",
      "66\n",
      "67\n",
      "68\n",
      "69\n",
      "70\n",
      "71\n",
      "72\n",
      "73\n",
      "74\n",
      "75\n",
      "76\n",
      "77\n",
      "78\n",
      "79\n",
      "80\n",
      "81\n",
      "82\n",
      "83\n",
      "84\n",
      "85\n",
      "86\n",
      "87\n",
      "88\n",
      "89\n",
      "90\n",
      "91\n",
      "92\n",
      "93\n",
      "94\n",
      "95\n",
      "96\n",
      "97\n",
      "98\n",
      "99\n",
      "100\n",
      "101\n",
      "102\n",
      "103\n",
      "104\n",
      "105\n",
      "106\n",
      "107\n",
      "108\n",
      "109\n",
      "110\n",
      "111\n",
      "112\n",
      "113\n",
      "114\n",
      "115\n",
      "116\n",
      "117\n",
      "118\n",
      "119\n",
      "120\n",
      "121\n",
      "122\n",
      "123\n",
      "124\n",
      "125\n",
      "126\n",
      "127\n",
      "128\n",
      "129\n",
      "130\n",
      "131\n",
      "132\n",
      "133\n",
      "134\n",
      "135\n",
      "136\n",
      "137\n",
      "138\n",
      "139\n",
      "140\n",
      "141\n",
      "142\n",
      "143\n",
      "144\n",
      "145\n",
      "146\n",
      "147\n",
      "148\n",
      "149\n",
      "150\n",
      "151\n",
      "152\n",
      "153\n",
      "154\n",
      "155\n",
      "156\n",
      "157\n",
      "158\n",
      "159\n",
      "160\n",
      "161\n",
      "162\n",
      "163\n",
      "164\n",
      "165\n",
      "166\n",
      "167\n",
      "168\n",
      "169\n",
      "170\n",
      "171\n",
      "172\n",
      "173\n",
      "174\n",
      "175\n",
      "176\n",
      "177\n",
      "178\n",
      "179\n",
      "180\n",
      "181\n",
      "182\n",
      "183\n",
      "184\n",
      "185\n",
      "186\n",
      "187\n",
      "188\n",
      "189\n",
      "190\n",
      "191\n",
      "192\n",
      "193\n",
      "194\n",
      "195\n",
      "196\n",
      "197\n",
      "198\n",
      "199\n",
      "200\n",
      "201\n",
      "202\n",
      "203\n",
      "204\n",
      "205\n",
      "206\n",
      "207\n",
      "208\n",
      "209\n",
      "210\n",
      "211\n",
      "212\n",
      "213\n",
      "214\n",
      "215\n",
      "216\n",
      "217\n",
      "218\n",
      "219\n"
     ]
    }
   ],
   "source": [
    "preds_list = []\n",
    "trues_list = []\n",
    "\n",
    "model.eval()\n",
    "with torch.no_grad(): # 勾配計算の無効化\n",
    "    for id, data in enumerate(tst_dataset):\n",
    "        inputs, trues = data\n",
    "        inputs, trues = inputs.cuda(), trues.cuda()\n",
    "        \n",
    "        inputs = torch.reshape(inputs, (1, seq_length, inputs.shape[-1]))\n",
    "        trues = torch.reshape(trues, (1, 1, trues.shape[-1]))\n",
    "        input_c = torch.reshape(trues[:,:,-1], (trues.shape[0], 1))\n",
    "        \n",
    "        preds = model(inputs, input_c)\n",
    "        true_ys = torch.reshape(trues[:,:,0:3], (trues.shape[0], 3))\n",
    "        \n",
    "        print(id)\n",
    "        preds_list.append(preds.to('cpu').detach().numpy().copy())\n",
    "        trues_list.append(true_ys.to('cpu').detach().numpy().copy())"
   ]
  },
  {
   "cell_type": "code",
   "execution_count": 41,
   "id": "f6c06368",
   "metadata": {},
   "outputs": [
    {
     "data": {
      "image/png": "[encoded data removed]",
      "text/plain": [
       "<Figure size 400x400 with 1 Axes>"
      ]
     },
     "metadata": {},
     "output_type": "display_data"
    }
   ],
   "source": [
    "import matplotlib.pyplot as plt\n",
    "\n",
    "plt.figure(figsize=(5,5))\n",
    "plt.scatter(np.array(trues_list)[:,:,0], np.array(preds_list)[:,:,0], c = \"b\") # 散布図を描画\n",
    "plt.title(\"Test prediction\")\n",
    "plt.xlabel(\"Trues\")\n",
    "plt.ylabel(\"Predictions\")\n",
    "# y=x の対角線を追加\n",
    "#plt.plot([-2.0, 3.5], [-2.0, 3.5], 'r--')  # 赤の破線で対角線を描画\n",
    "plt.gca().set_aspect('equal', adjustable='datalim')\n",
    "\n",
    "plt.show()"
   ]
  },
  {
   "cell_type": "code",
   "execution_count": 42,
   "id": "4aa2df0c",
   "metadata": {},
   "outputs": [],
   "source": [
    "tst_trues, tst_preds = np.array(trues_list)[:,:,0], np.array(preds_list)[:,:,0]"
   ]
  },
  {
   "cell_type": "code",
   "execution_count": 43,
   "id": "cb54503c",
   "metadata": {},
   "outputs": [],
   "source": [
    "tst_preds = (np.array(preds_list)[:,:,0] - custom_min) / (custom_max - custom_min) * (dat_max - dat_min) + dat_min"
   ]
  },
  {
   "cell_type": "code",
   "execution_count": 44,
   "id": "2372da03",
   "metadata": {},
   "outputs": [
    {
     "data": {
      "image/png": "[encoded data removed]",
      "text/plain": [
       "<Figure size 400x400 with 1 Axes>"
      ]
     },
     "metadata": {},
     "output_type": "display_data"
    }
   ],
   "source": [
    "import matplotlib.pyplot as plt\n",
    "\n",
    "plt.figure(figsize=(5,5))\n",
    "plt.scatter(test_np[seq_length:,0], tst_preds, c = \"b\") # 散布図を描画\n",
    "plt.title(\"Test prediction (re scaled)\")\n",
    "plt.xlabel(\"Trues\")\n",
    "plt.ylabel(\"Predictions\")\n",
    "# y=x の対角線を追加\n",
    "#plt.plot([-2.0, 3.5], [-2.0, 3.5], 'r--')  # 赤の破線で対角線を描画\n",
    "\n",
    "plt.show()"
   ]
  },
  {
   "cell_type": "code",
   "execution_count": 45,
   "id": "bb9c8873",
   "metadata": {},
   "outputs": [
    {
     "data": {
      "text/plain": [
       "(220, 1)"
      ]
     },
     "execution_count": 45,
     "metadata": {},
     "output_type": "execute_result"
    }
   ],
   "source": [
    "tst_preds.shape"
   ]
  },
  {
   "cell_type": "code",
   "execution_count": null,
   "id": "cd33b05d",
   "metadata": {},
   "outputs": [],
   "source": []
  },
  {
   "cell_type": "code",
   "execution_count": 71,
   "id": "26d181ee",
   "metadata": {},
   "outputs": [
    {
     "data": {
      "text/plain": [
       "<matplotlib.legend.Legend at 0x7fbca5b694e0>"
      ]
     },
     "execution_count": 71,
     "metadata": {},
     "output_type": "execute_result"
    },
    {
     "data": {
      "image/png": "[encoded data removed]",
      "text/plain": [
       "<Figure size 1200x600 with 1 Axes>"
      ]
     },
     "metadata": {},
     "output_type": "display_data"
    }
   ],
   "source": [
    "plt.figure(figsize=(12, 6))\n",
    "plt.plot(test_steps, df_tokyo[\"Flucases\"][train_n:train_n+test_n],label=\"Test\")\n",
    "plt.plot(test_steps[seq_length:], tst_preds,label=\"Test_prediction\")\n",
    "\n",
    "plt.xlabel(\"week\")\n",
    "plt.ylabel(\"Flucases\")\n",
    "plt.legend()"
   ]
  },
  {
   "cell_type": "code",
   "execution_count": 46,
   "id": "05445ce2",
   "metadata": {},
   "outputs": [
    {
     "data": {
      "image/png": "[encoded data removed]",
      "text/plain": [
       "<Figure size 1120x640 with 1 Axes>"
      ]
     },
     "metadata": {},
     "output_type": "display_data"
    }
   ],
   "source": [
    "plt.figure(figsize=(14, 8))\n",
    "plt.style.use('classic')  # スタイリッシュな背景に変更\n",
    "\n",
    "# 実際のデータと予測データをプロット\n",
    "plt.plot(test_steps, df_tokyo[\"Flucases\"][train_n:train_n+test_n], label=\"Actual Test Data\", linestyle='--', linewidth=2, color='blue', alpha=0.8)\n",
    "plt.plot(test_steps[seq_length:], tst_preds, label=\"Prediction\", linestyle='-', linewidth=2, color='red', alpha=1.0)\n",
    "\n",
    "# 軸ラベルとタイトルを追加\n",
    "plt.xlabel(\"Week\", fontsize=20, fontweight='bold')\n",
    "plt.ylabel(\"Flucases\", fontsize=20, fontweight='bold')\n",
    "plt.title(\"Flucases Prediction (aux-vec LSTM)\", fontsize=24, fontweight='bold')\n",
    "\n",
    "# グリッドの調整\n",
    "plt.grid(color='gray', linestyle='--', linewidth=0.75, alpha=0.75)\n",
    "\n",
    "# 目盛りのフォントサイズを変更\n",
    "plt.xticks(fontsize=18)\n",
    "plt.yticks(fontsize=18)\n",
    "\n",
    "# 凡例の調整\n",
    "plt.legend(fontsize=20, loc='upper left', frameon=True, shadow=True)\n",
    "plt.ylim(bottom=-500)\n",
    "plt.xlim(left=min(test_steps) - 10, right = max(test_steps) + 10)\n",
    "\n",
    "# 仕上げ\n",
    "plt.tight_layout()\n",
    "plt.savefig(\"Flucases Prediction (aux-vec LSTM).jpg\", dpi=200, bbox_inches='tight', format='jpg')\n",
    "plt.show()"
   ]
  },
  {
   "cell_type": "code",
   "execution_count": 81,
   "id": "5602a694",
   "metadata": {},
   "outputs": [],
   "source": [
    "from sklearn.metrics import (\n",
    "    mean_squared_error,  # MSE\n",
    "    mean_absolute_error,  # MAE\n",
    "    r2_score, # R2\n",
    ")\n",
    "\n",
    "from scipy.stats import pearsonr\n",
    "\n",
    "def reg_metric(trues, preds, name):\n",
    "    mse = mean_squared_error(trues, preds)\n",
    "    rmse = np.sqrt(mse)\n",
    "    mae = mean_absolute_error(trues, preds)\n",
    "    r2 = r2_score(trues, preds)\n",
    "    r, p = pearsonr(trues, preds)\n",
    "    \n",
    "    print(name)\n",
    "    print(f'MSE : {mse}.')\n",
    "    print(f'RMSE : {rmse}.')\n",
    "    print(f'MAE : {mae}.')\n",
    "    print(f'R2 : {r2}.')\n",
    "    print(\"pearson :\", r, p)"
   ]
  },
  {
   "cell_type": "code",
   "execution_count": 82,
   "id": "dc3beb2a",
   "metadata": {},
   "outputs": [
    {
     "name": "stdout",
     "output_type": "stream",
     "text": [
      "Flucases\n",
      "MSE : 3646084.7400411074.\n",
      "RMSE : 1909.472372159678.\n",
      "MAE : 849.766976998069.\n",
      "R2 : 0.8422928700662378.\n",
      "pearson : 0.9244685850388222 2.9633107153988063e-93\n"
     ]
    }
   ],
   "source": [
    "reg_metric(test_np[seq_length:,0], tst_preds[:,0], \"Flucases\")"
   ]
  },
  {
   "cell_type": "code",
   "execution_count": null,
   "id": "24565d12",
   "metadata": {},
   "outputs": [],
   "source": []
  },
  {
   "cell_type": "markdown",
   "id": "8cca6b1f",
   "metadata": {},
   "source": [
    "### 2. step by step prediction"
   ]
  },
  {
   "cell_type": "code",
   "execution_count": 80,
   "id": "43474619",
   "metadata": {},
   "outputs": [
    {
     "data": {
      "text/plain": [
       "220"
      ]
     },
     "execution_count": 80,
     "metadata": {},
     "output_type": "execute_result"
    }
   ],
   "source": [
    "len(tst_dataset)"
   ]
  },
  {
   "cell_type": "code",
   "execution_count": 81,
   "id": "7d83c1e3",
   "metadata": {},
   "outputs": [],
   "source": [
    "init_dat = tst_dataset[0]"
   ]
  },
  {
   "cell_type": "code",
   "execution_count": 82,
   "id": "91d2621f",
   "metadata": {},
   "outputs": [],
   "source": [
    "init_inputs, init_trues = init_dat"
   ]
  },
  {
   "cell_type": "code",
   "execution_count": 83,
   "id": "98d213e2",
   "metadata": {},
   "outputs": [
    {
     "data": {
      "text/plain": [
       "(torch.Size([40, 4]), torch.Size([1, 4]))"
      ]
     },
     "execution_count": 83,
     "metadata": {},
     "output_type": "execute_result"
    }
   ],
   "source": [
    "init_inputs.shape, init_trues.shape"
   ]
  },
  {
   "cell_type": "code",
   "execution_count": 84,
   "id": "f1bfc4a2",
   "metadata": {},
   "outputs": [],
   "source": [
    "init_inputs, init_trues = init_inputs.cuda(), init_trues.cuda()\n",
    "        \n",
    "init_inputs = torch.reshape(init_inputs, (1, seq_length, init_inputs.shape[-1]))\n",
    "init_trues = torch.reshape(init_trues, (1, 1, init_trues.shape[-1]))\n",
    "input_c = torch.reshape(init_trues[:,:,-1], (init_trues.shape[0], 1))\n",
    "        \n",
    "preds = model(init_inputs, input_c)"
   ]
  },
  {
   "cell_type": "code",
   "execution_count": 85,
   "id": "a723318e",
   "metadata": {},
   "outputs": [
    {
     "data": {
      "text/plain": [
       "(torch.Size([1, 3]), torch.Size([1, 1]))"
      ]
     },
     "execution_count": 85,
     "metadata": {},
     "output_type": "execute_result"
    }
   ],
   "source": [
    "preds.shape, input_c.shape"
   ]
  },
  {
   "cell_type": "code",
   "execution_count": 86,
   "id": "662a5613",
   "metadata": {},
   "outputs": [],
   "source": [
    "preds_cat = torch.cat([preds, input_c], dim=1)"
   ]
  },
  {
   "cell_type": "code",
   "execution_count": 87,
   "id": "11d3e9f2",
   "metadata": {},
   "outputs": [
    {
     "data": {
      "text/plain": [
       "torch.Size([1, 1, 4])"
      ]
     },
     "execution_count": 87,
     "metadata": {},
     "output_type": "execute_result"
    }
   ],
   "source": [
    "preds_cat = torch.reshape(preds_cat, (1, 1, preds_cat.shape[-1]))\n",
    "preds_cat.shape"
   ]
  },
  {
   "cell_type": "code",
   "execution_count": 88,
   "id": "239166e0",
   "metadata": {},
   "outputs": [
    {
     "data": {
      "text/plain": [
       "torch.Size([1, 40, 4])"
      ]
     },
     "execution_count": 88,
     "metadata": {},
     "output_type": "execute_result"
    }
   ],
   "source": [
    "init_inputs.shape"
   ]
  },
  {
   "cell_type": "code",
   "execution_count": 89,
   "id": "69bf543e",
   "metadata": {},
   "outputs": [],
   "source": [
    "stack_inputs = torch.cat([init_inputs, preds_cat], dim=1)"
   ]
  },
  {
   "cell_type": "code",
   "execution_count": 90,
   "id": "d95cec1b",
   "metadata": {},
   "outputs": [
    {
     "data": {
      "text/plain": [
       "torch.Size([1, 41, 4])"
      ]
     },
     "execution_count": 90,
     "metadata": {},
     "output_type": "execute_result"
    }
   ],
   "source": [
    "stack_inputs.shape"
   ]
  },
  {
   "cell_type": "code",
   "execution_count": 91,
   "id": "01509d22",
   "metadata": {},
   "outputs": [
    {
     "data": {
      "text/plain": [
       "(260, 4)"
      ]
     },
     "execution_count": 91,
     "metadata": {},
     "output_type": "execute_result"
    }
   ],
   "source": [
    "test_np.shape"
   ]
  },
  {
   "cell_type": "code",
   "execution_count": 92,
   "id": "ea4a719b",
   "metadata": {},
   "outputs": [],
   "source": [
    "from torch.utils.data import TensorDataset, DataLoader\n",
    "\n",
    "#test_all_np = np.concatenate([test_scaled_ts.reshape(-1,1), test_scaled_ys, test_np[:,-1].reshape(-1,1)], axis = 1)\n",
    "\n",
    "tst_input_tensor = torch.from_numpy(test_np[:,-1].reshape(-1,1).astype(np.float32)).clone()\n",
    "tst_input_dataset = TensorDataset(tst_input_tensor)"
   ]
  },
  {
   "cell_type": "code",
   "execution_count": 93,
   "id": "18e82223",
   "metadata": {},
   "outputs": [
    {
     "data": {
      "text/plain": [
       "(torch.Size([1, 41, 4]), 260)"
      ]
     },
     "execution_count": 93,
     "metadata": {},
     "output_type": "execute_result"
    }
   ],
   "source": [
    "stack_inputs.shape, len(tst_input_dataset)"
   ]
  },
  {
   "cell_type": "code",
   "execution_count": null,
   "id": "fc84f484",
   "metadata": {},
   "outputs": [],
   "source": []
  },
  {
   "cell_type": "code",
   "execution_count": 94,
   "id": "a4deda29",
   "metadata": {},
   "outputs": [
    {
     "name": "stdout",
     "output_type": "stream",
     "text": [
      "0\n",
      "1\n",
      "2\n",
      "3\n",
      "4\n",
      "5\n",
      "6\n",
      "7\n",
      "8\n",
      "9\n",
      "10\n",
      "11\n",
      "12\n",
      "13\n",
      "14\n",
      "15\n",
      "16\n",
      "17\n",
      "18\n",
      "19\n",
      "20\n",
      "21\n",
      "22\n",
      "23\n",
      "24\n",
      "25\n",
      "26\n",
      "27\n",
      "28\n",
      "29\n",
      "30\n",
      "31\n",
      "32\n",
      "33\n",
      "34\n",
      "35\n",
      "36\n",
      "37\n",
      "38\n",
      "39\n",
      "40\n",
      "41\n",
      "42\n",
      "43\n",
      "44\n",
      "45\n",
      "46\n",
      "47\n",
      "48\n",
      "49\n",
      "50\n",
      "51\n",
      "52\n",
      "53\n",
      "54\n",
      "55\n",
      "56\n",
      "57\n",
      "58\n",
      "59\n",
      "60\n",
      "61\n",
      "62\n",
      "63\n",
      "64\n",
      "65\n",
      "66\n",
      "67\n",
      "68\n",
      "69\n",
      "70\n",
      "71\n",
      "72\n",
      "73\n",
      "74\n",
      "75\n",
      "76\n",
      "77\n",
      "78\n",
      "79\n",
      "80\n",
      "81\n",
      "82\n",
      "83\n",
      "84\n",
      "85\n",
      "86\n",
      "87\n",
      "88\n",
      "89\n",
      "90\n",
      "91\n",
      "92\n",
      "93\n",
      "94\n",
      "95\n",
      "96\n",
      "97\n",
      "98\n",
      "99\n",
      "100\n",
      "101\n",
      "102\n",
      "103\n",
      "104\n",
      "105\n",
      "106\n",
      "107\n",
      "108\n",
      "109\n",
      "110\n",
      "111\n",
      "112\n",
      "113\n",
      "114\n",
      "115\n",
      "116\n",
      "117\n",
      "118\n",
      "119\n",
      "120\n",
      "121\n",
      "122\n",
      "123\n",
      "124\n",
      "125\n",
      "126\n",
      "127\n",
      "128\n",
      "129\n",
      "130\n",
      "131\n",
      "132\n",
      "133\n",
      "134\n",
      "135\n",
      "136\n",
      "137\n",
      "138\n",
      "139\n",
      "140\n",
      "141\n",
      "142\n",
      "143\n",
      "144\n",
      "145\n",
      "146\n",
      "147\n",
      "148\n",
      "149\n",
      "150\n",
      "151\n",
      "152\n",
      "153\n",
      "154\n",
      "155\n",
      "156\n",
      "157\n",
      "158\n",
      "159\n",
      "160\n",
      "161\n",
      "162\n",
      "163\n",
      "164\n",
      "165\n",
      "166\n",
      "167\n",
      "168\n",
      "169\n",
      "170\n",
      "171\n",
      "172\n",
      "173\n",
      "174\n",
      "175\n",
      "176\n",
      "177\n",
      "178\n",
      "179\n",
      "180\n",
      "181\n",
      "182\n",
      "183\n",
      "184\n",
      "185\n",
      "186\n",
      "187\n",
      "188\n",
      "189\n",
      "190\n",
      "191\n",
      "192\n",
      "193\n",
      "194\n",
      "195\n",
      "196\n",
      "197\n",
      "198\n",
      "199\n",
      "200\n",
      "201\n",
      "202\n",
      "203\n",
      "204\n",
      "205\n",
      "206\n",
      "207\n",
      "208\n",
      "209\n",
      "210\n",
      "211\n",
      "212\n",
      "213\n",
      "214\n",
      "215\n",
      "216\n",
      "217\n",
      "218\n"
     ]
    }
   ],
   "source": [
    "model.eval()\n",
    "\n",
    "with torch.no_grad():\n",
    "    for id, tst_input in enumerate(list(tst_input_dataset)[len(stack_inputs[0]):]):\n",
    "        print(id)\n",
    "\n",
    "        input_c = torch.reshape(tst_input[0], (tst_input[0].shape[0], 1)).cuda()\n",
    "\n",
    "        preds = model(stack_inputs[:,-seq_length:,:].cuda(), input_c.cuda())\n",
    "        preds_cat = torch.cat([preds, input_c], dim=1)\n",
    "\n",
    "        preds_cat = torch.reshape(preds_cat, (1, 1, preds_cat.shape[-1]))\n",
    "        stack_inputs = torch.cat([stack_inputs, preds_cat], dim=1)"
   ]
  },
  {
   "cell_type": "code",
   "execution_count": 95,
   "id": "47a7ce8f",
   "metadata": {},
   "outputs": [
    {
     "data": {
      "text/plain": [
       "(torch.Size([1, 260, 4]), 260)"
      ]
     },
     "execution_count": 95,
     "metadata": {},
     "output_type": "execute_result"
    }
   ],
   "source": [
    "stack_inputs.shape, len(tst_input_dataset)"
   ]
  },
  {
   "cell_type": "code",
   "execution_count": 96,
   "id": "a07d202f",
   "metadata": {},
   "outputs": [],
   "source": [
    "ae_scaled_preds = stack_inputs[0][:,0].to('cpu').detach().numpy().copy()"
   ]
  },
  {
   "cell_type": "code",
   "execution_count": 97,
   "id": "10d6c641",
   "metadata": {},
   "outputs": [
    {
     "data": {
      "text/plain": [
       "(260,)"
      ]
     },
     "execution_count": 97,
     "metadata": {},
     "output_type": "execute_result"
    }
   ],
   "source": [
    "ae_scaled_preds.shape"
   ]
  },
  {
   "cell_type": "code",
   "execution_count": 98,
   "id": "e0ee34c4",
   "metadata": {},
   "outputs": [
    {
     "data": {
      "text/plain": [
       "(260,)"
      ]
     },
     "execution_count": 98,
     "metadata": {},
     "output_type": "execute_result"
    }
   ],
   "source": [
    "test_scaled_ts.shape"
   ]
  },
  {
   "cell_type": "code",
   "execution_count": 99,
   "id": "7fef3d4e",
   "metadata": {},
   "outputs": [
    {
     "data": {
      "image/png": "[encoded data removed]",
      "text/plain": [
       "<Figure size 500x500 with 1 Axes>"
      ]
     },
     "metadata": {},
     "output_type": "display_data"
    }
   ],
   "source": [
    "import matplotlib.pyplot as plt\n",
    "\n",
    "plt.figure(figsize=(5,5))\n",
    "plt.scatter(test_scaled_ts, ae_scaled_preds, c = \"b\") # 散布図を描画\n",
    "plt.title(\"Test prediction\")\n",
    "plt.xlabel(\"Trues\")\n",
    "plt.ylabel(\"Predictions\")\n",
    "# y=x の対角線を追加\n",
    "#plt.plot([-2.0, 3.5], [-2.0, 3.5], 'r--')  # 赤の破線で対角線を描画\n",
    "\n",
    "plt.show()"
   ]
  },
  {
   "cell_type": "code",
   "execution_count": 100,
   "id": "60fe1958",
   "metadata": {},
   "outputs": [],
   "source": [
    "#rescaled_tst_trues = (np.array(test_scaled_ts) - custom_min) / (custom_max - custom_min) * (dat_max - dat_min) + dat_min\n",
    "rescaled_tst_preds = (np.array(ae_scaled_preds) - custom_min) / (custom_max - custom_min) * (dat_max - dat_min) + dat_min"
   ]
  },
  {
   "cell_type": "code",
   "execution_count": 101,
   "id": "16d2a0b6",
   "metadata": {},
   "outputs": [
    {
     "data": {
      "text/plain": [
       "<matplotlib.legend.Legend at 0x7f3e9c2ca050>"
      ]
     },
     "execution_count": 101,
     "metadata": {},
     "output_type": "execute_result"
    },
    {
     "data": {
      "image/png": "[encoded data removed]",
      "text/plain": [
       "<Figure size 1200x600 with 1 Axes>"
      ]
     },
     "metadata": {},
     "output_type": "display_data"
    }
   ],
   "source": [
    "plt.figure(figsize=(12, 6))\n",
    "plt.plot(test_steps, df_tokyo[\"Flucases\"][train_n:train_n+test_n],label=\"Test\")\n",
    "plt.plot(test_steps, rescaled_tst_preds,label=\"Test_prediction\")\n",
    "plt.plot(test_steps[0:seq_length], rescaled_tst_preds[0:seq_length],label=\"Test_input\")\n",
    "\n",
    "plt.xlabel(\"week\")\n",
    "plt.ylabel(\"Flucases\")\n",
    "plt.legend()"
   ]
  },
  {
   "cell_type": "code",
   "execution_count": null,
   "id": "f7825a34",
   "metadata": {},
   "outputs": [],
   "source": []
  },
  {
   "cell_type": "code",
   "execution_count": null,
   "id": "0ea35a68",
   "metadata": {},
   "outputs": [],
   "source": []
  },
  {
   "cell_type": "markdown",
   "id": "134654dd",
   "metadata": {},
   "source": [
    "# Bidirectional LSTM model"
   ]
  },
  {
   "cell_type": "code",
   "execution_count": 83,
   "id": "59e4751a",
   "metadata": {},
   "outputs": [],
   "source": [
    "class bdcLSTM(nn.Module):\n",
    "    def __init__(self, input_size = 4, hidden_size=32, cond_size = 1, output_size=4, num_layers = 2):\n",
    "        super().__init__()\n",
    "        self.input_size = input_size\n",
    "        self.hidden_size = hidden_size\n",
    "        self.output_size = output_size\n",
    "        self.cond_size = cond_size\n",
    "        self.n_layers = num_layers\n",
    "        \n",
    "        self.relu = ReLU()\n",
    "        self.lrelu = LeakyReLU(negative_slope=0.01)\n",
    "        \n",
    "        # input_sizeは入力する次元数\n",
    "        self.lstm = nn.LSTM(input_size=self.input_size, num_layers=self.n_layers, hidden_size=self.hidden_size, dropout=0.2, bidirectional=True)\n",
    "        \n",
    "        self.cfc = nn.Linear(self.cond_size, int(self.hidden_size / 4))\n",
    "        \n",
    "        self.fc1 = nn.Linear(int(self.hidden_size / 4) + self.hidden_size * 2, self.hidden_size * 4)\n",
    "        self.fc2 = nn.Linear(self.hidden_size * 4, self.output_size)\n",
    "\n",
    "\n",
    "    def forward(self, x, cin):\n",
    "        last_outs, hidden = self.lstm(x) #(batch_size, seq_len, hidden * 2)\n",
    "        outs = last_outs[:, -1, :] #(batch_size, hidden * 2)\n",
    "        \n",
    "        ch = self.relu(self.cfc(cin))\n",
    "        \n",
    "        h_list = [outs, ch]\n",
    "        h1 = torch.cat(h_list, dim=1)\n",
    "        h2 = self.relu(self.fc1(h1))\n",
    "        h3 = self.fc2(h2)\n",
    "        \n",
    "        y_list = [self.relu(h3[:,0:1]), h3[:,1:3]]\n",
    "        ys = torch.cat(y_list, dim=1)\n",
    "\n",
    "        return ys"
   ]
  },
  {
   "cell_type": "code",
   "execution_count": 84,
   "id": "db9b7632",
   "metadata": {},
   "outputs": [],
   "source": [
    "bimodel = bdcLSTM(input_size = 4, hidden_size = 32, cond_size = 1, output_size = 3, num_layers = 2)"
   ]
  },
  {
   "cell_type": "code",
   "execution_count": 85,
   "id": "3accdfe7",
   "metadata": {},
   "outputs": [],
   "source": [
    "batch_0x = list(trn_loader)[0][0]\n",
    "batch_0c = list(trn_loader)[0][1]\n",
    "\n",
    "batch_0c = torch.reshape(batch_0c[:,:,-1], (batch_0c.shape[0], 1))"
   ]
  },
  {
   "cell_type": "code",
   "execution_count": 86,
   "id": "0c1a9b24",
   "metadata": {},
   "outputs": [
    {
     "data": {
      "text/plain": [
       "torch.Size([50, 1])"
      ]
     },
     "execution_count": 86,
     "metadata": {},
     "output_type": "execute_result"
    }
   ],
   "source": [
    "batch_0c.shape"
   ]
  },
  {
   "cell_type": "code",
   "execution_count": 87,
   "id": "1af2a790",
   "metadata": {},
   "outputs": [],
   "source": [
    "preds = bimodel(batch_0x, batch_0c)"
   ]
  },
  {
   "cell_type": "code",
   "execution_count": null,
   "id": "2c4abd7b",
   "metadata": {},
   "outputs": [],
   "source": []
  },
  {
   "cell_type": "markdown",
   "id": "0c2ee0f4",
   "metadata": {},
   "source": [
    "## Train"
   ]
  },
  {
   "cell_type": "code",
   "execution_count": 88,
   "id": "b93cc6d4",
   "metadata": {},
   "outputs": [
    {
     "data": {
      "text/plain": [
       "bdcLSTM(\n",
       "  (relu): ReLU()\n",
       "  (lrelu): LeakyReLU(negative_slope=0.01)\n",
       "  (lstm): LSTM(4, 32, num_layers=2, dropout=0.2, bidirectional=True)\n",
       "  (cfc): Linear(in_features=1, out_features=8, bias=True)\n",
       "  (fc1): Linear(in_features=72, out_features=128, bias=True)\n",
       "  (fc2): Linear(in_features=128, out_features=3, bias=True)\n",
       ")"
      ]
     },
     "execution_count": 88,
     "metadata": {},
     "output_type": "execute_result"
    }
   ],
   "source": [
    "bimodel.cuda()"
   ]
  },
  {
   "cell_type": "code",
   "execution_count": 89,
   "id": "3c1eb9de",
   "metadata": {},
   "outputs": [],
   "source": [
    "criterion = nn.MSELoss(reduction='none').cuda()\n",
    "optimizer = optim.Adam(bimodel.parameters(), lr=1e-3)"
   ]
  },
  {
   "cell_type": "code",
   "execution_count": 90,
   "id": "9967aaf4",
   "metadata": {},
   "outputs": [],
   "source": [
    "def val_model(epoch):\n",
    "    \n",
    "    bimodel.eval()\n",
    "    \n",
    "    sum_errors = 0\n",
    "    \n",
    "    for batch_data in val_loader:\n",
    "       \n",
    "        with torch.no_grad():\n",
    "            \n",
    "            if torch.cuda.is_available():\n",
    "                inputs, trues = batch_data\n",
    "                inputs, trues = inputs.cuda(), trues.cuda()\n",
    "                input_c = torch.reshape(trues[:,:,-1], (trues.shape[0], 1))\n",
    "\n",
    "            preds = bimodel(inputs, input_c)\n",
    "            true_ys = torch.reshape(trues[:,:,0:3], (trues.shape[0], 3))\n",
    "            loss = criterion(preds, true_ys).mean(dim=0).mean()\n",
    "            \n",
    "            sum_errors = sum_errors + loss.data.item()\n",
    "\n",
    "            del loss\n",
    "            torch.cuda.empty_cache()\n",
    "            \n",
    "    return sum_errors / len(val_loader)"
   ]
  },
  {
   "cell_type": "code",
   "execution_count": 91,
   "id": "71cf761a",
   "metadata": {},
   "outputs": [
    {
     "name": "stdout",
     "output_type": "stream",
     "text": [
      "epoch:  0 Train loss:  0.9618216107288996 Val loss:  0.9728061755498251\n",
      "epoch:  1 Train loss:  0.9406689604123434 Val loss:  0.9245594541231791\n",
      "epoch:  2 Train loss:  0.8583179960648218 Val loss:  0.7812699675559998\n",
      "epoch:  3 Train loss:  0.6744190429647764 Val loss:  0.517543892065684\n",
      "epoch:  4 Train loss:  0.45736441512902576 Val loss:  0.36674217383066815\n",
      "epoch:  5 Train loss:  0.36778005088369053 Val loss:  0.3373766491810481\n",
      "epoch:  6 Train loss:  0.33512861281633377 Val loss:  0.31242160002390545\n",
      "epoch:  7 Train loss:  0.2980753642817338 Val loss:  0.27752454578876495\n",
      "epoch:  8 Train loss:  0.2722414880990982 Val loss:  0.25319216152032215\n",
      "epoch:  9 Train loss:  0.26047031457225484 Val loss:  0.24616405367851257\n",
      "epoch:  10 Train loss:  0.24614373594522476 Val loss:  0.22184295455614725\n",
      "epoch:  11 Train loss:  0.22581753507256508 Val loss:  0.20127574602762857\n",
      "epoch:  12 Train loss:  0.22843858102957407 Val loss:  0.19318552811940512\n",
      "epoch:  13 Train loss:  0.22289172125359377 Val loss:  0.18768282234668732\n",
      "epoch:  14 Train loss:  0.21793955440322557 Val loss:  0.18828518688678741\n",
      "epoch:  15 Train loss:  0.21581036473313966 Val loss:  0.18810643255710602\n",
      "epoch:  16 Train loss:  0.21823402059574923 Val loss:  0.1794966459274292\n",
      "epoch:  17 Train loss:  0.20917618026336035 Val loss:  0.17671744028727213\n",
      "epoch:  18 Train loss:  0.21475200479229292 Val loss:  0.1781216561794281\n",
      "epoch:  19 Train loss:  0.21933873991171518 Val loss:  0.18566480775674185\n",
      "epoch:  20 Train loss:  0.21074180925885835 Val loss:  0.18093258639176688\n",
      "epoch:  21 Train loss:  0.20746630554397902 Val loss:  0.17869884272416434\n",
      "epoch:  22 Train loss:  0.20769218976298967 Val loss:  0.17582125961780548\n",
      "epoch:  23 Train loss:  0.20701626812418303 Val loss:  0.17702801525592804\n",
      "epoch:  24 Train loss:  0.2041949120660623 Val loss:  0.17780970533688864\n",
      "epoch:  25 Train loss:  0.2021507869164149 Val loss:  0.17369669179121652\n",
      "epoch:  26 Train loss:  0.20244554554422697 Val loss:  0.1753825843334198\n",
      "epoch:  27 Train loss:  0.20246546094616255 Val loss:  0.17142534255981445\n",
      "epoch:  28 Train loss:  0.20076187700033188 Val loss:  0.17379466195901236\n",
      "epoch:  29 Train loss:  0.19263898581266403 Val loss:  0.1775220682223638\n",
      "epoch:  30 Train loss:  0.19896932815512022 Val loss:  0.1728509565194448\n",
      "epoch:  31 Train loss:  0.19845695172746977 Val loss:  0.17192926009496054\n",
      "epoch:  32 Train loss:  0.1955415482322375 Val loss:  0.174913356701533\n",
      "epoch:  33 Train loss:  0.1981856810549895 Val loss:  0.1752541462580363\n",
      "epoch:  34 Train loss:  0.1976768101255099 Val loss:  0.17294919987519583\n",
      "epoch:  35 Train loss:  0.20045308644572893 Val loss:  0.17334623634815216\n",
      "epoch:  36 Train loss:  0.19525145242611566 Val loss:  0.1708699365456899\n",
      "epoch:  37 Train loss:  0.1911784882346789 Val loss:  0.17191007733345032\n",
      "epoch:  38 Train loss:  0.19054829701781273 Val loss:  0.17027374605337778\n",
      "epoch:  39 Train loss:  0.18607680623730025 Val loss:  0.17216903467973074\n",
      "epoch:  40 Train loss:  0.19150146593650183 Val loss:  0.17025270561377207\n",
      "epoch:  41 Train loss:  0.19966112822294235 Val loss:  0.17135682702064514\n",
      "epoch:  42 Train loss:  0.1929063101609548 Val loss:  0.17993468542893729\n",
      "epoch:  43 Train loss:  0.18876978009939194 Val loss:  0.16797112425168356\n",
      "epoch:  44 Train loss:  0.19648136074344316 Val loss:  0.16777167717615762\n",
      "epoch:  45 Train loss:  0.19422625129421553 Val loss:  0.17357732355594635\n",
      "epoch:  46 Train loss:  0.18950214236974716 Val loss:  0.16882105668385824\n",
      "epoch:  47 Train loss:  0.18761288623015085 Val loss:  0.16722620030244192\n",
      "epoch:  48 Train loss:  0.19216839472452799 Val loss:  0.16809603571891785\n",
      "epoch:  49 Train loss:  0.18751013775666556 Val loss:  0.1675007939338684\n",
      "epoch:  50 Train loss:  0.1891914295653502 Val loss:  0.1673283576965332\n",
      "epoch:  51 Train loss:  0.19317514076828957 Val loss:  0.1729867160320282\n",
      "epoch:  52 Train loss:  0.18976892158389091 Val loss:  0.16604856153329214\n",
      "epoch:  53 Train loss:  0.1864594208697478 Val loss:  0.1658157010873159\n",
      "epoch:  54 Train loss:  0.19113230084379515 Val loss:  0.16346419354279837\n",
      "epoch:  55 Train loss:  0.18749980131785074 Val loss:  0.16541067759195963\n",
      "epoch:  56 Train loss:  0.1850010355313619 Val loss:  0.1663807580868403\n",
      "epoch:  57 Train loss:  0.18571554496884346 Val loss:  0.1660318821668625\n",
      "epoch:  58 Train loss:  0.18834383661548296 Val loss:  0.16579941908518472\n",
      "epoch:  59 Train loss:  0.1830466315150261 Val loss:  0.16790095468362173\n",
      "epoch:  60 Train loss:  0.18838748708367348 Val loss:  0.16475814084211984\n",
      "epoch:  61 Train loss:  0.18307121843099594 Val loss:  0.16577703754107156\n",
      "epoch:  62 Train loss:  0.18461760754386583 Val loss:  0.16356047987937927\n",
      "epoch:  63 Train loss:  0.18769079446792603 Val loss:  0.16463424762090048\n",
      "epoch:  64 Train loss:  0.1900429626305898 Val loss:  0.16725596288839975\n",
      "epoch:  65 Train loss:  0.18537065635124841 Val loss:  0.16567066311836243\n",
      "epoch:  66 Train loss:  0.1777069866657257 Val loss:  0.16330331563949585\n",
      "epoch:  67 Train loss:  0.1854878105223179 Val loss:  0.16425038377443948\n",
      "epoch:  68 Train loss:  0.18338384479284286 Val loss:  0.16657270987828574\n",
      "epoch:  69 Train loss:  0.1839050973455111 Val loss:  0.16655591130256653\n",
      "epoch:  70 Train loss:  0.18729746093352637 Val loss:  0.16893748939037323\n",
      "epoch:  71 Train loss:  0.17993984619776407 Val loss:  0.16639724373817444\n",
      "epoch:  72 Train loss:  0.18344675625363985 Val loss:  0.16231677929560342\n",
      "epoch:  73 Train loss:  0.17912851149837175 Val loss:  0.16261662542819977\n",
      "epoch:  74 Train loss:  0.18291126874585947 Val loss:  0.1629240612188975\n",
      "epoch:  75 Train loss:  0.1809995969136556 Val loss:  0.16096449891726175\n",
      "epoch:  76 Train loss:  0.18211088702082634 Val loss:  0.1644274244705836\n",
      "epoch:  77 Train loss:  0.1844176103671392 Val loss:  0.16394161184628805\n",
      "epoch:  78 Train loss:  0.18468022594849268 Val loss:  0.16264136135578156\n",
      "epoch:  79 Train loss:  0.17699983219305673 Val loss:  0.16374571621418\n",
      "epoch:  80 Train loss:  0.17890197783708572 Val loss:  0.16367685794830322\n",
      "epoch:  81 Train loss:  0.18131839483976364 Val loss:  0.16163421173890433\n",
      "epoch:  82 Train loss:  0.1795558718343576 Val loss:  0.16198810935020447\n",
      "epoch:  83 Train loss:  0.18328439071774483 Val loss:  0.16213906308015189\n",
      "epoch:  84 Train loss:  0.18168169322113195 Val loss:  0.1606756697098414\n",
      "epoch:  85 Train loss:  0.17979616795976958 Val loss:  0.1616625338792801\n",
      "epoch:  86 Train loss:  0.18677034974098206 Val loss:  0.16954546173413595\n",
      "epoch:  87 Train loss:  0.18502091119686762 Val loss:  0.1644141972064972\n",
      "epoch:  88 Train loss:  0.18153762569030127 Val loss:  0.16309871772925058\n",
      "epoch:  89 Train loss:  0.1808975338935852 Val loss:  0.1642263432343801\n",
      "epoch:  90 Train loss:  0.17763031646609306 Val loss:  0.16183140377203623\n",
      "epoch:  91 Train loss:  0.17909973983963332 Val loss:  0.16193959613641104\n",
      "epoch:  92 Train loss:  0.18144607543945312 Val loss:  0.1677126040061315\n",
      "epoch:  93 Train loss:  0.18102325623234114 Val loss:  0.16138805945714316\n",
      "epoch:  94 Train loss:  0.18311690787474313 Val loss:  0.1588385005791982\n",
      "epoch:  95 Train loss:  0.1773735744257768 Val loss:  0.1641237735748291\n",
      "epoch:  96 Train loss:  0.1844696824749311 Val loss:  0.1637181987365087\n",
      "epoch:  97 Train loss:  0.1787735608716806 Val loss:  0.16361157099405924\n",
      "epoch:  98 Train loss:  0.18088532611727715 Val loss:  0.16041875382264456\n",
      "epoch:  99 Train loss:  0.1739921805759271 Val loss:  0.1590927392244339\n",
      "epoch:  100 Train loss:  0.1784752979874611 Val loss:  0.1630787452061971\n",
      "epoch:  101 Train loss:  0.18107266972462335 Val loss:  0.16526990135510763\n",
      "epoch:  102 Train loss:  0.1845774439473947 Val loss:  0.16239240765571594\n",
      "epoch:  103 Train loss:  0.18556548282504082 Val loss:  0.15970060726006827\n",
      "epoch:  104 Train loss:  0.17859949047366777 Val loss:  0.16119666894276938\n",
      "epoch:  105 Train loss:  0.17688658833503723 Val loss:  0.15908314287662506\n",
      "epoch:  106 Train loss:  0.17229106153051058 Val loss:  0.16085441907246908\n",
      "epoch:  107 Train loss:  0.1775155533105135 Val loss:  0.1608225256204605\n",
      "epoch:  108 Train loss:  0.17670515676339468 Val loss:  0.15945971012115479\n",
      "epoch:  109 Train loss:  0.17935719092686972 Val loss:  0.1680207500855128\n",
      "epoch:  110 Train loss:  0.1844121670971314 Val loss:  0.16071298718452454\n",
      "epoch:  111 Train loss:  0.17681347330411276 Val loss:  0.1591410686572393\n",
      "epoch:  112 Train loss:  0.18182520692547163 Val loss:  0.16237116356690726\n"
     ]
    },
    {
     "name": "stdout",
     "output_type": "stream",
     "text": [
      "epoch:  113 Train loss:  0.17626247803370157 Val loss:  0.1624020834763845\n",
      "epoch:  114 Train loss:  0.1751212179660797 Val loss:  0.16176767647266388\n",
      "epoch:  115 Train loss:  0.17463511725266775 Val loss:  0.15862890084584555\n",
      "epoch:  116 Train loss:  0.182816115518411 Val loss:  0.16760816673437753\n",
      "epoch:  117 Train loss:  0.17642577923834324 Val loss:  0.15936130285263062\n",
      "epoch:  118 Train loss:  0.18011620392402014 Val loss:  0.15882953504721323\n",
      "epoch:  119 Train loss:  0.18046167741219202 Val loss:  0.15901291370391846\n",
      "epoch:  120 Train loss:  0.18117751802007356 Val loss:  0.15842815240224203\n",
      "epoch:  121 Train loss:  0.17572777345776558 Val loss:  0.1587323248386383\n",
      "epoch:  122 Train loss:  0.1830054223537445 Val loss:  0.16172381242116293\n",
      "epoch:  123 Train loss:  0.17608007788658142 Val loss:  0.15904949605464935\n",
      "epoch:  124 Train loss:  0.18096127236882845 Val loss:  0.1605335772037506\n",
      "epoch:  125 Train loss:  0.1784895397722721 Val loss:  0.15990489721298218\n",
      "epoch:  126 Train loss:  0.1771615594625473 Val loss:  0.16261819501717886\n",
      "epoch:  127 Train loss:  0.1802519572277864 Val loss:  0.15937709311644235\n",
      "epoch:  128 Train loss:  0.17536292846004167 Val loss:  0.15921575327714285\n",
      "epoch:  129 Train loss:  0.1757204718887806 Val loss:  0.15946942071119943\n",
      "epoch:  130 Train loss:  0.18056646113594374 Val loss:  0.15831571320692697\n",
      "epoch:  131 Train loss:  0.17741691693663597 Val loss:  0.16197570661703745\n",
      "epoch:  132 Train loss:  0.1786213181912899 Val loss:  0.16000257432460785\n",
      "epoch:  133 Train loss:  0.1799802929162979 Val loss:  0.1569853276014328\n",
      "epoch:  134 Train loss:  0.17663388885557652 Val loss:  0.15877005457878113\n",
      "epoch:  135 Train loss:  0.17980592573682466 Val loss:  0.16325304905573526\n",
      "epoch:  136 Train loss:  0.1805938556790352 Val loss:  0.16307181119918823\n",
      "epoch:  137 Train loss:  0.17697867254416147 Val loss:  0.157000203927358\n",
      "epoch:  138 Train loss:  0.1715245582163334 Val loss:  0.15666942795117697\n",
      "epoch:  139 Train loss:  0.17694451411565146 Val loss:  0.16126948098341623\n",
      "epoch:  140 Train loss:  0.17614384119709334 Val loss:  0.1589892456928889\n",
      "epoch:  141 Train loss:  0.17436682929595312 Val loss:  0.15756680568059286\n",
      "epoch:  142 Train loss:  0.1726132109761238 Val loss:  0.15901246666908264\n",
      "epoch:  143 Train loss:  0.17432808627684912 Val loss:  0.15970968703428903\n",
      "epoch:  144 Train loss:  0.17559070388476053 Val loss:  0.1590284357468287\n",
      "epoch:  145 Train loss:  0.1736498586833477 Val loss:  0.15532936652501425\n",
      "epoch:  146 Train loss:  0.1741700954735279 Val loss:  0.15505041678746542\n",
      "epoch:  147 Train loss:  0.17693978796402612 Val loss:  0.15758554637432098\n",
      "epoch:  148 Train loss:  0.1766237144668897 Val loss:  0.15795882046222687\n",
      "epoch:  149 Train loss:  0.17926987881461778 Val loss:  0.15785948435465494\n",
      "epoch:  150 Train loss:  0.17545747756958008 Val loss:  0.15894347925980887\n",
      "epoch:  151 Train loss:  0.1778506524860859 Val loss:  0.16299968461195627\n",
      "epoch:  152 Train loss:  0.17235861967007318 Val loss:  0.15990662574768066\n",
      "epoch:  153 Train loss:  0.17524836212396622 Val loss:  0.15980949501196542\n",
      "epoch:  154 Train loss:  0.1731884703040123 Val loss:  0.15717333555221558\n",
      "epoch:  155 Train loss:  0.17622562622030577 Val loss:  0.1600270668665568\n",
      "epoch:  156 Train loss:  0.16932909190654755 Val loss:  0.16213113069534302\n",
      "epoch:  157 Train loss:  0.17504026119907698 Val loss:  0.15653602282206217\n",
      "epoch:  158 Train loss:  0.1777751495440801 Val loss:  0.15789315104484558\n",
      "epoch:  159 Train loss:  0.17712432891130447 Val loss:  0.156623308857282\n",
      "epoch:  160 Train loss:  0.1704814818998178 Val loss:  0.1586493800083796\n",
      "epoch:  161 Train loss:  0.17758842185139656 Val loss:  0.15628747642040253\n",
      "epoch:  162 Train loss:  0.17141454915205637 Val loss:  0.15876833101113638\n",
      "epoch:  163 Train loss:  0.17490671202540398 Val loss:  0.1602773368358612\n",
      "epoch:  164 Train loss:  0.1772790290415287 Val loss:  0.1573837548494339\n",
      "epoch:  165 Train loss:  0.1728422318895658 Val loss:  0.154027650753657\n",
      "epoch:  166 Train loss:  0.16919732093811035 Val loss:  0.1565714826186498\n",
      "epoch:  167 Train loss:  0.174539132664601 Val loss:  0.15884587665398917\n",
      "epoch:  168 Train loss:  0.1768549003948768 Val loss:  0.15647665659586588\n",
      "epoch:  169 Train loss:  0.17531324674685797 Val loss:  0.1564484785000483\n",
      "epoch:  170 Train loss:  0.1723801034192244 Val loss:  0.16104919711748758\n",
      "epoch:  171 Train loss:  0.17014535578588644 Val loss:  0.1583430916070938\n",
      "epoch:  172 Train loss:  0.17603186766306558 Val loss:  0.1590894560019175\n",
      "epoch:  173 Train loss:  0.17593793695171675 Val loss:  0.1582747052113215\n",
      "epoch:  174 Train loss:  0.1688409416625897 Val loss:  0.1606108397245407\n",
      "epoch:  175 Train loss:  0.17155675093332926 Val loss:  0.15732096632321677\n",
      "epoch:  176 Train loss:  0.1693744013706843 Val loss:  0.1584904044866562\n",
      "epoch:  177 Train loss:  0.17429814239343008 Val loss:  0.16430468360582987\n",
      "epoch:  178 Train loss:  0.18131634034216404 Val loss:  0.15802223483721414\n",
      "epoch:  179 Train loss:  0.1752571960290273 Val loss:  0.16218886772791544\n",
      "epoch:  180 Train loss:  0.17728451266884804 Val loss:  0.16142378747463226\n",
      "epoch:  181 Train loss:  0.1728868018835783 Val loss:  0.16051008800665537\n",
      "epoch:  182 Train loss:  0.17230498666564623 Val loss:  0.15849106013774872\n",
      "epoch:  183 Train loss:  0.1716951591273149 Val loss:  0.15972380340099335\n",
      "epoch:  184 Train loss:  0.17577759362757206 Val loss:  0.16130322714646658\n",
      "epoch:  185 Train loss:  0.17417156075437865 Val loss:  0.15722804764906564\n",
      "epoch:  186 Train loss:  0.16672748203078905 Val loss:  0.1571841686964035\n",
      "epoch:  187 Train loss:  0.17156169191002846 Val loss:  0.15824468930562338\n",
      "epoch:  188 Train loss:  0.17217782015601793 Val loss:  0.16082883874575296\n",
      "epoch:  189 Train loss:  0.17314437155922255 Val loss:  0.15691493451595306\n",
      "epoch:  190 Train loss:  0.16935652246077856 Val loss:  0.157991756995519\n",
      "epoch:  191 Train loss:  0.16962823395927748 Val loss:  0.15871843695640564\n",
      "epoch:  192 Train loss:  0.1705757019420465 Val loss:  0.15747424960136414\n",
      "epoch:  193 Train loss:  0.16761893779039383 Val loss:  0.1570498396952947\n",
      "epoch:  194 Train loss:  0.17031758526961008 Val loss:  0.1568731814622879\n",
      "epoch:  195 Train loss:  0.17411655063430467 Val loss:  0.15798369546731314\n",
      "epoch:  196 Train loss:  0.17289287596940994 Val loss:  0.158474529782931\n",
      "epoch:  197 Train loss:  0.16964866469303766 Val loss:  0.15625281631946564\n",
      "epoch:  198 Train loss:  0.17276851336161295 Val loss:  0.1572823872168859\n",
      "epoch:  199 Train loss:  0.1694911178201437 Val loss:  0.1562198003133138\n",
      "epoch:  200 Train loss:  0.16977079336841902 Val loss:  0.15945646663506827\n",
      "epoch:  201 Train loss:  0.17236570889751116 Val loss:  0.1592975308497747\n",
      "epoch:  202 Train loss:  0.1706885484357675 Val loss:  0.15573016802469888\n",
      "epoch:  203 Train loss:  0.17466207345326742 Val loss:  0.158102219303449\n",
      "epoch:  204 Train loss:  0.1691702976822853 Val loss:  0.16010703146457672\n",
      "epoch:  205 Train loss:  0.16828127205371857 Val loss:  0.15735659003257751\n",
      "epoch:  206 Train loss:  0.17331327870488167 Val loss:  0.15630916257699332\n",
      "epoch:  207 Train loss:  0.16647100324432054 Val loss:  0.162629504998525\n",
      "epoch:  208 Train loss:  0.1704601968328158 Val loss:  0.15772229929765066\n",
      "epoch:  209 Train loss:  0.1724389810115099 Val loss:  0.15508175392945608\n",
      "epoch:  210 Train loss:  0.16732805470625559 Val loss:  0.15595276653766632\n",
      "epoch:  211 Train loss:  0.17307505694528422 Val loss:  0.15634443362553915\n",
      "epoch:  212 Train loss:  0.1663744921485583 Val loss:  0.1612109492222468\n",
      "epoch:  213 Train loss:  0.17140821491678557 Val loss:  0.15769832332928976\n",
      "epoch:  214 Train loss:  0.16946032581230006 Val loss:  0.15765200555324554\n",
      "epoch:  215 Train loss:  0.16942458041012287 Val loss:  0.1552832176287969\n",
      "epoch:  216 Train loss:  0.16638502602775893 Val loss:  0.15931564072767893\n",
      "epoch:  217 Train loss:  0.1672499986986319 Val loss:  0.16119489073753357\n",
      "epoch:  218 Train loss:  0.16629275803764662 Val loss:  0.15636971592903137\n",
      "epoch:  219 Train loss:  0.16962784777084985 Val loss:  0.1589349756638209\n",
      "epoch:  220 Train loss:  0.16835875064134598 Val loss:  0.15583136677742004\n",
      "epoch:  221 Train loss:  0.17055072697500387 Val loss:  0.1599856068690618\n",
      "epoch:  222 Train loss:  0.16975862719118595 Val loss:  0.1587231308221817\n",
      "epoch:  223 Train loss:  0.16505956773956618 Val loss:  0.15726326406002045\n"
     ]
    },
    {
     "name": "stdout",
     "output_type": "stream",
     "text": [
      "epoch:  224 Train loss:  0.17044955243666968 Val loss:  0.15973225235939026\n",
      "epoch:  225 Train loss:  0.16479595253864923 Val loss:  0.15859027206897736\n",
      "epoch:  226 Train loss:  0.16991149634122849 Val loss:  0.15623900294303894\n",
      "epoch:  227 Train loss:  0.16865671053528786 Val loss:  0.15670361618200937\n",
      "epoch:  228 Train loss:  0.1700586024671793 Val loss:  0.16239035626252493\n",
      "epoch:  229 Train loss:  0.17115247001250586 Val loss:  0.15812210738658905\n",
      "epoch:  230 Train loss:  0.17427422230442366 Val loss:  0.15822883447011313\n",
      "epoch:  231 Train loss:  0.16562097892165184 Val loss:  0.15815078218777975\n",
      "epoch:  232 Train loss:  0.1662183441221714 Val loss:  0.16028931736946106\n",
      "epoch:  233 Train loss:  0.17176997537414232 Val loss:  0.15829863647619882\n",
      "epoch:  234 Train loss:  0.16762779280543327 Val loss:  0.16138201455275217\n",
      "epoch:  235 Train loss:  0.1716782475511233 Val loss:  0.158709317445755\n",
      "epoch:  236 Train loss:  0.1651207928856214 Val loss:  0.15920224289099374\n",
      "epoch:  237 Train loss:  0.1678558886051178 Val loss:  0.16072622934977213\n",
      "epoch:  238 Train loss:  0.16513853271802267 Val loss:  0.16064374645551047\n",
      "epoch:  239 Train loss:  0.16823741917808852 Val loss:  0.1578494111696879\n",
      "epoch:  240 Train loss:  0.1646235411365827 Val loss:  0.15906540056069693\n",
      "epoch:  241 Train loss:  0.16155029584964117 Val loss:  0.15823403497536978\n",
      "epoch:  242 Train loss:  0.16527878493070602 Val loss:  0.1589329093694687\n",
      "epoch:  243 Train loss:  0.1677936613559723 Val loss:  0.15974345803260803\n",
      "epoch:  244 Train loss:  0.1684559155255556 Val loss:  0.15960721671581268\n",
      "epoch:  245 Train loss:  0.1668515590329965 Val loss:  0.158234233657519\n",
      "epoch:  246 Train loss:  0.16892375672856966 Val loss:  0.15904890994230905\n",
      "epoch:  247 Train loss:  0.17021867508689562 Val loss:  0.15667908390363058\n",
      "epoch:  248 Train loss:  0.16657836424807707 Val loss:  0.16081621249516806\n",
      "epoch:  249 Train loss:  0.1675969362258911 Val loss:  0.1594917376836141\n",
      "epoch:  250 Train loss:  0.16431316609183946 Val loss:  0.15935157736142477\n",
      "epoch:  251 Train loss:  0.16537403812011084 Val loss:  0.15848039090633392\n",
      "epoch:  252 Train loss:  0.16539343570669493 Val loss:  0.15895094474156699\n",
      "epoch:  253 Train loss:  0.16979664439956346 Val loss:  0.15911481777826944\n",
      "epoch:  254 Train loss:  0.16286684883137545 Val loss:  0.15719852844874063\n",
      "epoch:  255 Train loss:  0.1661222775777181 Val loss:  0.1574946939945221\n",
      "epoch:  256 Train loss:  0.16718492408593497 Val loss:  0.15811840693155924\n",
      "epoch:  257 Train loss:  0.16940671702226004 Val loss:  0.1582074612379074\n",
      "epoch:  258 Train loss:  0.1719163047770659 Val loss:  0.16315514345963797\n",
      "epoch:  259 Train loss:  0.16682995855808258 Val loss:  0.1602349430322647\n",
      "epoch:  260 Train loss:  0.17018029217918715 Val loss:  0.15828231970469156\n",
      "epoch:  261 Train loss:  0.16840602395435175 Val loss:  0.16124670207500458\n",
      "epoch:  262 Train loss:  0.1681161274512609 Val loss:  0.1580700526634852\n",
      "epoch:  263 Train loss:  0.1687500700354576 Val loss:  0.1571241319179535\n",
      "epoch:  264 Train loss:  0.16621424381931624 Val loss:  0.15785899261633554\n",
      "epoch:  265 Train loss:  0.17185574769973755 Val loss:  0.157199427485466\n",
      "epoch:  266 Train loss:  0.1673912201076746 Val loss:  0.15698262552420297\n",
      "epoch:  267 Train loss:  0.17341146245598793 Val loss:  0.15691125392913818\n",
      "epoch:  268 Train loss:  0.16615377987424532 Val loss:  0.15778721868991852\n",
      "epoch:  269 Train loss:  0.17024039663374424 Val loss:  0.15640215078989664\n",
      "epoch:  270 Train loss:  0.16924186299244562 Val loss:  0.15692709386348724\n",
      "epoch:  271 Train loss:  0.16557836967209974 Val loss:  0.16145698726177216\n",
      "epoch:  272 Train loss:  0.17360214392344156 Val loss:  0.15683907767136893\n",
      "epoch:  273 Train loss:  0.1656364860634009 Val loss:  0.15654592712720236\n",
      "epoch:  274 Train loss:  0.1683816301325957 Val loss:  0.158859650293986\n",
      "epoch:  275 Train loss:  0.16632124036550522 Val loss:  0.158429687221845\n",
      "epoch:  276 Train loss:  0.16517139598727226 Val loss:  0.15714586774508157\n",
      "epoch:  277 Train loss:  0.16728646929065386 Val loss:  0.15648979445298514\n",
      "epoch:  278 Train loss:  0.16367939611275992 Val loss:  0.15946449836095175\n",
      "epoch:  279 Train loss:  0.17207427136600018 Val loss:  0.15705723067124686\n",
      "epoch:  280 Train loss:  0.16376419613758722 Val loss:  0.15673581262429556\n",
      "epoch:  281 Train loss:  0.16664962843060493 Val loss:  0.15525845686594644\n",
      "epoch:  282 Train loss:  0.16881299888094267 Val loss:  0.15638765692710876\n",
      "epoch:  283 Train loss:  0.1660399412115415 Val loss:  0.15672849118709564\n",
      "epoch:  284 Train loss:  0.16876089634994665 Val loss:  0.15773440400759378\n",
      "epoch:  285 Train loss:  0.16650756634771824 Val loss:  0.15841525793075562\n",
      "epoch:  286 Train loss:  0.16912483982741833 Val loss:  0.1593921184539795\n",
      "epoch:  287 Train loss:  0.16843704941372076 Val loss:  0.15900870660940805\n",
      "epoch:  288 Train loss:  0.17047489807009697 Val loss:  0.16182384391625723\n",
      "epoch:  289 Train loss:  0.17211653788884482 Val loss:  0.1585120310386022\n",
      "epoch:  290 Train loss:  0.16635619414349398 Val loss:  0.15601935485998789\n",
      "epoch:  291 Train loss:  0.16745957608024278 Val loss:  0.15807839234670004\n",
      "epoch:  292 Train loss:  0.16695911437273026 Val loss:  0.1593681275844574\n",
      "epoch:  293 Train loss:  0.16438118803004423 Val loss:  0.15725051860014597\n",
      "epoch:  294 Train loss:  0.16562134151657423 Val loss:  0.15778586268424988\n",
      "epoch:  295 Train loss:  0.16746695215503374 Val loss:  0.16186032195885977\n",
      "epoch:  296 Train loss:  0.1702649760991335 Val loss:  0.15783046185970306\n",
      "epoch:  297 Train loss:  0.16235095262527466 Val loss:  0.15916016201178232\n",
      "epoch:  298 Train loss:  0.16524293646216393 Val loss:  0.15842479964097342\n",
      "epoch:  299 Train loss:  0.16780782242616019 Val loss:  0.1621865232785543\n",
      "epoch:  300 Train loss:  0.16674466679493585 Val loss:  0.15872696538766226\n",
      "epoch:  301 Train loss:  0.16665450731913248 Val loss:  0.15653766691684723\n",
      "epoch:  302 Train loss:  0.16331063024699688 Val loss:  0.1588375469048818\n",
      "epoch:  303 Train loss:  0.16744472769399485 Val loss:  0.1597724308570226\n",
      "epoch:  304 Train loss:  0.16511182549099127 Val loss:  0.1576286405324936\n",
      "epoch:  305 Train loss:  0.16779287966589132 Val loss:  0.15777745842933655\n",
      "epoch:  306 Train loss:  0.1647877370317777 Val loss:  0.1594354808330536\n",
      "epoch:  307 Train loss:  0.16319245720903078 Val loss:  0.15920171638329825\n",
      "epoch:  308 Train loss:  0.16164897133906683 Val loss:  0.15809225042661032\n",
      "epoch:  309 Train loss:  0.16760828097661337 Val loss:  0.15807007749875387\n",
      "epoch:  310 Train loss:  0.1667101209362348 Val loss:  0.15979458391666412\n",
      "epoch:  311 Train loss:  0.16402058055003485 Val loss:  0.1600437512000402\n",
      "epoch:  312 Train loss:  0.1653243936598301 Val loss:  0.15868773559729257\n",
      "epoch:  313 Train loss:  0.16620723841090998 Val loss:  0.15994938214619955\n",
      "epoch:  314 Train loss:  0.1643399205058813 Val loss:  0.15940368672211966\n",
      "epoch:  315 Train loss:  0.16780828249951205 Val loss:  0.157652681072553\n",
      "epoch:  316 Train loss:  0.1651411453882853 Val loss:  0.1582819273074468\n",
      "epoch:  317 Train loss:  0.16523820037643114 Val loss:  0.157884880900383\n",
      "epoch:  318 Train loss:  0.16466444296141466 Val loss:  0.1611243635416031\n",
      "epoch:  319 Train loss:  0.16340355326732 Val loss:  0.1573341339826584\n",
      "epoch:  320 Train loss:  0.16717757160464922 Val loss:  0.15775343775749207\n",
      "epoch:  321 Train loss:  0.16208604785303274 Val loss:  0.15978538990020752\n",
      "epoch:  322 Train loss:  0.16284455296893915 Val loss:  0.15977321565151215\n",
      "epoch:  323 Train loss:  0.16152165892223516 Val loss:  0.15791274110476175\n",
      "epoch:  324 Train loss:  0.16140000149607658 Val loss:  0.16063231229782104\n",
      "epoch:  325 Train loss:  0.1669413223862648 Val loss:  0.15903143088022867\n",
      "epoch:  326 Train loss:  0.16351126755277315 Val loss:  0.15972834825515747\n",
      "epoch:  327 Train loss:  0.16372450006504854 Val loss:  0.15737454096476236\n",
      "epoch:  328 Train loss:  0.1626549872259299 Val loss:  0.1581197828054428\n",
      "epoch:  329 Train loss:  0.16381154395639896 Val loss:  0.1592302123705546\n",
      "epoch:  330 Train loss:  0.16320160776376724 Val loss:  0.15688569843769073\n",
      "epoch:  331 Train loss:  0.16892950485150018 Val loss:  0.16126586000124613\n",
      "epoch:  332 Train loss:  0.1661797116200129 Val loss:  0.16091466943422952\n",
      "epoch:  333 Train loss:  0.1672394908964634 Val loss:  0.1561969369649887\n",
      "epoch:  334 Train loss:  0.16553731262683868 Val loss:  0.15854919950167337\n"
     ]
    },
    {
     "name": "stdout",
     "output_type": "stream",
     "text": [
      "epoch:  335 Train loss:  0.16494745885332426 Val loss:  0.1589350402355194\n",
      "epoch:  336 Train loss:  0.16593213068942228 Val loss:  0.157100111246109\n",
      "epoch:  337 Train loss:  0.16273682191967964 Val loss:  0.15626215438048044\n",
      "epoch:  338 Train loss:  0.16419214196503162 Val loss:  0.16008632878462473\n",
      "epoch:  339 Train loss:  0.1658185012638569 Val loss:  0.1569059689839681\n",
      "epoch:  340 Train loss:  0.1666351780295372 Val loss:  0.15961753825346628\n",
      "epoch:  341 Train loss:  0.16597974362472692 Val loss:  0.15656816959381104\n",
      "epoch:  342 Train loss:  0.16468806813160577 Val loss:  0.15826567510763803\n",
      "epoch:  343 Train loss:  0.16706170017520586 Val loss:  0.16242754956086478\n",
      "epoch:  344 Train loss:  0.16136434177557626 Val loss:  0.15968811511993408\n",
      "epoch:  345 Train loss:  0.16158894697825113 Val loss:  0.159001757701238\n",
      "epoch:  346 Train loss:  0.16169236662487188 Val loss:  0.15741831560929617\n",
      "epoch:  347 Train loss:  0.16031758611400923 Val loss:  0.15885413189729056\n",
      "epoch:  348 Train loss:  0.16561875864863396 Val loss:  0.16206840177377066\n",
      "epoch:  349 Train loss:  0.1660978477448225 Val loss:  0.15861950814723969\n",
      "epoch:  350 Train loss:  0.1614329026391109 Val loss:  0.15730582674344382\n",
      "epoch:  351 Train loss:  0.1604798547923565 Val loss:  0.16088133056958517\n",
      "epoch:  352 Train loss:  0.1675862359503905 Val loss:  0.16013802091280618\n",
      "epoch:  353 Train loss:  0.1605017427355051 Val loss:  0.15781013170878092\n",
      "epoch:  354 Train loss:  0.16734600998461246 Val loss:  0.1569345941146215\n",
      "epoch:  355 Train loss:  0.16205371481676897 Val loss:  0.16044797003269196\n",
      "epoch:  356 Train loss:  0.16540040945013365 Val loss:  0.16263950367768606\n",
      "epoch:  357 Train loss:  0.16338171934088072 Val loss:  0.15969976286093393\n",
      "epoch:  358 Train loss:  0.16861928130189577 Val loss:  0.16067300736904144\n",
      "epoch:  359 Train loss:  0.16472308027247587 Val loss:  0.15861773490905762\n",
      "epoch:  360 Train loss:  0.16329697457452616 Val loss:  0.16202685236930847\n",
      "epoch:  361 Train loss:  0.16362287166217962 Val loss:  0.15794258316357931\n",
      "epoch:  362 Train loss:  0.16268837824463844 Val loss:  0.15771102408568063\n",
      "epoch:  363 Train loss:  0.16199038363993168 Val loss:  0.15973219772179922\n",
      "epoch:  364 Train loss:  0.16508227214217186 Val loss:  0.1576435367266337\n",
      "epoch:  365 Train loss:  0.1648478036125501 Val loss:  0.15825762848059335\n",
      "epoch:  366 Train loss:  0.15934761241078377 Val loss:  0.15726460019747415\n",
      "epoch:  367 Train loss:  0.1682092510163784 Val loss:  0.15917505820592245\n",
      "epoch:  368 Train loss:  0.16245495962599912 Val loss:  0.1582699865102768\n",
      "epoch:  369 Train loss:  0.159809780617555 Val loss:  0.15943520267804465\n",
      "epoch:  370 Train loss:  0.16463999077677727 Val loss:  0.15919430057207742\n",
      "epoch:  371 Train loss:  0.1634535218278567 Val loss:  0.16068503757317862\n",
      "epoch:  372 Train loss:  0.1634335033595562 Val loss:  0.1576140175263087\n",
      "epoch:  373 Train loss:  0.16116256825625896 Val loss:  0.16135185956954956\n",
      "epoch:  374 Train loss:  0.16567108035087585 Val loss:  0.15851295491059622\n",
      "epoch:  375 Train loss:  0.16224075915912786 Val loss:  0.1586639185746511\n",
      "epoch:  376 Train loss:  0.1638393041988214 Val loss:  0.15900692840417227\n",
      "epoch:  377 Train loss:  0.1624754878381888 Val loss:  0.1563721845547358\n",
      "epoch:  378 Train loss:  0.1586348091562589 Val loss:  0.15839311480522156\n",
      "epoch:  379 Train loss:  0.16663952668507895 Val loss:  0.16493908067544302\n",
      "epoch:  380 Train loss:  0.16466688737273216 Val loss:  0.1583529313405355\n",
      "epoch:  381 Train loss:  0.1624951201180617 Val loss:  0.15760627885659537\n",
      "epoch:  382 Train loss:  0.1645447084059318 Val loss:  0.1565764049688975\n",
      "epoch:  383 Train loss:  0.16190357692539692 Val loss:  0.1589649518330892\n",
      "epoch:  384 Train loss:  0.1594587042927742 Val loss:  0.15981911619504294\n",
      "epoch:  385 Train loss:  0.16383515298366547 Val loss:  0.15896658102671304\n",
      "epoch:  386 Train loss:  0.16378812119364738 Val loss:  0.16135791937510172\n",
      "epoch:  387 Train loss:  0.1665232703089714 Val loss:  0.1595079004764557\n",
      "epoch:  388 Train loss:  0.1638735874245564 Val loss:  0.16056601206461588\n",
      "epoch:  389 Train loss:  0.1622364434103171 Val loss:  0.15889979402224222\n",
      "epoch:  390 Train loss:  0.1634083048750957 Val loss:  0.1618483066558838\n",
      "epoch:  391 Train loss:  0.16671649242440859 Val loss:  0.16134596864382425\n",
      "epoch:  392 Train loss:  0.16289380565285683 Val loss:  0.1633943368991216\n",
      "epoch:  393 Train loss:  0.16563263411323229 Val loss:  0.16126582523187002\n",
      "epoch:  394 Train loss:  0.1634382096429666 Val loss:  0.15891993045806885\n",
      "epoch:  395 Train loss:  0.16427604481577873 Val loss:  0.1617957502603531\n",
      "epoch:  396 Train loss:  0.16279875735441843 Val loss:  0.16279345254103342\n",
      "epoch:  397 Train loss:  0.16413960978388786 Val loss:  0.1624075969060262\n",
      "epoch:  398 Train loss:  0.15951131780942282 Val loss:  0.16174660126368204\n",
      "epoch:  399 Train loss:  0.15958759809533754 Val loss:  0.1680575062831243\n",
      "epoch:  400 Train loss:  0.16157070795694986 Val loss:  0.1594147284825643\n",
      "epoch:  401 Train loss:  0.1628758553415537 Val loss:  0.1604880839586258\n",
      "epoch:  402 Train loss:  0.16014938801527023 Val loss:  0.15928135812282562\n",
      "epoch:  403 Train loss:  0.15736923925578594 Val loss:  0.16748389601707458\n",
      "epoch:  404 Train loss:  0.16174471005797386 Val loss:  0.16000054776668549\n",
      "epoch:  405 Train loss:  0.15886006876826286 Val loss:  0.15874790151913962\n",
      "epoch:  406 Train loss:  0.1601343179742495 Val loss:  0.15744691590468088\n",
      "epoch:  407 Train loss:  0.1592597495764494 Val loss:  0.15963493784268698\n",
      "epoch:  408 Train loss:  0.15777728892862797 Val loss:  0.15916588405768076\n",
      "epoch:  409 Train loss:  0.16072787841161093 Val loss:  0.15952492753664652\n",
      "epoch:  410 Train loss:  0.16733076920111975 Val loss:  0.16527069608370462\n",
      "epoch:  411 Train loss:  0.16339686388770738 Val loss:  0.15975657602151236\n",
      "epoch:  412 Train loss:  0.16184350661933422 Val loss:  0.15955459574858347\n",
      "epoch:  413 Train loss:  0.15976201929152012 Val loss:  0.1605426569779714\n",
      "epoch:  414 Train loss:  0.16181728864709535 Val loss:  0.1565442532300949\n",
      "epoch:  415 Train loss:  0.1612854264676571 Val loss:  0.15968601405620575\n",
      "epoch:  416 Train loss:  0.15927168478568396 Val loss:  0.15773977835973105\n",
      "epoch:  417 Train loss:  0.1597017546494802 Val loss:  0.1614185074965159\n",
      "epoch:  418 Train loss:  0.16195205971598625 Val loss:  0.1580707679192225\n",
      "epoch:  419 Train loss:  0.160294812793533 Val loss:  0.1599400887886683\n",
      "epoch:  420 Train loss:  0.1576770513008038 Val loss:  0.16100552678108215\n",
      "epoch:  421 Train loss:  0.1585757260521253 Val loss:  0.15939094622929892\n",
      "epoch:  422 Train loss:  0.1603176655868689 Val loss:  0.16087934374809265\n",
      "epoch:  423 Train loss:  0.15961586559812227 Val loss:  0.16025282442569733\n",
      "epoch:  424 Train loss:  0.1644794655342897 Val loss:  0.15868506828943887\n",
      "epoch:  425 Train loss:  0.1600831796725591 Val loss:  0.1604878455400467\n",
      "epoch:  426 Train loss:  0.15766708739101887 Val loss:  0.16082501908143362\n",
      "epoch:  427 Train loss:  0.16573811198274294 Val loss:  0.16105439265569052\n",
      "epoch:  428 Train loss:  0.16184983278314272 Val loss:  0.15863382319609323\n",
      "epoch:  429 Train loss:  0.1584744987388452 Val loss:  0.16070663928985596\n",
      "epoch:  430 Train loss:  0.16388074619074663 Val loss:  0.1579687794049581\n",
      "epoch:  431 Train loss:  0.16306315486629805 Val loss:  0.15831680099169412\n",
      "epoch:  432 Train loss:  0.16225523625810942 Val loss:  0.16113029420375824\n",
      "epoch:  433 Train loss:  0.16074890829622746 Val loss:  0.15765154361724854\n",
      "epoch:  434 Train loss:  0.159864974518617 Val loss:  0.1596919298171997\n",
      "epoch:  435 Train loss:  0.1612055810789267 Val loss:  0.15807514389355978\n",
      "epoch:  436 Train loss:  0.15846511969963709 Val loss:  0.1573779582977295\n",
      "epoch:  437 Train loss:  0.1614659751454989 Val loss:  0.15916801492373148\n",
      "epoch:  438 Train loss:  0.16061176980535188 Val loss:  0.15777790546417236\n",
      "epoch:  439 Train loss:  0.16336953515807787 Val loss:  0.16362604995568594\n",
      "epoch:  440 Train loss:  0.16170800104737282 Val loss:  0.16098329424858093\n",
      "epoch:  441 Train loss:  0.16393963371713957 Val loss:  0.16050884127616882\n",
      "epoch:  442 Train loss:  0.15971591820319495 Val loss:  0.15964589019616446\n",
      "epoch:  443 Train loss:  0.15754076714317003 Val loss:  0.15916800995667776\n"
     ]
    },
    {
     "name": "stdout",
     "output_type": "stream",
     "text": [
      "epoch:  444 Train loss:  0.1627459612985452 Val loss:  0.16053755581378937\n",
      "epoch:  445 Train loss:  0.1590006978561481 Val loss:  0.159976397951444\n",
      "epoch:  446 Train loss:  0.15991128546496233 Val loss:  0.15845650931199393\n",
      "epoch:  447 Train loss:  0.15860400162637234 Val loss:  0.1592339426279068\n",
      "epoch:  448 Train loss:  0.16077487108608088 Val loss:  0.1576163818438848\n",
      "epoch:  449 Train loss:  0.15461738407611847 Val loss:  0.1594271957874298\n",
      "epoch:  450 Train loss:  0.1599261723458767 Val loss:  0.15834997594356537\n",
      "epoch:  451 Train loss:  0.16022030947109064 Val loss:  0.16021731992562613\n",
      "epoch:  452 Train loss:  0.1550308975080649 Val loss:  0.15995870033899942\n",
      "epoch:  453 Train loss:  0.16049056500196457 Val loss:  0.16249811152617136\n",
      "epoch:  454 Train loss:  0.15956690783301988 Val loss:  0.16052757700284323\n",
      "epoch:  455 Train loss:  0.16000237067540488 Val loss:  0.1577919622262319\n",
      "epoch:  456 Train loss:  0.16244870672623316 Val loss:  0.16525161763032278\n",
      "epoch:  457 Train loss:  0.15630820207297802 Val loss:  0.16044620672861734\n",
      "epoch:  458 Train loss:  0.1623293993373712 Val loss:  0.15627571443716684\n",
      "epoch:  459 Train loss:  0.16138838107387224 Val loss:  0.15976350009441376\n",
      "epoch:  460 Train loss:  0.16207139566540718 Val loss:  0.1555592566728592\n",
      "epoch:  461 Train loss:  0.15870334828893343 Val loss:  0.15733223656813303\n",
      "epoch:  462 Train loss:  0.15948173217475414 Val loss:  0.1620613286892573\n",
      "epoch:  463 Train loss:  0.1550224261979262 Val loss:  0.1608248601357142\n",
      "epoch:  464 Train loss:  0.16006741300225258 Val loss:  0.1588095873594284\n",
      "epoch:  465 Train loss:  0.15996410883963108 Val loss:  0.15720313787460327\n",
      "epoch:  466 Train loss:  0.1582142598927021 Val loss:  0.1560222158829371\n",
      "epoch:  467 Train loss:  0.15995708045860133 Val loss:  0.15771232545375824\n",
      "epoch:  468 Train loss:  0.1621538040538629 Val loss:  0.15684143702189127\n",
      "epoch:  469 Train loss:  0.1615477241575718 Val loss:  0.1620224565267563\n",
      "epoch:  470 Train loss:  0.157698060075442 Val loss:  0.16095715761184692\n",
      "epoch:  471 Train loss:  0.16385876139005026 Val loss:  0.15892721712589264\n",
      "epoch:  472 Train loss:  0.16060556719700494 Val loss:  0.16230028371016184\n",
      "epoch:  473 Train loss:  0.1608580524722735 Val loss:  0.16159502665201822\n",
      "epoch:  474 Train loss:  0.16174353597064814 Val loss:  0.1596308797597885\n",
      "epoch:  475 Train loss:  0.1593331297238668 Val loss:  0.16365418334801993\n",
      "epoch:  476 Train loss:  0.160858487089475 Val loss:  0.15976311763127646\n",
      "epoch:  477 Train loss:  0.15810107191403708 Val loss:  0.15955056250095367\n",
      "epoch:  478 Train loss:  0.15712178188065687 Val loss:  0.16374751925468445\n",
      "epoch:  479 Train loss:  0.1603597061087688 Val loss:  0.16232099632422128\n",
      "epoch:  480 Train loss:  0.15541763106981912 Val loss:  0.16049851973851523\n",
      "epoch:  481 Train loss:  0.15815621241927147 Val loss:  0.16247489054997763\n",
      "epoch:  482 Train loss:  0.15908652481933436 Val loss:  0.15845788021882376\n",
      "epoch:  483 Train loss:  0.15737254296739897 Val loss:  0.16173415382703146\n",
      "epoch:  484 Train loss:  0.15626931190490723 Val loss:  0.16506671905517578\n",
      "epoch:  485 Train loss:  0.15749267861247063 Val loss:  0.15713810424009958\n",
      "epoch:  486 Train loss:  0.15734289586544037 Val loss:  0.15893691778182983\n",
      "epoch:  487 Train loss:  0.15628176555037498 Val loss:  0.15814954042434692\n",
      "epoch:  488 Train loss:  0.15866773699720702 Val loss:  0.1602454880873362\n",
      "epoch:  489 Train loss:  0.15812727560599646 Val loss:  0.16249864300092062\n",
      "epoch:  490 Train loss:  0.1583061454196771 Val loss:  0.15943065782388052\n",
      "epoch:  491 Train loss:  0.15708153322339058 Val loss:  0.15727448960145315\n",
      "epoch:  492 Train loss:  0.156118373076121 Val loss:  0.16065401335557303\n",
      "epoch:  493 Train loss:  0.15512603148818016 Val loss:  0.1606110781431198\n",
      "epoch:  494 Train loss:  0.15483988697330156 Val loss:  0.1589658409357071\n",
      "epoch:  495 Train loss:  0.15879113475481668 Val loss:  0.1571167359749476\n",
      "epoch:  496 Train loss:  0.155131246894598 Val loss:  0.1606934815645218\n",
      "epoch:  497 Train loss:  0.15226886793971062 Val loss:  0.16130254169305167\n",
      "epoch:  498 Train loss:  0.16099883988499641 Val loss:  0.15943736831347147\n",
      "epoch:  499 Train loss:  0.15747833997011185 Val loss:  0.16049044827620187\n"
     ]
    }
   ],
   "source": [
    "train_loss_hist = []\n",
    "val_loss_hist = []\n",
    "best_loss = 1e10\n",
    "n_epochs = 500\n",
    "\n",
    "for epoch in range(n_epochs):\n",
    "    \n",
    "    bimodel.train()\n",
    "    train_loss = 0\n",
    "    \n",
    "    for batch_data in trn_loader:\n",
    "        \n",
    "        inputs, trues = batch_data\n",
    "        inputs, trues = inputs.cuda(), trues.cuda()\n",
    "        input_c = torch.reshape(trues[:,:,-1], (trues.shape[0], 1))\n",
    "        \n",
    "        optimizer.zero_grad()\n",
    "        \n",
    "        preds = bimodel(inputs, input_c)\n",
    "        true_ys = torch.reshape(trues[:,:,0:3], (trues.shape[0], 3))\n",
    "        loss = criterion(preds, true_ys).mean(dim=0).mean()\n",
    "        \n",
    "        loss.backward() #偏微分を計算\n",
    "        \n",
    "        train_loss += loss.item()\n",
    "\n",
    "        #パラメータを更新する\n",
    "        optimizer.step()\n",
    "    \n",
    "    val_loss = val_model(epoch)\n",
    "    train_loss_hist.append(train_loss / len(trn_loader))\n",
    "    val_loss_hist.append(val_loss)\n",
    "    \n",
    "    print(\"epoch: \", epoch, \"Train loss: \", train_loss / len(trn_loader), \"Val loss: \", val_loss)\n",
    "    \n",
    "    if val_loss < best_loss:\n",
    "        save_model_path = exp_dir + \"best_bimodel\" + \".pt\"\n",
    "        torch.save(bimodel, save_model_path)\n",
    "        best_loss = val_loss"
   ]
  },
  {
   "cell_type": "code",
   "execution_count": 92,
   "id": "09054573",
   "metadata": {},
   "outputs": [
    {
     "data": {
      "image/png": "[encoded data removed]",
      "text/plain": [
       "<Figure size 640x480 with 1 Axes>"
      ]
     },
     "metadata": {},
     "output_type": "display_data"
    }
   ],
   "source": [
    "import matplotlib.pyplot as plt\n",
    "\n",
    "plt.plot(range(len(train_loss_hist)), train_loss_hist, c='b', label='train loss')\n",
    "plt.plot(range(len(val_loss_hist)), val_loss_hist, c='r', label='val loss')\n",
    "plt.xlabel(\"epoch\")\n",
    "plt.ylabel(\"loss\")\n",
    "plt.legend()\n",
    "plt.grid()\n",
    "plt.show()"
   ]
  },
  {
   "cell_type": "code",
   "execution_count": 93,
   "id": "f2480b1f",
   "metadata": {},
   "outputs": [
    {
     "data": {
      "text/plain": [
       "(165, 0.154027650753657)"
      ]
     },
     "execution_count": 93,
     "metadata": {},
     "output_type": "execute_result"
    }
   ],
   "source": [
    "np.argmin(val_loss_hist), np.min(val_loss_hist)"
   ]
  },
  {
   "cell_type": "code",
   "execution_count": 94,
   "id": "2a1bdbf0",
   "metadata": {},
   "outputs": [],
   "source": [
    "save_model_path = exp_dir + \"best_bimodel\" + \".pt\"\n",
    "\n",
    "bimodel = torch.load(save_model_path)"
   ]
  },
  {
   "cell_type": "markdown",
   "id": "f92eebfa",
   "metadata": {},
   "source": [
    "### Scatter plot"
   ]
  },
  {
   "cell_type": "code",
   "execution_count": 95,
   "id": "cb835fd3",
   "metadata": {},
   "outputs": [
    {
     "name": "stdout",
     "output_type": "stream",
     "text": [
      "0\n",
      "1\n",
      "2\n",
      "3\n",
      "4\n",
      "5\n",
      "6\n",
      "7\n",
      "8\n",
      "9\n",
      "10\n",
      "11\n",
      "12\n",
      "13\n",
      "14\n",
      "15\n",
      "16\n",
      "17\n",
      "18\n",
      "19\n",
      "20\n",
      "21\n",
      "22\n",
      "23\n",
      "24\n",
      "25\n",
      "26\n",
      "27\n",
      "28\n",
      "29\n",
      "30\n",
      "31\n",
      "32\n",
      "33\n",
      "34\n",
      "35\n",
      "36\n",
      "37\n",
      "38\n",
      "39\n",
      "40\n",
      "41\n",
      "42\n",
      "43\n",
      "44\n",
      "45\n",
      "46\n",
      "47\n",
      "48\n",
      "49\n",
      "50\n",
      "51\n",
      "52\n",
      "53\n",
      "54\n",
      "55\n",
      "56\n",
      "57\n",
      "58\n",
      "59\n",
      "60\n",
      "61\n",
      "62\n",
      "63\n",
      "64\n",
      "65\n",
      "66\n",
      "67\n",
      "68\n",
      "69\n",
      "70\n",
      "71\n",
      "72\n",
      "73\n",
      "74\n",
      "75\n",
      "76\n",
      "77\n",
      "78\n",
      "79\n",
      "80\n",
      "81\n",
      "82\n",
      "83\n",
      "84\n",
      "85\n",
      "86\n",
      "87\n",
      "88\n",
      "89\n",
      "90\n",
      "91\n",
      "92\n",
      "93\n",
      "94\n",
      "95\n",
      "96\n",
      "97\n",
      "98\n",
      "99\n",
      "100\n",
      "101\n",
      "102\n",
      "103\n",
      "104\n",
      "105\n",
      "106\n",
      "107\n",
      "108\n",
      "109\n",
      "110\n",
      "111\n",
      "112\n",
      "113\n",
      "114\n",
      "115\n",
      "116\n",
      "117\n",
      "118\n",
      "119\n",
      "120\n",
      "121\n",
      "122\n",
      "123\n",
      "124\n",
      "125\n",
      "126\n",
      "127\n",
      "128\n",
      "129\n",
      "130\n",
      "131\n",
      "132\n",
      "133\n",
      "134\n",
      "135\n",
      "136\n",
      "137\n",
      "138\n",
      "139\n",
      "140\n",
      "141\n",
      "142\n",
      "143\n",
      "144\n",
      "145\n",
      "146\n",
      "147\n",
      "148\n",
      "149\n",
      "150\n",
      "151\n",
      "152\n",
      "153\n",
      "154\n",
      "155\n",
      "156\n",
      "157\n",
      "158\n",
      "159\n",
      "160\n",
      "161\n",
      "162\n",
      "163\n",
      "164\n",
      "165\n",
      "166\n",
      "167\n",
      "168\n",
      "169\n",
      "170\n",
      "171\n",
      "172\n",
      "173\n",
      "174\n",
      "175\n",
      "176\n",
      "177\n",
      "178\n",
      "179\n",
      "180\n",
      "181\n",
      "182\n",
      "183\n",
      "184\n",
      "185\n",
      "186\n",
      "187\n",
      "188\n",
      "189\n",
      "190\n",
      "191\n",
      "192\n",
      "193\n",
      "194\n",
      "195\n",
      "196\n",
      "197\n",
      "198\n",
      "199\n",
      "200\n",
      "201\n",
      "202\n",
      "203\n",
      "204\n",
      "205\n",
      "206\n",
      "207\n",
      "208\n",
      "209\n",
      "210\n",
      "211\n",
      "212\n",
      "213\n",
      "214\n",
      "215\n",
      "216\n",
      "217\n",
      "218\n",
      "219\n",
      "220\n",
      "221\n",
      "222\n",
      "223\n",
      "224\n",
      "225\n",
      "226\n",
      "227\n",
      "228\n",
      "229\n",
      "230\n",
      "231\n",
      "232\n",
      "233\n",
      "234\n",
      "235\n",
      "236\n",
      "237\n",
      "238\n",
      "239\n",
      "240\n",
      "241\n",
      "242\n",
      "243\n",
      "244\n",
      "245\n",
      "246\n",
      "247\n",
      "248\n",
      "249\n",
      "250\n",
      "251\n",
      "252\n",
      "253\n",
      "254\n",
      "255\n",
      "256\n",
      "257\n",
      "258\n",
      "259\n",
      "260\n",
      "261\n",
      "262\n",
      "263\n",
      "264\n",
      "265\n",
      "266\n",
      "267\n",
      "268\n",
      "269\n",
      "270\n",
      "271\n",
      "272\n",
      "273\n",
      "274\n",
      "275\n",
      "276\n",
      "277\n",
      "278\n",
      "279\n",
      "280\n",
      "281\n",
      "282\n",
      "283\n",
      "284\n",
      "285\n",
      "286\n",
      "287\n",
      "288\n",
      "289\n",
      "290\n",
      "291\n",
      "292\n",
      "293\n",
      "294\n",
      "295\n",
      "296\n",
      "297\n",
      "298\n",
      "299\n",
      "300\n",
      "301\n",
      "302\n",
      "303\n",
      "304\n",
      "305\n",
      "306\n",
      "307\n",
      "308\n",
      "309\n",
      "310\n",
      "311\n",
      "312\n",
      "313\n",
      "314\n",
      "315\n",
      "316\n",
      "317\n",
      "318\n",
      "319\n",
      "320\n",
      "321\n",
      "322\n",
      "323\n",
      "324\n",
      "325\n",
      "326\n",
      "327\n",
      "328\n",
      "329\n",
      "330\n",
      "331\n",
      "332\n",
      "333\n",
      "334\n",
      "335\n",
      "336\n",
      "337\n",
      "338\n",
      "339\n",
      "340\n",
      "341\n",
      "342\n",
      "343\n",
      "344\n",
      "345\n",
      "346\n",
      "347\n",
      "348\n",
      "349\n",
      "350\n",
      "351\n",
      "352\n",
      "353\n",
      "354\n",
      "355\n",
      "356\n",
      "357\n",
      "358\n",
      "359\n",
      "360\n",
      "361\n",
      "362\n",
      "363\n",
      "364\n",
      "365\n",
      "366\n",
      "367\n",
      "368\n",
      "369\n",
      "370\n",
      "371\n",
      "372\n",
      "373\n",
      "374\n",
      "375\n",
      "376\n",
      "377\n",
      "378\n",
      "379\n",
      "380\n",
      "381\n",
      "382\n",
      "383\n",
      "384\n",
      "385\n",
      "386\n",
      "387\n",
      "388\n",
      "389\n",
      "390\n",
      "391\n",
      "392\n",
      "393\n",
      "394\n",
      "395\n",
      "396\n",
      "397\n",
      "398\n",
      "399\n",
      "400\n",
      "401\n",
      "402\n",
      "403\n",
      "404\n",
      "405\n",
      "406\n",
      "407\n",
      "408\n",
      "409\n",
      "410\n",
      "411\n",
      "412\n",
      "413\n",
      "414\n",
      "415\n",
      "416\n",
      "417\n",
      "418\n",
      "419\n",
      "420\n",
      "421\n",
      "422\n",
      "423\n",
      "424\n",
      "425\n",
      "426\n",
      "427\n",
      "428\n",
      "429\n",
      "430\n",
      "431\n",
      "432\n",
      "433\n",
      "434\n",
      "435\n",
      "436\n",
      "437\n",
      "438\n",
      "439\n",
      "440\n",
      "441\n",
      "442\n",
      "443\n",
      "444\n",
      "445\n",
      "446\n",
      "447\n",
      "448\n",
      "449\n",
      "450\n",
      "451\n",
      "452\n",
      "453\n",
      "454\n",
      "455\n",
      "456\n",
      "457\n",
      "458\n",
      "459\n",
      "460\n",
      "461\n",
      "462\n",
      "463\n",
      "464\n",
      "465\n",
      "466\n",
      "467\n",
      "468\n",
      "469\n",
      "470\n",
      "471\n",
      "472\n",
      "473\n",
      "474\n",
      "475\n",
      "476\n",
      "477\n",
      "478\n",
      "479\n",
      "480\n",
      "481\n",
      "482\n",
      "483\n",
      "484\n",
      "485\n",
      "486\n",
      "487\n",
      "488\n",
      "489\n",
      "490\n",
      "491\n",
      "492\n",
      "493\n",
      "494\n",
      "495\n",
      "496\n",
      "497\n",
      "498\n",
      "499\n",
      "500\n",
      "501\n",
      "502\n",
      "503\n",
      "504\n",
      "505\n",
      "506\n",
      "507\n",
      "508\n",
      "509\n",
      "510\n",
      "511\n",
      "512\n",
      "513\n",
      "514\n",
      "515\n",
      "516\n",
      "517\n",
      "518\n",
      "519\n",
      "520\n",
      "521\n",
      "522\n",
      "523\n",
      "524\n",
      "525\n",
      "526\n",
      "527\n",
      "528\n",
      "529\n",
      "530\n",
      "531\n",
      "532\n",
      "533\n",
      "534\n",
      "535\n",
      "536\n",
      "537\n",
      "538\n",
      "539\n",
      "540\n",
      "541\n",
      "542\n",
      "543\n",
      "544\n",
      "545\n",
      "546\n",
      "547\n",
      "548\n",
      "549\n",
      "550\n",
      "551\n",
      "552\n",
      "553\n",
      "554\n",
      "555\n",
      "556\n",
      "557\n",
      "558\n",
      "559\n",
      "560\n",
      "561\n",
      "562\n",
      "563\n",
      "564\n",
      "565\n",
      "566\n",
      "567\n",
      "568\n",
      "569\n",
      "570\n",
      "571\n",
      "572\n",
      "573\n",
      "574\n",
      "575\n",
      "576\n",
      "577\n",
      "578\n",
      "579\n",
      "580\n",
      "581\n",
      "582\n",
      "583\n",
      "584\n",
      "585\n",
      "586\n",
      "587\n",
      "588\n",
      "589\n",
      "590\n",
      "591\n"
     ]
    }
   ],
   "source": [
    "preds_list = []\n",
    "trues_list = []\n",
    "\n",
    "bimodel.eval()\n",
    "with torch.no_grad(): # 勾配計算の無効化\n",
    "    for id, data in enumerate(trn_dataset):\n",
    "        inputs, trues = data\n",
    "        inputs, trues = inputs.cuda(), trues.cuda()\n",
    "        \n",
    "        inputs = torch.reshape(inputs, (1, seq_length, inputs.shape[-1]))\n",
    "        trues = torch.reshape(trues, (1, 1, trues.shape[-1]))\n",
    "        input_c = torch.reshape(trues[:,:,-1], (trues.shape[0], 1))\n",
    "        \n",
    "        preds = bimodel(inputs, input_c)\n",
    "        true_ys = torch.reshape(trues[:,:,0:3], (trues.shape[0], 3))\n",
    "        \n",
    "        print(id)\n",
    "        preds_list.append(preds.to('cpu').detach().numpy().copy())\n",
    "        trues_list.append(true_ys.to('cpu').detach().numpy().copy())"
   ]
  },
  {
   "cell_type": "code",
   "execution_count": 96,
   "id": "856206f2",
   "metadata": {},
   "outputs": [
    {
     "data": {
      "image/png": "[encoded data removed]",
      "text/plain": [
       "<Figure size 400x400 with 1 Axes>"
      ]
     },
     "metadata": {},
     "output_type": "display_data"
    }
   ],
   "source": [
    "import matplotlib.pyplot as plt\n",
    "\n",
    "plt.figure(figsize=(5,5))\n",
    "plt.scatter(np.array(trues_list)[:,:,0], np.array(preds_list)[:,:,0], c = \"b\") # 散布図を描画\n",
    "plt.title(\"Train prediction\")\n",
    "plt.xlabel(\"Trues\")\n",
    "plt.ylabel(\"Predictions\")\n",
    "# y=x の対角線を追加\n",
    "#plt.plot([-2.0, 3.5], [-2.0, 3.5], 'r--')  # 赤の破線で対角線を描画\n",
    "\n",
    "plt.xlim(-0.5, 8)\n",
    "plt.ylim(-0.5, 8)\n",
    "\n",
    "plt.show()"
   ]
  },
  {
   "cell_type": "code",
   "execution_count": 97,
   "id": "b8066e98",
   "metadata": {},
   "outputs": [
    {
     "name": "stdout",
     "output_type": "stream",
     "text": [
      "0\n",
      "1\n",
      "2\n",
      "3\n",
      "4\n",
      "5\n",
      "6\n",
      "7\n",
      "8\n",
      "9\n",
      "10\n",
      "11\n",
      "12\n",
      "13\n",
      "14\n",
      "15\n",
      "16\n",
      "17\n",
      "18\n",
      "19\n",
      "20\n",
      "21\n",
      "22\n",
      "23\n",
      "24\n",
      "25\n",
      "26\n",
      "27\n",
      "28\n",
      "29\n",
      "30\n",
      "31\n",
      "32\n",
      "33\n",
      "34\n",
      "35\n",
      "36\n",
      "37\n",
      "38\n",
      "39\n",
      "40\n",
      "41\n",
      "42\n",
      "43\n",
      "44\n",
      "45\n",
      "46\n",
      "47\n",
      "48\n",
      "49\n",
      "50\n",
      "51\n",
      "52\n",
      "53\n",
      "54\n",
      "55\n",
      "56\n",
      "57\n",
      "58\n",
      "59\n",
      "60\n",
      "61\n",
      "62\n",
      "63\n",
      "64\n",
      "65\n",
      "66\n",
      "67\n",
      "68\n",
      "69\n",
      "70\n",
      "71\n",
      "72\n",
      "73\n",
      "74\n",
      "75\n",
      "76\n",
      "77\n",
      "78\n",
      "79\n",
      "80\n",
      "81\n",
      "82\n",
      "83\n",
      "84\n",
      "85\n",
      "86\n",
      "87\n",
      "88\n",
      "89\n",
      "90\n",
      "91\n",
      "92\n",
      "93\n",
      "94\n",
      "95\n",
      "96\n",
      "97\n",
      "98\n",
      "99\n",
      "100\n",
      "101\n",
      "102\n",
      "103\n",
      "104\n",
      "105\n",
      "106\n",
      "107\n",
      "108\n",
      "109\n",
      "110\n",
      "111\n",
      "112\n",
      "113\n",
      "114\n",
      "115\n",
      "116\n",
      "117\n",
      "118\n",
      "119\n",
      "120\n",
      "121\n",
      "122\n",
      "123\n",
      "124\n",
      "125\n",
      "126\n",
      "127\n",
      "128\n",
      "129\n",
      "130\n",
      "131\n",
      "132\n",
      "133\n",
      "134\n",
      "135\n",
      "136\n",
      "137\n",
      "138\n",
      "139\n",
      "140\n",
      "141\n",
      "142\n",
      "143\n",
      "144\n",
      "145\n",
      "146\n",
      "147\n"
     ]
    }
   ],
   "source": [
    "preds_list = []\n",
    "trues_list = []\n",
    "\n",
    "bimodel.eval()\n",
    "with torch.no_grad(): # 勾配計算の無効化\n",
    "    for id, data in enumerate(val_dataset):\n",
    "        inputs, trues = data\n",
    "        inputs, trues = inputs.cuda(), trues.cuda()\n",
    "        \n",
    "        inputs = torch.reshape(inputs, (1, seq_length, inputs.shape[-1]))\n",
    "        trues = torch.reshape(trues, (1, 1, trues.shape[-1]))\n",
    "        input_c = torch.reshape(trues[:,:,-1], (trues.shape[0], 1))\n",
    "        \n",
    "        preds = bimodel(inputs, input_c)\n",
    "        true_ys = torch.reshape(trues[:,:,0:3], (trues.shape[0], 3))\n",
    "        \n",
    "        print(id)\n",
    "        preds_list.append(preds.to('cpu').detach().numpy().copy())\n",
    "        trues_list.append(true_ys.to('cpu').detach().numpy().copy())"
   ]
  },
  {
   "cell_type": "code",
   "execution_count": 98,
   "id": "4e5ba3b5",
   "metadata": {},
   "outputs": [
    {
     "data": {
      "image/png": "[encoded data removed]",
      "text/plain": [
       "<Figure size 400x400 with 1 Axes>"
      ]
     },
     "metadata": {},
     "output_type": "display_data"
    }
   ],
   "source": [
    "import matplotlib.pyplot as plt\n",
    "\n",
    "plt.figure(figsize=(5,5))\n",
    "plt.scatter(np.array(trues_list)[:,:,0], np.array(preds_list)[:,:,0], c = \"b\") # 散布図を描画\n",
    "plt.title(\"Val prediction\")\n",
    "plt.xlabel(\"Trues\")\n",
    "plt.ylabel(\"Predictions\")\n",
    "# y=x の対角線を追加\n",
    "#plt.plot([-2.0, 3.5], [-2.0, 3.5], 'r--')  # 赤の破線で対角線を描画\n",
    "\n",
    "plt.xlim(-0.5, 8)\n",
    "plt.ylim(-0.5, 8)\n",
    "\n",
    "plt.show()"
   ]
  },
  {
   "cell_type": "code",
   "execution_count": null,
   "id": "c36221cd",
   "metadata": {},
   "outputs": [],
   "source": []
  },
  {
   "cell_type": "markdown",
   "id": "b36a4c32",
   "metadata": {},
   "source": [
    "## Test Prediction"
   ]
  },
  {
   "cell_type": "code",
   "execution_count": 99,
   "id": "2fc1c5b5",
   "metadata": {},
   "outputs": [],
   "source": [
    "#test_np = np.concatenate([test_ts_np.reshape(-1,1), test_ys_np, test_xs_np.reshape(-1,1)], axis = 1)\n",
    "\n",
    "train_np = np.load(exp_dir + \"train_np.npy\")\n",
    "test_np = np.load(exp_dir + \"test_np.npy\")"
   ]
  },
  {
   "cell_type": "code",
   "execution_count": 100,
   "id": "072d924a",
   "metadata": {},
   "outputs": [],
   "source": [
    "#元のデータの最大値と最小値を指定\n",
    "dat_min = 0\n",
    "dat_max = 3e5\n",
    "\n",
    "#スケール後の最大値と最小値を指定\n",
    "custom_min = 0\n",
    "custom_max = 100\n",
    "\n",
    "test_scaled_ts = (np.array(test_np[:,0]) - dat_min) / (dat_max - dat_min) * (custom_max - custom_min) + custom_min"
   ]
  },
  {
   "cell_type": "code",
   "execution_count": 101,
   "id": "70f97edd",
   "metadata": {},
   "outputs": [
    {
     "name": "stderr",
     "output_type": "stream",
     "text": [
      "/opt/conda/lib/python3.10/site-packages/sklearn/base.py:493: UserWarning: X does not have valid feature names, but StandardScaler was fitted with feature names\n",
      "  warnings.warn(\n"
     ]
    }
   ],
   "source": [
    "test_scaled_ys = std_scaler.transform(test_np[:,1:3])"
   ]
  },
  {
   "cell_type": "code",
   "execution_count": 102,
   "id": "35dae5bf",
   "metadata": {},
   "outputs": [
    {
     "data": {
      "text/plain": [
       "((260, 2), (260, 1), (260,))"
      ]
     },
     "execution_count": 102,
     "metadata": {},
     "output_type": "execute_result"
    }
   ],
   "source": [
    "test_scaled_ys.shape, test_scaled_ts.reshape(-1,1).shape, test_np[:,-1].shape"
   ]
  },
  {
   "cell_type": "code",
   "execution_count": 103,
   "id": "3c5fbe5b",
   "metadata": {},
   "outputs": [],
   "source": [
    "test_all_np = np.concatenate([test_scaled_ts.reshape(-1,1), test_scaled_ys, test_np[:,-1].reshape(-1,1)], axis = 1)"
   ]
  },
  {
   "cell_type": "markdown",
   "id": "51dfebe0",
   "metadata": {},
   "source": [
    "### 1. Prediction based on results from 40 days ago"
   ]
  },
  {
   "cell_type": "code",
   "execution_count": 104,
   "id": "ef753426",
   "metadata": {},
   "outputs": [],
   "source": [
    "from typing import Tuple\n",
    "\n",
    "def make_sequence_data(data: np.ndarray, seq_size: int) -> Tuple[np.ndarray, np.ndarray]:\n",
    "    \n",
    "    \"\"\"データをsequence_sizeに指定したサイズのシーケンスに分けてシーケンスとその答えをarrayで返す\n",
    "    Args:\n",
    "        data (np.ndarray): 入力データ\n",
    "        seq_size (int): シーケンスサイズ\n",
    "    Returns:\n",
    "        seq_arr: seq_sizeに指定した数のシーケンスを格納するarray\n",
    "        target_arr: シーケンスに対応する答えを格納するarray\n",
    "    \"\"\"\n",
    "\n",
    "    num_data = len(data)\n",
    "    seq_data = []\n",
    "    target_data = []\n",
    "    \n",
    "    for i in range(num_data - seq_size):\n",
    "        seq_data.append(data[i:i+seq_size])\n",
    "        target_data.append(data[i+seq_size:i+seq_size+1])\n",
    "        \n",
    "    seq_arr = np.array(seq_data)\n",
    "    target_arr = np.array(target_data)\n",
    "\n",
    "    return seq_arr, target_arr"
   ]
  },
  {
   "cell_type": "code",
   "execution_count": 105,
   "id": "5835e47f",
   "metadata": {},
   "outputs": [],
   "source": [
    "#何週前のデータから予測するか\n",
    "\n",
    "seq_length = 40\n",
    "\n",
    "test_Xs, test_ys = make_sequence_data(test_all_np, seq_length)"
   ]
  },
  {
   "cell_type": "code",
   "execution_count": 106,
   "id": "fad37622",
   "metadata": {},
   "outputs": [],
   "source": [
    "tst_xs_tensor = torch.Tensor(test_Xs)\n",
    "tst_ys_tensor = torch.Tensor(test_ys)"
   ]
  },
  {
   "cell_type": "code",
   "execution_count": 107,
   "id": "73583c1b",
   "metadata": {},
   "outputs": [],
   "source": [
    "from torch.utils.data import TensorDataset, DataLoader\n",
    "\n",
    "tst_dataset = TensorDataset(tst_xs_tensor, tst_ys_tensor)"
   ]
  },
  {
   "cell_type": "code",
   "execution_count": 108,
   "id": "4affe75b",
   "metadata": {},
   "outputs": [
    {
     "name": "stdout",
     "output_type": "stream",
     "text": [
      "0\n",
      "1\n",
      "2\n",
      "3\n",
      "4\n",
      "5\n",
      "6\n",
      "7\n",
      "8\n",
      "9\n",
      "10\n",
      "11\n",
      "12\n",
      "13\n",
      "14\n",
      "15\n",
      "16\n",
      "17\n",
      "18\n",
      "19\n",
      "20\n",
      "21\n",
      "22\n",
      "23\n",
      "24\n",
      "25\n",
      "26\n",
      "27\n",
      "28\n",
      "29\n",
      "30\n",
      "31\n",
      "32\n",
      "33\n",
      "34\n",
      "35\n",
      "36\n",
      "37\n",
      "38\n",
      "39\n",
      "40\n",
      "41\n",
      "42\n",
      "43\n",
      "44\n",
      "45\n",
      "46\n",
      "47\n",
      "48\n",
      "49\n",
      "50\n",
      "51\n",
      "52\n",
      "53\n",
      "54\n",
      "55\n",
      "56\n",
      "57\n",
      "58\n",
      "59\n",
      "60\n",
      "61\n",
      "62\n",
      "63\n",
      "64\n",
      "65\n",
      "66\n",
      "67\n",
      "68\n",
      "69\n",
      "70\n",
      "71\n",
      "72\n",
      "73\n",
      "74\n",
      "75\n",
      "76\n",
      "77\n",
      "78\n",
      "79\n",
      "80\n",
      "81\n",
      "82\n",
      "83\n",
      "84\n",
      "85\n",
      "86\n",
      "87\n",
      "88\n",
      "89\n",
      "90\n",
      "91\n",
      "92\n",
      "93\n",
      "94\n",
      "95\n",
      "96\n",
      "97\n",
      "98\n",
      "99\n",
      "100\n",
      "101\n",
      "102\n",
      "103\n",
      "104\n",
      "105\n",
      "106\n",
      "107\n",
      "108\n",
      "109\n",
      "110\n",
      "111\n",
      "112\n",
      "113\n",
      "114\n",
      "115\n",
      "116\n",
      "117\n",
      "118\n",
      "119\n",
      "120\n",
      "121\n",
      "122\n",
      "123\n",
      "124\n",
      "125\n",
      "126\n",
      "127\n",
      "128\n",
      "129\n",
      "130\n",
      "131\n",
      "132\n",
      "133\n",
      "134\n",
      "135\n",
      "136\n",
      "137\n",
      "138\n",
      "139\n",
      "140\n",
      "141\n",
      "142\n",
      "143\n",
      "144\n",
      "145\n",
      "146\n",
      "147\n",
      "148\n",
      "149\n",
      "150\n",
      "151\n",
      "152\n",
      "153\n",
      "154\n",
      "155\n",
      "156\n",
      "157\n",
      "158\n",
      "159\n",
      "160\n",
      "161\n",
      "162\n",
      "163\n",
      "164\n",
      "165\n",
      "166\n",
      "167\n",
      "168\n",
      "169\n",
      "170\n",
      "171\n",
      "172\n",
      "173\n",
      "174\n",
      "175\n",
      "176\n",
      "177\n",
      "178\n",
      "179\n",
      "180\n",
      "181\n",
      "182\n",
      "183\n",
      "184\n",
      "185\n",
      "186\n",
      "187\n",
      "188\n",
      "189\n",
      "190\n",
      "191\n",
      "192\n",
      "193\n",
      "194\n",
      "195\n",
      "196\n",
      "197\n",
      "198\n",
      "199\n",
      "200\n",
      "201\n",
      "202\n",
      "203\n",
      "204\n",
      "205\n",
      "206\n",
      "207\n",
      "208\n",
      "209\n",
      "210\n",
      "211\n",
      "212\n",
      "213\n",
      "214\n",
      "215\n",
      "216\n",
      "217\n",
      "218\n",
      "219\n"
     ]
    }
   ],
   "source": [
    "preds_list = []\n",
    "trues_list = []\n",
    "\n",
    "bimodel.eval()\n",
    "with torch.no_grad(): # 勾配計算の無効化\n",
    "    for id, data in enumerate(tst_dataset):\n",
    "        inputs, trues = data\n",
    "        inputs, trues = inputs.cuda(), trues.cuda()\n",
    "        \n",
    "        inputs = torch.reshape(inputs, (1, seq_length, inputs.shape[-1]))\n",
    "        trues = torch.reshape(trues, (1, 1, trues.shape[-1]))\n",
    "        input_c = torch.reshape(trues[:,:,-1], (trues.shape[0], 1))\n",
    "        \n",
    "        preds = bimodel(inputs, input_c)\n",
    "        true_ys = torch.reshape(trues[:,:,0:3], (trues.shape[0], 3))\n",
    "        \n",
    "        print(id)\n",
    "        preds_list.append(preds.to('cpu').detach().numpy().copy())\n",
    "        trues_list.append(true_ys.to('cpu').detach().numpy().copy())"
   ]
  },
  {
   "cell_type": "code",
   "execution_count": 109,
   "id": "1bf54942",
   "metadata": {},
   "outputs": [
    {
     "data": {
      "image/png": "[encoded data removed]",
      "text/plain": [
       "<Figure size 400x400 with 1 Axes>"
      ]
     },
     "metadata": {},
     "output_type": "display_data"
    }
   ],
   "source": [
    "import matplotlib.pyplot as plt\n",
    "\n",
    "plt.figure(figsize=(5,5))\n",
    "plt.scatter(np.array(trues_list)[:,:,0], np.array(preds_list)[:,:,0], c = \"b\") # 散布図を描画\n",
    "plt.title(\"Test prediction\")\n",
    "plt.xlabel(\"Trues\")\n",
    "plt.ylabel(\"Predictions\")\n",
    "# y=x の対角線を追加\n",
    "#plt.plot([-2.0, 3.5], [-2.0, 3.5], 'r--')  # 赤の破線で対角線を描画\n",
    "\n",
    "plt.show()"
   ]
  },
  {
   "cell_type": "code",
   "execution_count": 110,
   "id": "75c72872",
   "metadata": {},
   "outputs": [],
   "source": [
    "tst_trues, tst_preds = np.array(trues_list)[:,:,0], np.array(preds_list)[:,:,0]"
   ]
  },
  {
   "cell_type": "code",
   "execution_count": 111,
   "id": "adab9a3c",
   "metadata": {},
   "outputs": [],
   "source": [
    "tst_preds = (np.array(preds_list)[:,:,0] - custom_min) / (custom_max - custom_min) * (dat_max - dat_min) + dat_min"
   ]
  },
  {
   "cell_type": "code",
   "execution_count": 112,
   "id": "d388ef0b",
   "metadata": {},
   "outputs": [
    {
     "data": {
      "image/png": "[encoded data removed]",
      "text/plain": [
       "<Figure size 400x400 with 1 Axes>"
      ]
     },
     "metadata": {},
     "output_type": "display_data"
    }
   ],
   "source": [
    "import matplotlib.pyplot as plt\n",
    "\n",
    "plt.figure(figsize=(5,5))\n",
    "plt.scatter(test_np[seq_length:,0], tst_preds, c = \"b\") # 散布図を描画\n",
    "plt.title(\"Test prediction (re scaled)\")\n",
    "plt.xlabel(\"Trues\")\n",
    "plt.ylabel(\"Predictions\")\n",
    "# y=x の対角線を追加\n",
    "#plt.plot([-2.0, 3.5], [-2.0, 3.5], 'r--')  # 赤の破線で対角線を描画\n",
    "\n",
    "plt.show()"
   ]
  },
  {
   "cell_type": "code",
   "execution_count": 113,
   "id": "3dbeb623",
   "metadata": {},
   "outputs": [
    {
     "data": {
      "image/png": "[encoded data removed]",
      "text/plain": [
       "<Figure size 1120x640 with 1 Axes>"
      ]
     },
     "metadata": {},
     "output_type": "display_data"
    }
   ],
   "source": [
    "plt.figure(figsize=(14, 8))\n",
    "plt.style.use('classic')  # スタイリッシュな背景に変更\n",
    "\n",
    "# 実際のデータと予測データをプロット\n",
    "plt.plot(test_steps, df_tokyo[\"Flucases\"][train_n:train_n+test_n], label=\"Actual Test Data\", linestyle='--', linewidth=2, color='blue', alpha=0.8)\n",
    "plt.plot(test_steps[seq_length:], tst_preds, label=\"Prediction\", linestyle='-', linewidth=2, color='red', alpha=1.0)\n",
    "\n",
    "# 軸ラベルとタイトルを追加\n",
    "plt.xlabel(\"Week\", fontsize=16, fontweight='bold')\n",
    "plt.ylabel(\"Flucases\", fontsize=16, fontweight='bold')\n",
    "plt.title(\"Fluases Prediction (aux-vec biLSTM)\", fontsize=18, fontweight='bold')\n",
    "\n",
    "# グリッドの調整\n",
    "plt.grid(color='gray', linestyle='--', linewidth=0.75, alpha=0.75)\n",
    "\n",
    "# 目盛りのフォントサイズを変更\n",
    "plt.xticks(fontsize=14)\n",
    "plt.yticks(fontsize=14)\n",
    "\n",
    "# 凡例の調整\n",
    "plt.legend(fontsize=16, loc='upper left', frameon=True, shadow=True)\n",
    "plt.ylim(bottom=-500)\n",
    "plt.xlim(left=min(test_steps) - 10, right = max(test_steps) + 10)\n",
    "\n",
    "# 仕上げ\n",
    "plt.tight_layout()\n",
    "plt.savefig(\"Fluases Prediction (aux-vec biLSTM).jpg\", dpi=200, bbox_inches='tight', format='jpg')\n",
    "plt.show()"
   ]
  },
  {
   "cell_type": "code",
   "execution_count": 114,
   "id": "0c208422",
   "metadata": {},
   "outputs": [],
   "source": [
    "from sklearn.metrics import (\n",
    "    mean_squared_error,  # MSE\n",
    "    mean_absolute_error,  # MAE\n",
    "    r2_score, # R2\n",
    ")\n",
    "\n",
    "from scipy.stats import pearsonr\n",
    "\n",
    "def reg_metric(trues, preds, name):\n",
    "    mse = mean_squared_error(trues, preds)\n",
    "    rmse = np.sqrt(mse)\n",
    "    mae = mean_absolute_error(trues, preds)\n",
    "    r2 = r2_score(trues, preds)\n",
    "    r, p = pearsonr(trues, preds)\n",
    "    \n",
    "    print(name)\n",
    "    print(f'MSE : {mse}.')\n",
    "    print(f'RMSE : {rmse}.')\n",
    "    print(f'MAE : {mae}.')\n",
    "    print(f'R2 : {r2}.')\n",
    "    print(\"pearson :\", r, p)"
   ]
  },
  {
   "cell_type": "code",
   "execution_count": 115,
   "id": "a4ff2e3d",
   "metadata": {},
   "outputs": [
    {
     "data": {
      "text/plain": [
       "((220,), (220,))"
      ]
     },
     "execution_count": 115,
     "metadata": {},
     "output_type": "execute_result"
    }
   ],
   "source": [
    "test_np[seq_length:,0].shape, tst_preds[:,0].shape"
   ]
  },
  {
   "cell_type": "code",
   "execution_count": 116,
   "id": "9d6d54b9",
   "metadata": {},
   "outputs": [
    {
     "name": "stdout",
     "output_type": "stream",
     "text": [
      "Flucases\n",
      "MSE : 3998991.6007809946.\n",
      "RMSE : 1999.7478843046677.\n",
      "MAE : 848.3107737216083.\n",
      "R2 : 0.8270282966650738.\n",
      "pearson : 0.9263151531482705 2.2112172485539504e-94\n"
     ]
    }
   ],
   "source": [
    "reg_metric(test_np[seq_length:,0], tst_preds[:,0], \"Flucases\")"
   ]
  },
  {
   "cell_type": "code",
   "execution_count": 117,
   "id": "f4631eff",
   "metadata": {},
   "outputs": [],
   "source": [
    "np.save(exp_dir + \"test_trues.npy\", test_np)\n",
    "np.save(exp_dir + \"test_preds.npy\", tst_preds)\n",
    "np.save(exp_dir + \"test_steps.npy\", test_steps)"
   ]
  },
  {
   "cell_type": "code",
   "execution_count": 118,
   "id": "4223ad5d",
   "metadata": {},
   "outputs": [
    {
     "data": {
      "text/plain": [
       "(220, 1)"
      ]
     },
     "execution_count": 118,
     "metadata": {},
     "output_type": "execute_result"
    }
   ],
   "source": [
    "tst_preds.shape"
   ]
  },
  {
   "cell_type": "markdown",
   "id": "24ae7b4c",
   "metadata": {},
   "source": [
    "### 2. step by step prediction"
   ]
  },
  {
   "cell_type": "code",
   "execution_count": 119,
   "id": "614544e1",
   "metadata": {},
   "outputs": [],
   "source": [
    "init_dat = tst_dataset[0]"
   ]
  },
  {
   "cell_type": "code",
   "execution_count": 120,
   "id": "683fddb8",
   "metadata": {},
   "outputs": [],
   "source": [
    "init_inputs, init_trues = init_dat"
   ]
  },
  {
   "cell_type": "code",
   "execution_count": 121,
   "id": "44866121",
   "metadata": {},
   "outputs": [],
   "source": [
    "init_inputs, init_trues = init_inputs.cuda(), init_trues.cuda()\n",
    "        \n",
    "init_inputs = torch.reshape(init_inputs, (1, seq_length, init_inputs.shape[-1]))\n",
    "init_trues = torch.reshape(init_trues, (1, 1, init_trues.shape[-1]))\n",
    "input_c = torch.reshape(init_trues[:,:,-1], (init_trues.shape[0], 1))\n",
    "        \n",
    "preds = model(init_inputs, input_c)"
   ]
  },
  {
   "cell_type": "code",
   "execution_count": 122,
   "id": "5a03c6bb",
   "metadata": {},
   "outputs": [],
   "source": [
    "preds_cat = torch.cat([preds, input_c], dim=1)"
   ]
  },
  {
   "cell_type": "code",
   "execution_count": 123,
   "id": "c1972454",
   "metadata": {},
   "outputs": [
    {
     "data": {
      "text/plain": [
       "torch.Size([1, 1, 4])"
      ]
     },
     "execution_count": 123,
     "metadata": {},
     "output_type": "execute_result"
    }
   ],
   "source": [
    "preds_cat = torch.reshape(preds_cat, (1, 1, preds_cat.shape[-1]))\n",
    "preds_cat.shape"
   ]
  },
  {
   "cell_type": "code",
   "execution_count": 141,
   "id": "e9377c4a",
   "metadata": {},
   "outputs": [],
   "source": [
    "stack_inputs = torch.cat([init_inputs, preds_cat], dim=1)"
   ]
  },
  {
   "cell_type": "code",
   "execution_count": 142,
   "id": "ad6227c3",
   "metadata": {},
   "outputs": [],
   "source": [
    "from torch.utils.data import TensorDataset, DataLoader\n",
    "\n",
    "#test_all_np = np.concatenate([test_scaled_ts.reshape(-1,1), test_scaled_ys, test_np[:,-1].reshape(-1,1)], axis = 1)\n",
    "\n",
    "tst_input_tensor = torch.from_numpy(test_np[:,-1].reshape(-1,1).astype(np.float32)).clone()\n",
    "tst_input_dataset = TensorDataset(tst_input_tensor)"
   ]
  },
  {
   "cell_type": "code",
   "execution_count": 143,
   "id": "22c38a0b",
   "metadata": {},
   "outputs": [
    {
     "name": "stdout",
     "output_type": "stream",
     "text": [
      "0\n",
      "1\n",
      "2\n",
      "3\n",
      "4\n",
      "5\n",
      "6\n",
      "7\n",
      "8\n",
      "9\n",
      "10\n",
      "11\n",
      "12\n",
      "13\n",
      "14\n",
      "15\n",
      "16\n",
      "17\n",
      "18\n",
      "19\n",
      "20\n",
      "21\n",
      "22\n",
      "23\n",
      "24\n",
      "25\n",
      "26\n",
      "27\n",
      "28\n",
      "29\n",
      "30\n",
      "31\n",
      "32\n",
      "33\n",
      "34\n",
      "35\n",
      "36\n",
      "37\n",
      "38\n",
      "39\n",
      "40\n",
      "41\n",
      "42\n",
      "43\n",
      "44\n",
      "45\n",
      "46\n",
      "47\n",
      "48\n",
      "49\n",
      "50\n",
      "51\n",
      "52\n",
      "53\n",
      "54\n",
      "55\n",
      "56\n",
      "57\n",
      "58\n",
      "59\n",
      "60\n",
      "61\n",
      "62\n",
      "63\n",
      "64\n",
      "65\n",
      "66\n",
      "67\n",
      "68\n",
      "69\n",
      "70\n",
      "71\n",
      "72\n",
      "73\n",
      "74\n",
      "75\n",
      "76\n",
      "77\n",
      "78\n",
      "79\n",
      "80\n",
      "81\n",
      "82\n",
      "83\n",
      "84\n",
      "85\n",
      "86\n",
      "87\n",
      "88\n",
      "89\n",
      "90\n",
      "91\n",
      "92\n",
      "93\n",
      "94\n",
      "95\n",
      "96\n",
      "97\n",
      "98\n",
      "99\n",
      "100\n",
      "101\n",
      "102\n",
      "103\n",
      "104\n",
      "105\n",
      "106\n",
      "107\n",
      "108\n",
      "109\n",
      "110\n",
      "111\n",
      "112\n",
      "113\n",
      "114\n",
      "115\n",
      "116\n",
      "117\n",
      "118\n",
      "119\n",
      "120\n",
      "121\n",
      "122\n",
      "123\n",
      "124\n",
      "125\n",
      "126\n",
      "127\n",
      "128\n",
      "129\n",
      "130\n",
      "131\n",
      "132\n",
      "133\n",
      "134\n",
      "135\n",
      "136\n",
      "137\n",
      "138\n",
      "139\n",
      "140\n",
      "141\n",
      "142\n",
      "143\n",
      "144\n",
      "145\n",
      "146\n",
      "147\n",
      "148\n",
      "149\n",
      "150\n",
      "151\n",
      "152\n",
      "153\n",
      "154\n",
      "155\n",
      "156\n",
      "157\n",
      "158\n",
      "159\n",
      "160\n",
      "161\n",
      "162\n",
      "163\n",
      "164\n",
      "165\n",
      "166\n",
      "167\n",
      "168\n",
      "169\n",
      "170\n",
      "171\n",
      "172\n",
      "173\n",
      "174\n",
      "175\n",
      "176\n",
      "177\n",
      "178\n",
      "179\n",
      "180\n",
      "181\n",
      "182\n",
      "183\n",
      "184\n",
      "185\n",
      "186\n",
      "187\n",
      "188\n",
      "189\n",
      "190\n",
      "191\n",
      "192\n",
      "193\n",
      "194\n",
      "195\n",
      "196\n",
      "197\n",
      "198\n",
      "199\n",
      "200\n",
      "201\n",
      "202\n",
      "203\n",
      "204\n",
      "205\n",
      "206\n",
      "207\n",
      "208\n",
      "209\n",
      "210\n",
      "211\n",
      "212\n",
      "213\n",
      "214\n",
      "215\n",
      "216\n",
      "217\n",
      "218\n"
     ]
    }
   ],
   "source": [
    "bimodel.eval()\n",
    "\n",
    "with torch.no_grad():\n",
    "    for id, tst_input in enumerate(list(tst_input_dataset)[len(stack_inputs[0]):]):\n",
    "        print(id)\n",
    "\n",
    "        input_c = torch.reshape(tst_input[0], (tst_input[0].shape[0], 1)).cuda()\n",
    "\n",
    "        preds = bimodel(stack_inputs[:,-seq_length:,:].cuda(), input_c.cuda())\n",
    "        preds_cat = torch.cat([preds, input_c], dim=1)\n",
    "\n",
    "        preds_cat = torch.reshape(preds_cat, (1, 1, preds_cat.shape[-1]))\n",
    "        stack_inputs = torch.cat([stack_inputs, preds_cat], dim=1)"
   ]
  },
  {
   "cell_type": "code",
   "execution_count": 144,
   "id": "20d50af9",
   "metadata": {},
   "outputs": [],
   "source": [
    "ae_scaled_preds = stack_inputs[0][:,0].to('cpu').detach().numpy().copy()"
   ]
  },
  {
   "cell_type": "code",
   "execution_count": 145,
   "id": "b1fcab54",
   "metadata": {},
   "outputs": [
    {
     "data": {
      "image/png": "[encoded data removed]",
      "text/plain": [
       "<Figure size 500x500 with 1 Axes>"
      ]
     },
     "metadata": {},
     "output_type": "display_data"
    }
   ],
   "source": [
    "import matplotlib.pyplot as plt\n",
    "\n",
    "plt.figure(figsize=(5,5))\n",
    "plt.scatter(test_scaled_ts, ae_scaled_preds, c = \"b\") # 散布図を描画\n",
    "plt.title(\"Test prediction\")\n",
    "plt.xlabel(\"Trues\")\n",
    "plt.ylabel(\"Predictions\")\n",
    "# y=x の対角線を追加\n",
    "#plt.plot([-2.0, 3.5], [-2.0, 3.5], 'r--')  # 赤の破線で対角線を描画\n",
    "\n",
    "plt.show()"
   ]
  },
  {
   "cell_type": "code",
   "execution_count": 146,
   "id": "263a5519",
   "metadata": {},
   "outputs": [],
   "source": [
    "#rescaled_tst_trues = (np.array(test_scaled_ts) - custom_min) / (custom_max - custom_min) * (dat_max - dat_min) + dat_min\n",
    "rescaled_tst_preds = (np.array(ae_scaled_preds) - custom_min) / (custom_max - custom_min) * (dat_max - dat_min) + dat_min"
   ]
  },
  {
   "cell_type": "code",
   "execution_count": 147,
   "id": "80b43b3c",
   "metadata": {},
   "outputs": [
    {
     "data": {
      "text/plain": [
       "<matplotlib.legend.Legend at 0x7f3d16af8610>"
      ]
     },
     "execution_count": 147,
     "metadata": {},
     "output_type": "execute_result"
    },
    {
     "data": {
      "image/png": "[encoded data removed]",
      "text/plain": [
       "<Figure size 1200x600 with 1 Axes>"
      ]
     },
     "metadata": {},
     "output_type": "display_data"
    }
   ],
   "source": [
    "plt.figure(figsize=(12, 6))\n",
    "plt.plot(test_steps, df_tokyo[\"Flucases\"][train_n:train_n+test_n],label=\"Test\")\n",
    "plt.plot(test_steps, rescaled_tst_preds,label=\"Test_prediction\")\n",
    "plt.plot(test_steps[0:seq_length], rescaled_tst_preds[0:seq_length],label=\"Test_input\")\n",
    "\n",
    "plt.xlabel(\"week\")\n",
    "plt.ylabel(\"Flucases\")\n",
    "plt.legend()"
   ]
  },
  {
   "cell_type": "code",
   "execution_count": null,
   "id": "940bdf10",
   "metadata": {},
   "outputs": [],
   "source": []
  },
  {
   "cell_type": "code",
   "execution_count": null,
   "id": "79762af5",
   "metadata": {},
   "outputs": [],
   "source": []
  }
 ],
 "metadata": {
  "kernelspec": {
   "display_name": "Python 3 (ipykernel)",
   "language": "python",
   "name": "python3"
  },
  "language_info": {
   "codemirror_mode": {
    "name": "ipython",
    "version": 3
   },
   "file_extension": ".py",
   "mimetype": "text/x-python",
   "name": "python",
   "nbconvert_exporter": "python",
   "pygments_lexer": "ipython3",
   "version": "3.10.13"
  }
 },
 "nbformat": 4,
 "nbformat_minor": 5
}
