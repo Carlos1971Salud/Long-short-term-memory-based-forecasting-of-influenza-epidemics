{
 "cells": [
  {
   "cell_type": "markdown",
   "id": "5ca331b2",
   "metadata": {},
   "source": [
    "# Load dataset & preprocessing"
   ]
  },
  {
   "cell_type": "code",
   "execution_count": 2,
   "id": "20b9b46c",
   "metadata": {},
   "outputs": [],
   "source": [
    "import pandas as pd\n",
    "import numpy as np\n",
    "import os\n",
    "\n",
    "root_dir = \"datasets/infuluenza/\"\n",
    "data_path = root_dir + \"Influenza.csv\"\n",
    "exp_dir = \"datasets/infuluenza/vecLSTM_noTemp/\"\n",
    "\n",
    "if not os.path.exists(exp_dir):\n",
    "    os.makedirs(exp_dir)\n",
    "\n",
    "df = pd.read_csv(data_path)"
   ]
  },
  {
   "cell_type": "code",
   "execution_count": 5,
   "id": "d6b34ce4",
   "metadata": {},
   "outputs": [
    {
     "data": {
      "text/html": [
       "<div>\n",
       "<style scoped>\n",
       "    .dataframe tbody tr th:only-of-type {\n",
       "        vertical-align: middle;\n",
       "    }\n",
       "\n",
       "    .dataframe tbody tr th {\n",
       "        vertical-align: top;\n",
       "    }\n",
       "\n",
       "    .dataframe thead th {\n",
       "        text-align: right;\n",
       "    }\n",
       "</style>\n",
       "<table border=\"1\" class=\"dataframe\">\n",
       "  <thead>\n",
       "    <tr style=\"text-align: right;\">\n",
       "      <th></th>\n",
       "      <th>Alltime</th>\n",
       "      <th>Time</th>\n",
       "      <th>region</th>\n",
       "      <th>regnames</th>\n",
       "      <th>Longitude</th>\n",
       "      <th>Latitude</th>\n",
       "      <th>Altitude</th>\n",
       "      <th>Year</th>\n",
       "      <th>Month</th>\n",
       "      <th>Week</th>\n",
       "      <th>Flucases</th>\n",
       "      <th>Holiday</th>\n",
       "      <th>Tempave</th>\n",
       "      <th>Tempmin</th>\n",
       "      <th>Tempmax</th>\n",
       "      <th>Rh</th>\n",
       "    </tr>\n",
       "  </thead>\n",
       "  <tbody>\n",
       "    <tr>\n",
       "      <th>12480</th>\n",
       "      <td>12481</td>\n",
       "      <td>1</td>\n",
       "      <td>13</td>\n",
       "      <td>Tokyo</td>\n",
       "      <td>35.689185</td>\n",
       "      <td>139.691648</td>\n",
       "      <td>34.9</td>\n",
       "      <td>2000</td>\n",
       "      <td>1</td>\n",
       "      <td>1</td>\n",
       "      <td>818</td>\n",
       "      <td>2</td>\n",
       "      <td>9.528571</td>\n",
       "      <td>6.371429</td>\n",
       "      <td>13.385714</td>\n",
       "      <td>50.571429</td>\n",
       "    </tr>\n",
       "    <tr>\n",
       "      <th>12481</th>\n",
       "      <td>12482</td>\n",
       "      <td>2</td>\n",
       "      <td>13</td>\n",
       "      <td>Tokyo</td>\n",
       "      <td>35.689185</td>\n",
       "      <td>139.691648</td>\n",
       "      <td>34.9</td>\n",
       "      <td>2000</td>\n",
       "      <td>1</td>\n",
       "      <td>2</td>\n",
       "      <td>1167</td>\n",
       "      <td>3</td>\n",
       "      <td>8.642857</td>\n",
       "      <td>5.457143</td>\n",
       "      <td>12.000000</td>\n",
       "      <td>61.142857</td>\n",
       "    </tr>\n",
       "    <tr>\n",
       "      <th>12482</th>\n",
       "      <td>12483</td>\n",
       "      <td>3</td>\n",
       "      <td>13</td>\n",
       "      <td>Tokyo</td>\n",
       "      <td>35.689185</td>\n",
       "      <td>139.691648</td>\n",
       "      <td>34.9</td>\n",
       "      <td>2000</td>\n",
       "      <td>1</td>\n",
       "      <td>3</td>\n",
       "      <td>2562</td>\n",
       "      <td>2</td>\n",
       "      <td>6.828571</td>\n",
       "      <td>4.171429</td>\n",
       "      <td>9.500000</td>\n",
       "      <td>56.000000</td>\n",
       "    </tr>\n",
       "    <tr>\n",
       "      <th>12483</th>\n",
       "      <td>12484</td>\n",
       "      <td>4</td>\n",
       "      <td>13</td>\n",
       "      <td>Tokyo</td>\n",
       "      <td>35.689185</td>\n",
       "      <td>139.691648</td>\n",
       "      <td>34.9</td>\n",
       "      <td>2000</td>\n",
       "      <td>1</td>\n",
       "      <td>4</td>\n",
       "      <td>3781</td>\n",
       "      <td>2</td>\n",
       "      <td>5.342857</td>\n",
       "      <td>1.542857</td>\n",
       "      <td>9.400000</td>\n",
       "      <td>42.000000</td>\n",
       "    </tr>\n",
       "    <tr>\n",
       "      <th>12484</th>\n",
       "      <td>12485</td>\n",
       "      <td>5</td>\n",
       "      <td>13</td>\n",
       "      <td>Tokyo</td>\n",
       "      <td>35.689185</td>\n",
       "      <td>139.691648</td>\n",
       "      <td>34.9</td>\n",
       "      <td>2000</td>\n",
       "      <td>1</td>\n",
       "      <td>5</td>\n",
       "      <td>3903</td>\n",
       "      <td>2</td>\n",
       "      <td>7.214286</td>\n",
       "      <td>3.171429</td>\n",
       "      <td>11.585714</td>\n",
       "      <td>38.714286</td>\n",
       "    </tr>\n",
       "  </tbody>\n",
       "</table>\n",
       "</div>"
      ],
      "text/plain": [
       "       Alltime  Time  region regnames  Longitude    Latitude  Altitude  Year  \\\n",
       "12480    12481     1      13    Tokyo  35.689185  139.691648      34.9  2000   \n",
       "12481    12482     2      13    Tokyo  35.689185  139.691648      34.9  2000   \n",
       "12482    12483     3      13    Tokyo  35.689185  139.691648      34.9  2000   \n",
       "12483    12484     4      13    Tokyo  35.689185  139.691648      34.9  2000   \n",
       "12484    12485     5      13    Tokyo  35.689185  139.691648      34.9  2000   \n",
       "\n",
       "       Month  Week  Flucases  Holiday   Tempave   Tempmin    Tempmax  \\\n",
       "12480      1     1       818        2  9.528571  6.371429  13.385714   \n",
       "12481      1     2      1167        3  8.642857  5.457143  12.000000   \n",
       "12482      1     3      2562        2  6.828571  4.171429   9.500000   \n",
       "12483      1     4      3781        2  5.342857  1.542857   9.400000   \n",
       "12484      1     5      3903        2  7.214286  3.171429  11.585714   \n",
       "\n",
       "              Rh  \n",
       "12480  50.571429  \n",
       "12481  61.142857  \n",
       "12482  56.000000  \n",
       "12483  42.000000  \n",
       "12484  38.714286  "
      ]
     },
     "execution_count": 5,
     "metadata": {},
     "output_type": "execute_result"
    }
   ],
   "source": [
    "df_tokyo = df[df['regnames'].isin([\"Tokyo\"])]\n",
    "\n",
    "df_tokyo.head()"
   ]
  },
  {
   "cell_type": "code",
   "execution_count": null,
   "id": "8858714b",
   "metadata": {},
   "outputs": [],
   "source": []
  },
  {
   "cell_type": "code",
   "execution_count": null,
   "id": "aaef683c",
   "metadata": {},
   "outputs": [],
   "source": []
  },
  {
   "cell_type": "code",
   "execution_count": 6,
   "id": "07d66e3e",
   "metadata": {},
   "outputs": [
    {
     "data": {
      "text/plain": [
       "(780, 260)"
      ]
     },
     "execution_count": 6,
     "metadata": {},
     "output_type": "execute_result"
    }
   ],
   "source": [
    "train_n = int(len(df_tokyo[\"Flucases\"])*0.75)\n",
    "test_n = int(len(df_tokyo[\"Flucases\"])*0.25)\n",
    "train_n, test_n"
   ]
  },
  {
   "cell_type": "code",
   "execution_count": 7,
   "id": "6e5f1dea",
   "metadata": {},
   "outputs": [],
   "source": [
    "train_steps = np.arange(train_n)\n",
    "test_steps = np.arange(train_n,train_n + test_n)"
   ]
  },
  {
   "cell_type": "code",
   "execution_count": 8,
   "id": "f57ca9f7",
   "metadata": {},
   "outputs": [],
   "source": [
    "columns = [\"Flucases\",\"Tempave\", \"Rh\", \"Holiday\"]\n",
    "\n",
    "all_data = df_tokyo[columns]"
   ]
  },
  {
   "cell_type": "code",
   "execution_count": 9,
   "id": "15a2acb5",
   "metadata": {},
   "outputs": [],
   "source": [
    "train_df = all_data[columns][0:train_n]\n",
    "test_df = all_data[columns][train_n:train_n+test_n]"
   ]
  },
  {
   "cell_type": "code",
   "execution_count": 10,
   "id": "82e63f59",
   "metadata": {},
   "outputs": [
    {
     "data": {
      "text/html": [
       "<div>\n",
       "<style scoped>\n",
       "    .dataframe tbody tr th:only-of-type {\n",
       "        vertical-align: middle;\n",
       "    }\n",
       "\n",
       "    .dataframe tbody tr th {\n",
       "        vertical-align: top;\n",
       "    }\n",
       "\n",
       "    .dataframe thead th {\n",
       "        text-align: right;\n",
       "    }\n",
       "</style>\n",
       "<table border=\"1\" class=\"dataframe\">\n",
       "  <thead>\n",
       "    <tr style=\"text-align: right;\">\n",
       "      <th></th>\n",
       "      <th>Flucases</th>\n",
       "      <th>Tempave</th>\n",
       "      <th>Rh</th>\n",
       "      <th>Holiday</th>\n",
       "    </tr>\n",
       "  </thead>\n",
       "  <tbody>\n",
       "    <tr>\n",
       "      <th>12480</th>\n",
       "      <td>818</td>\n",
       "      <td>9.528571</td>\n",
       "      <td>50.571429</td>\n",
       "      <td>2</td>\n",
       "    </tr>\n",
       "    <tr>\n",
       "      <th>12481</th>\n",
       "      <td>1167</td>\n",
       "      <td>8.642857</td>\n",
       "      <td>61.142857</td>\n",
       "      <td>3</td>\n",
       "    </tr>\n",
       "    <tr>\n",
       "      <th>12482</th>\n",
       "      <td>2562</td>\n",
       "      <td>6.828571</td>\n",
       "      <td>56.000000</td>\n",
       "      <td>2</td>\n",
       "    </tr>\n",
       "    <tr>\n",
       "      <th>12483</th>\n",
       "      <td>3781</td>\n",
       "      <td>5.342857</td>\n",
       "      <td>42.000000</td>\n",
       "      <td>2</td>\n",
       "    </tr>\n",
       "    <tr>\n",
       "      <th>12484</th>\n",
       "      <td>3903</td>\n",
       "      <td>7.214286</td>\n",
       "      <td>38.714286</td>\n",
       "      <td>2</td>\n",
       "    </tr>\n",
       "  </tbody>\n",
       "</table>\n",
       "</div>"
      ],
      "text/plain": [
       "       Flucases   Tempave         Rh  Holiday\n",
       "12480       818  9.528571  50.571429        2\n",
       "12481      1167  8.642857  61.142857        3\n",
       "12482      2562  6.828571  56.000000        2\n",
       "12483      3781  5.342857  42.000000        2\n",
       "12484      3903  7.214286  38.714286        2"
      ]
     },
     "execution_count": 10,
     "metadata": {},
     "output_type": "execute_result"
    }
   ],
   "source": [
    "train_df.head()"
   ]
  },
  {
   "cell_type": "code",
   "execution_count": 11,
   "id": "686fe0d2",
   "metadata": {},
   "outputs": [
    {
     "data": {
      "text/html": [
       "<div>\n",
       "<style scoped>\n",
       "    .dataframe tbody tr th:only-of-type {\n",
       "        vertical-align: middle;\n",
       "    }\n",
       "\n",
       "    .dataframe tbody tr th {\n",
       "        vertical-align: top;\n",
       "    }\n",
       "\n",
       "    .dataframe thead th {\n",
       "        text-align: right;\n",
       "    }\n",
       "</style>\n",
       "<table border=\"1\" class=\"dataframe\">\n",
       "  <thead>\n",
       "    <tr style=\"text-align: right;\">\n",
       "      <th></th>\n",
       "      <th>Flucases</th>\n",
       "      <th>Tempave</th>\n",
       "      <th>Rh</th>\n",
       "      <th>Holiday</th>\n",
       "    </tr>\n",
       "  </thead>\n",
       "  <tbody>\n",
       "    <tr>\n",
       "      <th>13260</th>\n",
       "      <td>3809</td>\n",
       "      <td>5.357143</td>\n",
       "      <td>47.142857</td>\n",
       "      <td>3</td>\n",
       "    </tr>\n",
       "    <tr>\n",
       "      <th>13261</th>\n",
       "      <td>9892</td>\n",
       "      <td>6.285714</td>\n",
       "      <td>38.285714</td>\n",
       "      <td>2</td>\n",
       "    </tr>\n",
       "    <tr>\n",
       "      <th>13262</th>\n",
       "      <td>8198</td>\n",
       "      <td>5.628571</td>\n",
       "      <td>53.857143</td>\n",
       "      <td>3</td>\n",
       "    </tr>\n",
       "    <tr>\n",
       "      <th>13263</th>\n",
       "      <td>9625</td>\n",
       "      <td>6.771429</td>\n",
       "      <td>63.714286</td>\n",
       "      <td>2</td>\n",
       "    </tr>\n",
       "    <tr>\n",
       "      <th>13264</th>\n",
       "      <td>7844</td>\n",
       "      <td>4.228571</td>\n",
       "      <td>49.000000</td>\n",
       "      <td>2</td>\n",
       "    </tr>\n",
       "  </tbody>\n",
       "</table>\n",
       "</div>"
      ],
      "text/plain": [
       "       Flucases   Tempave         Rh  Holiday\n",
       "13260      3809  5.357143  47.142857        3\n",
       "13261      9892  6.285714  38.285714        2\n",
       "13262      8198  5.628571  53.857143        3\n",
       "13263      9625  6.771429  63.714286        2\n",
       "13264      7844  4.228571  49.000000        2"
      ]
     },
     "execution_count": 11,
     "metadata": {},
     "output_type": "execute_result"
    }
   ],
   "source": [
    "test_df.head()"
   ]
  },
  {
   "cell_type": "markdown",
   "id": "a16ff1c5",
   "metadata": {},
   "source": [
    "trainとtestのdfを作る"
   ]
  },
  {
   "cell_type": "code",
   "execution_count": 12,
   "id": "ff4f21be",
   "metadata": {},
   "outputs": [],
   "source": [
    "train_ts_df = train_df[\"Flucases\"]\n",
    "train_ys_df = train_df[[\"Rh\"]]\n",
    "train_xs_df = train_df[\"Holiday\"]\n",
    "\n",
    "test_ts_df = test_df[\"Flucases\"]\n",
    "test_ys_df = test_df[[\"Rh\"]]\n",
    "test_xs_df = test_df[\"Holiday\"]"
   ]
  },
  {
   "cell_type": "code",
   "execution_count": 13,
   "id": "b42f5863",
   "metadata": {},
   "outputs": [],
   "source": [
    "from sklearn.preprocessing import StandardScaler, MinMaxScaler\n",
    "std_scaler = StandardScaler()\n",
    "\n",
    "std_scaler.fit(train_ys_df)\n",
    "train_scaled_ys = std_scaler.transform(train_ys_df)"
   ]
  },
  {
   "cell_type": "code",
   "execution_count": 14,
   "id": "ba67628e",
   "metadata": {},
   "outputs": [
    {
     "data": {
      "text/plain": [
       "['datasets/infuluenza/vecLSTM_noTemp/std_scaler.joblib']"
      ]
     },
     "execution_count": 14,
     "metadata": {},
     "output_type": "execute_result"
    }
   ],
   "source": [
    "import joblib\n",
    "\n",
    "joblib.dump(std_scaler, exp_dir + 'std_scaler.joblib')"
   ]
  },
  {
   "cell_type": "code",
   "execution_count": 15,
   "id": "b988ed9f",
   "metadata": {},
   "outputs": [],
   "source": [
    "#元のデータの最大値と最小値を指定\n",
    "dat_min = 0\n",
    "dat_max = 3e5\n",
    "\n",
    "#スケール後の最大値と最小値を指定\n",
    "custom_min = 0\n",
    "custom_max = 100\n",
    "\n",
    "train_scaled_ts = (np.array(train_ts_df) - dat_min) / (dat_max - dat_min) * (custom_max - custom_min) + custom_min"
   ]
  },
  {
   "cell_type": "code",
   "execution_count": 17,
   "id": "5b124121",
   "metadata": {},
   "outputs": [
    {
     "data": {
      "text/plain": [
       "(array([596.,  46.,  33.,  20.,  10.,  13.,  11.,   4.,  12.,   6.,   2.,\n",
       "          5.,   3.,   2.,   1.,   4.,   1.,   2.,   3.,   1.,   0.,   0.,\n",
       "          3.,   0.,   2.]),\n",
       " array([0.     , 0.25252, 0.50504, 0.75756, 1.01008, 1.2626 , 1.51512,\n",
       "        1.76764, 2.02016, 2.27268, 2.5252 , 2.77772, 3.03024, 3.28276,\n",
       "        3.53528, 3.7878 , 4.04032, 4.29284, 4.54536, 4.79788, 5.0504 ,\n",
       "        5.30292, 5.55544, 5.80796, 6.06048, 6.313  ]),\n",
       " <BarContainer object of 25 artists>)"
      ]
     },
     "execution_count": 17,
     "metadata": {},
     "output_type": "execute_result"
    },
    {
     "data": {
      "image/png": "[encoded data removed]",
      "text/plain": [
       "<Figure size 640x480 with 1 Axes>"
      ]
     },
     "metadata": {},
     "output_type": "display_data"
    }
   ],
   "source": [
    "import matplotlib.pyplot as plt\n",
    "\n",
    "plt.hist(train_scaled_ts,bins=25)"
   ]
  },
  {
   "cell_type": "code",
   "execution_count": 18,
   "id": "50d6481a",
   "metadata": {},
   "outputs": [],
   "source": [
    "train_ts_np, train_ys_np, train_xs_np = train_scaled_ts, train_scaled_ys, np.array(train_xs_df)\n",
    "test_ts_np, test_ys_np, test_xs_np = np.array(test_ts_df), np.array(test_ys_df), np.array(test_xs_df)"
   ]
  },
  {
   "cell_type": "code",
   "execution_count": 19,
   "id": "b30f9290",
   "metadata": {},
   "outputs": [
    {
     "data": {
      "text/plain": [
       "((780,), (780, 1), (780,))"
      ]
     },
     "execution_count": 19,
     "metadata": {},
     "output_type": "execute_result"
    }
   ],
   "source": [
    "train_ts_np.shape, train_ys_np.shape, train_xs_np.shape"
   ]
  },
  {
   "cell_type": "markdown",
   "id": "542ec5c8",
   "metadata": {},
   "source": [
    "# Make Dataset"
   ]
  },
  {
   "cell_type": "code",
   "execution_count": 20,
   "id": "5b481d24",
   "metadata": {},
   "outputs": [],
   "source": [
    "train_np = np.concatenate([train_ts_np.reshape(-1,1), train_ys_np, train_xs_np.reshape(-1,1)], axis = 1)\n",
    "test_np = np.concatenate([test_ts_np.reshape(-1,1), test_ys_np, test_xs_np.reshape(-1,1)], axis = 1)"
   ]
  },
  {
   "cell_type": "code",
   "execution_count": 21,
   "id": "7c89e276",
   "metadata": {},
   "outputs": [
    {
     "data": {
      "text/plain": [
       "((780, 3), (260, 3))"
      ]
     },
     "execution_count": 21,
     "metadata": {},
     "output_type": "execute_result"
    }
   ],
   "source": [
    "train_np.shape, test_np.shape"
   ]
  },
  {
   "cell_type": "code",
   "execution_count": 22,
   "id": "c4650579",
   "metadata": {},
   "outputs": [],
   "source": [
    "from typing import Tuple\n",
    "\n",
    "def make_sequence_data(data: np.ndarray, seq_size: int) -> Tuple[np.ndarray, np.ndarray]:\n",
    "    \n",
    "    \"\"\"データをsequence_sizeに指定したサイズのシーケンスに分けてシーケンスとその答えをarrayで返す\n",
    "    Args:\n",
    "        data (np.ndarray): 入力データ\n",
    "        seq_size (int): シーケンスサイズ\n",
    "    Returns:\n",
    "        seq_arr: seq_sizeに指定した数のシーケンスを格納するarray\n",
    "        target_arr: シーケンスに対応する答えを格納するarray\n",
    "    \"\"\"\n",
    "\n",
    "    num_data = len(data)\n",
    "    seq_data = []\n",
    "    target_data = []\n",
    "    \n",
    "    for i in range(num_data - seq_size):\n",
    "        seq_data.append(data[i:i+seq_size])\n",
    "        target_data.append(data[i+seq_size:i+seq_size+1])\n",
    "        \n",
    "    seq_arr = np.array(seq_data)\n",
    "    target_arr = np.array(target_data)\n",
    "\n",
    "    return seq_arr, target_arr"
   ]
  },
  {
   "cell_type": "code",
   "execution_count": 23,
   "id": "b848fb39",
   "metadata": {},
   "outputs": [],
   "source": [
    "#何週前のデータから予測するか\n",
    "\n",
    "seq_length = 13\n",
    "\n",
    "train_Xs, train_ys = make_sequence_data(train_np, seq_length)"
   ]
  },
  {
   "cell_type": "code",
   "execution_count": 24,
   "id": "7274fe37",
   "metadata": {},
   "outputs": [
    {
     "data": {
      "text/plain": [
       "((767, 13, 3), (767, 1, 3))"
      ]
     },
     "execution_count": 24,
     "metadata": {},
     "output_type": "execute_result"
    }
   ],
   "source": [
    "train_Xs.shape, train_ys.shape"
   ]
  },
  {
   "cell_type": "code",
   "execution_count": 25,
   "id": "7dd4f978",
   "metadata": {},
   "outputs": [],
   "source": [
    "np.save(exp_dir + \"train_X_\" + str(seq_length) + \"w.npy\", train_Xs)\n",
    "np.save(exp_dir + \"train_y_\" + str(seq_length) + \"w.npy\", train_ys)"
   ]
  },
  {
   "cell_type": "code",
   "execution_count": 26,
   "id": "9a831b9a",
   "metadata": {},
   "outputs": [],
   "source": [
    "np.save(exp_dir + \"train_np.npy\", train_np)\n",
    "np.save(exp_dir + \"test_np.npy\", test_np)"
   ]
  },
  {
   "cell_type": "code",
   "execution_count": null,
   "id": "156bdc14",
   "metadata": {},
   "outputs": [],
   "source": []
  },
  {
   "cell_type": "markdown",
   "id": "8396290a",
   "metadata": {},
   "source": [
    "# Dataset and DataLoader"
   ]
  },
  {
   "cell_type": "code",
   "execution_count": 27,
   "id": "6674accc",
   "metadata": {},
   "outputs": [],
   "source": [
    "import os\n",
    "import torch\n",
    "from torch import nn\n",
    "from torch.utils.data import DataLoader\n",
    "from torchvision import datasets, transforms\n",
    "\n",
    "import torch\n",
    "import torch.nn as nn\n",
    "from torch.nn import Sequential, Linear, Tanh, Sigmoid, LeakyReLU, ReLU\n",
    "import torch.nn.functional as F\n",
    "import torch.optim as optim\n",
    "\n",
    "import numpy as np #数値計算用ライブラリ\n",
    "import matplotlib.pyplot as plt #描画用ライブラリ"
   ]
  },
  {
   "cell_type": "code",
   "execution_count": 21,
   "id": "d3eb91c9",
   "metadata": {},
   "outputs": [],
   "source": [
    "root_dir = \"datasets/infuluenza/\"\n",
    "data_path = root_dir + \"Influenza.csv\"\n",
    "exp_dir = \"datasets/infuluenza/vecLSTM_noTemp/\""
   ]
  },
  {
   "cell_type": "code",
   "execution_count": 28,
   "id": "61180435",
   "metadata": {},
   "outputs": [],
   "source": [
    "train_Xs = np.load(exp_dir + \"train_X_\" + str(seq_length) + \"w.npy\")\n",
    "train_ys = np.load(exp_dir + \"train_y_\" + str(seq_length) + \"w.npy\")"
   ]
  },
  {
   "cell_type": "code",
   "execution_count": 29,
   "id": "1653719a",
   "metadata": {},
   "outputs": [
    {
     "data": {
      "text/plain": [
       "((767, 13, 3), (767, 1, 3))"
      ]
     },
     "execution_count": 29,
     "metadata": {},
     "output_type": "execute_result"
    }
   ],
   "source": [
    "train_Xs.shape, train_ys.shape"
   ]
  },
  {
   "cell_type": "code",
   "execution_count": 30,
   "id": "68c17d39",
   "metadata": {},
   "outputs": [],
   "source": [
    "import joblib\n",
    "\n",
    "# スケーラーの読み込み\n",
    "std_scaler = joblib.load(exp_dir + 'std_scaler.joblib')"
   ]
  },
  {
   "cell_type": "code",
   "execution_count": 31,
   "id": "d9e414b5",
   "metadata": {},
   "outputs": [
    {
     "name": "stdout",
     "output_type": "stream",
     "text": [
      "(767,)\n"
     ]
    }
   ],
   "source": [
    "import pandas as pd\n",
    "\n",
    "labels = train_ys[:,:,0]\n",
    "print(labels[:,0].shape)\n",
    "binned_labels = pd.qcut(labels[:,0], q=10, labels=False, duplicates='drop')"
   ]
  },
  {
   "cell_type": "code",
   "execution_count": 32,
   "id": "74e6b696",
   "metadata": {},
   "outputs": [],
   "source": [
    "import numpy as np\n",
    "from sklearn.model_selection import train_test_split\n",
    "\n",
    "train_Xs, val_Xs, train_ys, val_ys = train_test_split(\n",
    "    train_Xs, train_ys, test_size=0.20, stratify=binned_labels, random_state=42\n",
    ")"
   ]
  },
  {
   "cell_type": "code",
   "execution_count": 33,
   "id": "81c32125",
   "metadata": {},
   "outputs": [],
   "source": [
    "np.save(exp_dir + \"train_Xs_\" + str(seq_length) + \"w.npy\", train_Xs)\n",
    "np.save(exp_dir + \"train_ys_\" + str(seq_length) + \"w.npy\", train_ys)\n",
    "np.save(exp_dir + \"val_Xs_\" + str(seq_length) + \"w.npy\", val_Xs)\n",
    "np.save(exp_dir + \"val_ys_\" + str(seq_length) + \"w.npy\", val_ys)"
   ]
  }
 ],
 "metadata": {
  "kernelspec": {
   "display_name": "Python 3 (ipykernel)",
   "language": "python",
   "name": "python3"
  },
  "language_info": {
   "codemirror_mode": {
    "name": "ipython",
    "version": 3
   },
   "file_extension": ".py",
   "mimetype": "text/x-python",
   "name": "python",
   "nbconvert_exporter": "python",
   "pygments_lexer": "ipython3",
   "version": "3.10.13"
  }
 },
 "nbformat": 4,
 "nbformat_minor": 5
}
